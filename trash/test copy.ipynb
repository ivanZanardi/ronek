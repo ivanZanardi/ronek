{
 "cells": [
  {
   "cell_type": "code",
   "execution_count": 1,
   "metadata": {},
   "outputs": [],
   "source": [
    "import sys\n",
    "import torch\n",
    "import numpy as np\n",
    "import pandas as pd\n",
    "import matplotlib.pyplot as plt"
   ]
  },
  {
   "cell_type": "code",
   "execution_count": 2,
   "metadata": {},
   "outputs": [],
   "source": [
    "sys.path.append(\"/home/zanardi/Codes/ML/RONEK/ronek/\")\n",
    "from ronek import env\n",
    "from ronek import const\n",
    "from ronek.plasmas import ArgonCR\n",
    "import ronek.backend as bkd"
   ]
  },
  {
   "cell_type": "code",
   "execution_count": 3,
   "metadata": {},
   "outputs": [],
   "source": [
    "env_opts = {\n",
    "  \"backend\": \"numpy\",\n",
    "  \"device\": \"cpu\",\n",
    "  \"device_idx\": 0,\n",
    "  \"nb_threads\": 8,\n",
    "  \"epsilon\": 1e-10,\n",
    "  \"floatx\": \"float64\"\n",
    "}\n",
    "env.set(**env_opts)"
   ]
  },
  {
   "cell_type": "code",
   "execution_count": 4,
   "metadata": {},
   "outputs": [],
   "source": [
    "path_to_dtb = \"/home/zanardi/Codes/ML/RONEK/ronek/examples/CR_Ar/database\""
   ]
  },
  {
   "cell_type": "code",
   "execution_count": 5,
   "metadata": {},
   "outputs": [],
   "source": [
    "model = ArgonCR(\n",
    "  species={k: path_to_dtb + \"/species/\" + k + \".json\" for k in (\"Ar\", \"Arp\", \"em\")},\n",
    "  kin_dtb=path_to_dtb + \"/rates/kin_fit.p\",\n",
    "  use_coll_int_fit=True,\n",
    "  use_pe=True\n",
    ")"
   ]
  },
  {
   "cell_type": "code",
   "execution_count": 6,
   "metadata": {},
   "outputs": [],
   "source": [
    "sol_ref = \"/home/zanardi/Workspace/AirDatabase/ThermoChemModels/MT/run/CR_Ar/output_box\""
   ]
  },
  {
   "cell_type": "code",
   "execution_count": null,
   "metadata": {},
   "outputs": [],
   "source": [
    "columns = \"t X_em X_Ar X_Arp Th Te rho p n E\".split()\n",
    "box = np.loadtxt(sol_ref + \"/box.dat\")\n",
    "box = pd.DataFrame(box, columns=columns)\n",
    "box"
   ]
  },
  {
   "cell_type": "code",
   "execution_count": 8,
   "metadata": {},
   "outputs": [],
   "source": [
    "t = box[\"t\"].values\n",
    "rho, Th0, Te0 = [box[k][0] for k in (\"rho\", \"Th\", \"Te\")]\n",
    "model.rho = rho"
   ]
  },
  {
   "cell_type": "code",
   "execution_count": 9,
   "metadata": {},
   "outputs": [],
   "source": [
    "def read_pop(name):\n",
    "  ni_gi  = np.loadtxt(sol_ref + f\"/pop_{name}.dat\", comments=\"&\", skiprows=2)[:,1]\n",
    "  levels = model.mix.species[name].lev\n",
    "  nb_pts = len(ni_gi) / len(levels[\"g\"])\n",
    "  ni_gi  = np.stack(np.split(ni_gi, nb_pts, axis=0), axis=0)\n",
    "  return ni_gi * levels[\"g\"].numpy()"
   ]
  },
  {
   "cell_type": "code",
   "execution_count": 10,
   "metadata": {},
   "outputs": [],
   "source": [
    "n = {k: read_pop(k) for k in (\"Ar\", \"Arp\")}\n",
    "n[\"em\"] = (box[\"X_em\"] * box[\"n\"]).values.reshape(-1,1)\n",
    "n = np.hstack([n[k] for k in model.species_order]).T\n",
    "w_true = model.mix.get_w(rho, bkd.to_torch(n)).numpy()\n",
    "T_true = box[[\"Th\", \"Te\"]].values.T"
   ]
  },
  {
   "cell_type": "code",
   "execution_count": null,
   "metadata": {},
   "outputs": [],
   "source": [
    "y0 = np.zeros(model.nb_eqs)\n",
    "y0[:model.mix.nb_comp] = w_true[:,0]\n",
    "y0[-2] = Th0\n",
    "y0[-1] = Te0"
   ]
  },
  {
   "cell_type": "code",
   "execution_count": 11,
   "metadata": {},
   "outputs": [],
   "source": [
    "y0 = np.zeros(model.nb_eqs)\n",
    "y0[:model.mix.nb_comp] = w_true[:,0]\n",
    "y0[-2] = Th0\n",
    "y0[-1] = Te0\n",
    "model.pre_proc(y0, rho)\n",
    "y0[-1] += const.PMIN\n",
    "y0 = bkd.to_torch(y0).requires_grad_()\n"
   ]
  },
  {
   "cell_type": "code",
   "execution_count": null,
   "metadata": {},
   "outputs": [],
   "source": [
    "model._fun2(y0)"
   ]
  },
  {
   "cell_type": "code",
   "execution_count": null,
   "metadata": {},
   "outputs": [],
   "source": [
    "jac = torch.func.jacrev(model._fun2, argnums=0)\n",
    "j = jac(y0)\n",
    "j"
   ]
  },
  {
   "cell_type": "code",
   "execution_count": null,
   "metadata": {},
   "outputs": [],
   "source": [
    "j = jac(y0)\n",
    "for i in range(j.shape[0]):\n",
    "  print(j[i])"
   ]
  },
  {
   "cell_type": "code",
   "execution_count": null,
   "metadata": {},
   "outputs": [],
   "source": [
    "stop\n"
   ]
  },
  {
   "cell_type": "code",
   "execution_count": 25,
   "metadata": {},
   "outputs": [],
   "source": [
    "from torch.autograd.gradcheck import gradcheck"
   ]
  },
  {
   "cell_type": "code",
   "execution_count": null,
   "metadata": {},
   "outputs": [],
   "source": [
    "gradcheck(model._fun2, y0, eps=1e-16, atol=1e-15, rtol=1e-8)\n",
    "# , *, eps=1e-06, atol=1e-05, rtol=0.001, raise_exception=True, nondet_tol=0.0, check_undefined_grad=True, check_grad_dtypes=False, check_batched_grad=False, check_batched_forward_grad=False, check_forward_ad=False, check_backward_ad=True, fast_mode=False, masked=None)"
   ]
  },
  {
   "cell_type": "code",
   "execution_count": 11,
   "metadata": {},
   "outputs": [],
   "source": [
    "y = model.solve(t, y0, rho)\n",
    "w_pred = y[:model.mix.nb_comp]\n",
    "T_pred = y[model.mix.nb_comp:]"
   ]
  },
  {
   "cell_type": "code",
   "execution_count": null,
   "metadata": {},
   "outputs": [],
   "source": [
    "err = []\n",
    "for i in range(2):\n",
    "  ierr = np.mean(np.abs((T_true[i] - T_pred[i])/T_true[i]))\n",
    "  err.append(ierr)\n",
    "  plt.loglog(t[1:], T_true[i][1:])\n",
    "  plt.loglog(t[1:], T_pred[i][1:], ls=\"--\", color=plt.gca().lines[-1].get_color())\n",
    "print(\"T\")\n",
    "print(np.mean(err))\n",
    "plt.show()\n",
    "plt.close()"
   ]
  },
  {
   "cell_type": "code",
   "execution_count": null,
   "metadata": {},
   "outputs": [],
   "source": [
    "err = []\n",
    "for i in range(2):\n",
    "  ierr = np.mean(np.abs((T_true[i] - T_pred[i])/T_true[i]))\n",
    "  err.append(ierr)\n",
    "  plt.semilogx(t[1:], T_true[i][1:])\n",
    "  plt.semilogx(t[1:], T_pred[i][1:], ls=\"--\", color=plt.gca().lines[-1].get_color())\n",
    "print(\"T\")\n",
    "print(np.mean(err))\n",
    "plt.show()\n",
    "plt.close()"
   ]
  },
  {
   "cell_type": "code",
   "execution_count": null,
   "metadata": {},
   "outputs": [],
   "source": [
    "for s in model.mix.species.values():\n",
    "  print(s.name)\n",
    "  err = []\n",
    "  for i in s.indices:\n",
    "    ierr = np.mean(np.abs((w_true[i] - w_pred[i])/w_true[i]))\n",
    "    err.append(ierr)\n",
    "    plt.loglog(t[1:], w_true[i][1:])\n",
    "    plt.loglog(t[1:], w_pred[i][1:], ls=\"--\", color=plt.gca().lines[-1].get_color())\n",
    "  print(np.mean(err))\n",
    "  plt.show()\n",
    "  plt.close()"
   ]
  }
 ],
 "metadata": {
  "kernelspec": {
   "display_name": "sciml",
   "language": "python",
   "name": "python3"
  },
  "language_info": {
   "codemirror_mode": {
    "name": "ipython",
    "version": 3
   },
   "file_extension": ".py",
   "mimetype": "text/x-python",
   "name": "python",
   "nbconvert_exporter": "python",
   "pygments_lexer": "ipython3",
   "version": "3.8.15"
  }
 },
 "nbformat": 4,
 "nbformat_minor": 2
}
