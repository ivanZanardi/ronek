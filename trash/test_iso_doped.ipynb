{
 "cells": [
  {
   "cell_type": "code",
   "execution_count": 9,
   "metadata": {},
   "outputs": [],
   "source": [
    "import sys\n",
    "import copy\n",
    "import torch\n",
    "import numpy as np\n",
    "import scipy as sp\n",
    "import pandas as pd\n",
    "import matplotlib.pyplot as plt"
   ]
  },
  {
   "cell_type": "code",
   "execution_count": 24,
   "metadata": {},
   "outputs": [],
   "source": [
    "sys.path.append(\"/home/zanardi/Codes/ML/RONEK/ronek/\")\n",
    "from ronek.systems import TAFASystem\n",
    "from ronek import const"
   ]
  },
  {
   "cell_type": "code",
   "execution_count": 11,
   "metadata": {},
   "outputs": [],
   "source": [
    "T = 1e4\n",
    "rho = 1e-3"
   ]
  },
  {
   "cell_type": "code",
   "execution_count": 12,
   "metadata": {},
   "outputs": [],
   "source": [
    "path_to_dtb = \"/home/zanardi/Codes/ML/RONEK/ronek/examples/VC_O3_O4/database/\"\n",
    "system = TAFASystem(\n",
    "  species={\n",
    "    k: path_to_dtb + f\"/species/{k}.json\" for k in (\"atom\", \"molecule\")\n",
    "  },\n",
    "  rates_coeff=path_to_dtb + \"/kinetics.hdf5\",\n",
    "  use_einsum=False,\n",
    "  use_factorial=True,\n",
    "  use_arrhenius=False\n",
    ")"
   ]
  },
  {
   "cell_type": "code",
   "execution_count": null,
   "metadata": {},
   "outputs": [],
   "source": [
    "system.update_fom_ops(T)\n",
    "n_eq = system.mix.compute_eq_comp(rho)\n",
    "A = system._compute_lin_fom_ops_a_full(n_eq[0], by_mass=False)"
   ]
  },
  {
   "cell_type": "code",
   "execution_count": null,
   "metadata": {},
   "outputs": [],
   "source": [
    "j = system.jac(0.0, n_eq/const.UNA, system.fom_ops)"
   ]
  },
  {
   "cell_type": "code",
   "execution_count": 53,
   "metadata": {},
   "outputs": [],
   "source": [
    "n0 = system.mix._get_init_sol(T=3e2, w_a=1e-3, rho=rho)"
   ]
  },
  {
   "cell_type": "code",
   "execution_count": 54,
   "metadata": {},
   "outputs": [],
   "source": [
    "t = system.get_tgrid(1e-12, 1e-2, 200)\n",
    "na, nm, runtime = system.solve_fom(t, n0)"
   ]
  },
  {
   "cell_type": "code",
   "execution_count": 55,
   "metadata": {},
   "outputs": [],
   "source": [
    "nlin = [sp.linalg.expm(A*ti) @ (n0-n_eq) + n_eq for ti in t]\n",
    "nlin = np.vstack(nlin).T\n",
    "nm_lin = nlin[1:]"
   ]
  },
  {
   "cell_type": "code",
   "execution_count": null,
   "metadata": {},
   "outputs": [],
   "source": [
    "for i in range(n0.shape[0]-1):\n",
    "  plt.loglog(t[1:], nm[i][1:])\n",
    "  plt.loglog(t[1:], nm_lin[i][1:], ls=\"--\", color=plt.gca().lines[-1].get_color())\n",
    "plt.show()\n",
    "plt.close()"
   ]
  },
  {
   "cell_type": "code",
   "execution_count": null,
   "metadata": {},
   "outputs": [],
   "source": [
    "for s in model.mix.species.values():\n",
    "print(s.name)\n",
    "err = []\n",
    "for i in s.indices:\n",
    "  ierr = np.mean(np.abs((n_true[i] - n_pred[i])/n_true[i]))\n",
    "  err.append(ierr)\n",
    "  plt.loglog(t[1:], n_true[i][1:])\n",
    "  plt.loglog(t[1:], n_pred[i][1:], ls=\"--\", color=plt.gca().lines[-1].get_color())\n",
    "plt.show()\n",
    "plt.close()"
   ]
  }
 ],
 "metadata": {
  "kernelspec": {
   "display_name": "sciml",
   "language": "python",
   "name": "python3"
  },
  "language_info": {
   "codemirror_mode": {
    "name": "ipython",
    "version": 3
   },
   "file_extension": ".py",
   "mimetype": "text/x-python",
   "name": "python",
   "nbconvert_exporter": "python",
   "pygments_lexer": "ipython3",
   "version": "3.8.15"
  }
 },
 "nbformat": 4,
 "nbformat_minor": 2
}
