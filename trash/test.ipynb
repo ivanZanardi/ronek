{
 "cells": [
  {
   "cell_type": "code",
   "execution_count": 1,
   "metadata": {},
   "outputs": [],
   "source": [
    "import sys\n",
    "import torch\n",
    "import numpy as np\n",
    "import scipy as sp\n",
    "import pandas as pd\n",
    "import matplotlib.pyplot as plt"
   ]
  },
  {
   "cell_type": "code",
   "execution_count": 2,
   "metadata": {},
   "outputs": [],
   "source": [
    "sys.path.append(\"/home/zanardi/Codes/ML/RONEK/ronek/\")\n",
    "from ronek2 import env\n",
    "from ronek2 import const\n",
    "from ronek2.roms import CoBRAS\n",
    "from ronek2 import backend as bkd\n",
    "from ronek2.systems import ArgonCR\n",
    "from ronek2.systems.equilibrium import Equilibrium"
   ]
  },
  {
   "cell_type": "code",
   "execution_count": 3,
   "metadata": {},
   "outputs": [],
   "source": [
    "env_opts = {\n",
    "  \"backend\": \"numpy\",\n",
    "  \"device\": \"cpu\",\n",
    "  \"device_idx\": 0,\n",
    "  \"nb_threads\": 2,\n",
    "  \"epsilon\": None,\n",
    "  \"floatx\": \"float64\"\n",
    "}\n",
    "env.set(**env_opts)"
   ]
  },
  {
   "cell_type": "code",
   "execution_count": 4,
   "metadata": {},
   "outputs": [],
   "source": [
    "path_to_dtb = \"/home/zanardi/Codes/ML/RONEK/ronek/examples/CR_Ar/database\""
   ]
  },
  {
   "cell_type": "code",
   "execution_count": 5,
   "metadata": {},
   "outputs": [],
   "source": [
    "model = ArgonCR(\n",
    "  species={k: path_to_dtb + \"/species/\" + k + \".json\" for k in (\"Ar\", \"Arp\", \"em\")},\n",
    "  kin_dtb=path_to_dtb + \"/rates/kin_fit.p\",\n",
    "  use_coll_int_fit=True,\n",
    "  isothermal=True\n",
    ")\n",
    "model.set_output(max_mom=2, linear=True)"
   ]
  },
  {
   "cell_type": "code",
   "execution_count": 6,
   "metadata": {},
   "outputs": [],
   "source": [
    "sol_ref = \"/home/zanardi/Workspace/AirDatabase/ThermoChemModels/StS/argon/testcase/output_box\""
   ]
  },
  {
   "cell_type": "code",
   "execution_count": null,
   "metadata": {},
   "outputs": [],
   "source": [
    "columns = \"t X_em X_Ar X_Arp Th Te rho p n E\".split()\n",
    "box = np.loadtxt(sol_ref + \"/box.dat\")\n",
    "box = pd.DataFrame(box, columns=columns)\n",
    "box"
   ]
  },
  {
   "cell_type": "code",
   "execution_count": 8,
   "metadata": {},
   "outputs": [],
   "source": [
    "t = box[\"t\"].values\n",
    "rho, Th0, Te0 = [box[k][0] for k in (\"rho\", \"Th\", \"Te\")]"
   ]
  },
  {
   "cell_type": "code",
   "execution_count": 9,
   "metadata": {},
   "outputs": [],
   "source": [
    "def read_pop(name):\n",
    "  ni_gi  = np.loadtxt(sol_ref + f\"/pop_{name}.dat\", comments=\"&\", skiprows=2)[:,1]\n",
    "  levels = model.mix.species[name].lev\n",
    "  nb_pts = len(ni_gi) / len(levels[\"g\"])\n",
    "  ni_gi  = np.stack(np.split(ni_gi, nb_pts, axis=0), axis=0)\n",
    "  return ni_gi * levels[\"g\"].numpy()"
   ]
  },
  {
   "cell_type": "code",
   "execution_count": 10,
   "metadata": {},
   "outputs": [],
   "source": [
    "n = {k: read_pop(k) for k in (\"Ar\", \"Arp\")}\n",
    "n[\"em\"] = (box[\"X_em\"] * box[\"n\"]).values.reshape(-1,1)\n",
    "n_true = np.hstack([n[k] for k in model.species_order]).T\n",
    "w_true = model.mix.get_rho(bkd.to_torch(n_true)).numpy() / rho\n",
    "T_true = box[[\"Th\", \"Te\"]].values.T"
   ]
  },
  {
   "cell_type": "code",
   "execution_count": null,
   "metadata": {},
   "outputs": [],
   "source": [
    "p = box[\"p\"].values[-1]\n",
    "T = box[\"Th\"].values[-1]\n",
    "neq = model.compute_eq_comp(torch.tensor(p), torch.tensor(T)).numpy()\n",
    "p, T"
   ]
  },
  {
   "cell_type": "code",
   "execution_count": null,
   "metadata": {},
   "outputs": [],
   "source": [
    "y0 = np.zeros(model.nb_eqs)\n",
    "y0[:model.mix.nb_comp] = n_true[:,0] / const.UNA\n",
    "y0[-2] = Th0\n",
    "y0[-1] = Te0 if model.isothermal else model.mix.get_pe(Te=Te0, ne=n_true[-1,0])\n",
    "y0"
   ]
  },
  {
   "cell_type": "code",
   "execution_count": null,
   "metadata": {},
   "outputs": [],
   "source": [
    "y, runtime = model.solve_fom(t, y0, rho)\n",
    "runtime"
   ]
  },
  {
   "cell_type": "code",
   "execution_count": null,
   "metadata": {},
   "outputs": [],
   "source": [
    "y[:,-1]"
   ]
  },
  {
   "cell_type": "code",
   "execution_count": 15,
   "metadata": {},
   "outputs": [],
   "source": [
    "# w_pred = y[:model.mix.nb_comp]\n",
    "# n_pred = model.mix.get_n(bkd.to_torch(w_pred)).numpy()\n",
    "n_pred = y[:model.mix.nb_comp] * const.UNA\n",
    "T_pred = y[model.mix.nb_comp:]\n",
    "T_pred[-1] = T_pred[-1] if model.isothermal else model.mix.get_Te(pe=T_pred[-1], ne=n_pred[-1])"
   ]
  },
  {
   "cell_type": "code",
   "execution_count": 16,
   "metadata": {},
   "outputs": [],
   "source": [
    "neq = n_pred[:,-1]\n",
    "Teq = T_pred[-1,-1]\n",
    "peq = np.sum(neq) * const.UKB * Teq\n",
    "neq_pred = model.compute_eq_comp(torch.tensor(peq), torch.tensor(Teq)).numpy()"
   ]
  },
  {
   "cell_type": "code",
   "execution_count": null,
   "metadata": {},
   "outputs": [],
   "source": [
    "err = []\n",
    "for i in range(2):\n",
    "  ierr = np.mean(np.abs((T_true[i] - T_pred[i])/T_true[i]))\n",
    "  err.append(ierr)\n",
    "  plt.loglog(t[1:], T_true[i][1:])\n",
    "  plt.loglog(t[1:], T_pred[i][1:], ls=\"--\", color=plt.gca().lines[-1].get_color())\n",
    "print(\"T\")\n",
    "print(np.mean(err))\n",
    "plt.show()\n",
    "plt.close()"
   ]
  },
  {
   "cell_type": "code",
   "execution_count": null,
   "metadata": {},
   "outputs": [],
   "source": [
    "err = []\n",
    "for i in range(2):\n",
    "  ierr = np.mean(np.abs((T_true[i] - T_pred[i])/T_true[i]))\n",
    "  err.append(ierr)\n",
    "  plt.semilogx(t[1:], T_true[i][1:])\n",
    "  plt.semilogx(t[1:], T_pred[i][1:], ls=\"--\", color=plt.gca().lines[-1].get_color())\n",
    "print(\"T\")\n",
    "print(np.mean(err))\n",
    "plt.show()\n",
    "plt.close()"
   ]
  },
  {
   "cell_type": "code",
   "execution_count": null,
   "metadata": {},
   "outputs": [],
   "source": [
    "for s in model.mix.species.values():\n",
    "  print(s.name)\n",
    "  err = []\n",
    "  for i in s.indices:\n",
    "    ierr = np.mean(np.abs((n_true[i] - n_pred[i])/n_true[i]))\n",
    "    err.append(ierr)\n",
    "    plt.loglog(t[1:], n_true[i][1:])\n",
    "    plt.loglog(t[1:], n_pred[i][1:], ls=\"--\", color=plt.gca().lines[-1].get_color())\n",
    "  print(np.mean(err))\n",
    "  plt.show()\n",
    "  plt.close()"
   ]
  },
  {
   "cell_type": "code",
   "execution_count": 20,
   "metadata": {},
   "outputs": [],
   "source": [
    "eq = Equilibrium(system=model, clipping=True)"
   ]
  },
  {
   "cell_type": "code",
   "execution_count": null,
   "metadata": {},
   "outputs": [],
   "source": [
    "yeq = y[:,-1]\n",
    "yeq[:-2] *= const.UNA\n",
    "yeq"
   ]
  },
  {
   "cell_type": "code",
   "execution_count": 22,
   "metadata": {},
   "outputs": [],
   "source": [
    "neq = n_pred[:,-1]\n",
    "rho = (model.mix.m @ neq).numpy()\n",
    "model.mix.set_rho(rho)"
   ]
  },
  {
   "cell_type": "code",
   "execution_count": null,
   "metadata": {},
   "outputs": [],
   "source": [
    "model.mix.update(torch.tensor(y[:-2,0])*const.UNA, torch.tensor(y[-2,0]), torch.tensor(y[-1,0]))\n",
    "e = model.mix.e\n",
    "e.numpy()"
   ]
  },
  {
   "cell_type": "code",
   "execution_count": 24,
   "metadata": {},
   "outputs": [],
   "source": [
    "# model.mix.update(torch.tensor(yeq[:-2]), torch.tensor(yeq[-2]), torch.tensor(yeq[-1]))\n",
    "# e = model.mix.e\n",
    "# e.numpy()"
   ]
  },
  {
   "cell_type": "code",
   "execution_count": null,
   "metadata": {},
   "outputs": [],
   "source": [
    "rho, T_pred[:,-1]"
   ]
  },
  {
   "cell_type": "code",
   "execution_count": null,
   "metadata": {},
   "outputs": [],
   "source": [
    "yeq"
   ]
  },
  {
   "cell_type": "code",
   "execution_count": null,
   "metadata": {},
   "outputs": [],
   "source": [
    "yeq_prim = eq.from_prim(rho, *T_pred[:,-1])\n",
    "yeq_prim"
   ]
  },
  {
   "cell_type": "code",
   "execution_count": null,
   "metadata": {},
   "outputs": [],
   "source": [
    "(yeq_prim - yeq)/yeq"
   ]
  },
  {
   "cell_type": "code",
   "execution_count": null,
   "metadata": {},
   "outputs": [],
   "source": [
    "yeq_cons = eq.from_cons(rho, e)\n",
    "yeq_cons"
   ]
  },
  {
   "cell_type": "code",
   "execution_count": null,
   "metadata": {},
   "outputs": [],
   "source": [
    "(yeq_cons - yeq)/yeq"
   ]
  },
  {
   "cell_type": "code",
   "execution_count": 42,
   "metadata": {},
   "outputs": [],
   "source": [
    "fun = eq._from_prim_thermal_neq_fun\n",
    "jac_exp = torch.func.jacrev(fun)\n",
    "jac = torch.func.jacrev(model._fun, argnums=1)"
   ]
  },
  {
   "cell_type": "code",
   "execution_count": null,
   "metadata": {},
   "outputs": [],
   "source": [
    "yeq_c = torch.clone(torch.tensor(yeq))\n",
    "yeq_c[:-2] /= const.UNA\n",
    "yeq_c_log = torch.log(yeq_c)"
   ]
  },
  {
   "cell_type": "code",
   "execution_count": null,
   "metadata": {},
   "outputs": [],
   "source": [
    "print(jac(0.0, yeq_c)[:-2,:-2])"
   ]
  },
  {
   "cell_type": "code",
   "execution_count": null,
   "metadata": {},
   "outputs": [],
   "source": [
    "torch.diag(torch.exp(yeq_c)[:-2]) @ jac(0.0, yeq_c)[:-2,:-2] "
   ]
  },
  {
   "cell_type": "code",
   "execution_count": null,
   "metadata": {},
   "outputs": [],
   "source": [
    "jac_exp(yeq_c_log)[:-2,:-2]"
   ]
  },
  {
   "cell_type": "code",
   "execution_count": null,
   "metadata": {},
   "outputs": [],
   "source": [
    "stop"
   ]
  },
  {
   "cell_type": "code",
   "execution_count": 21,
   "metadata": {},
   "outputs": [],
   "source": [
    "rom = CoBRAS(\n",
    "  system=model,\n",
    "  quadrature=None,\n",
    "  path_to_saving=\"./\",\n",
    "  saving=True,\n",
    "  verbose=True\n",
    ")\n",
    "rom.build_sol_interp(t, y)"
   ]
  },
  {
   "cell_type": "code",
   "execution_count": null,
   "metadata": {},
   "outputs": [],
   "source": [
    "tm = -np.flip(t[:-600])\n",
    "tm"
   ]
  },
  {
   "cell_type": "code",
   "execution_count": null,
   "metadata": {},
   "outputs": [],
   "source": [
    "g0 = np.zeros_like(model.C[0])\n",
    "g0[2] = 1.0\n",
    "y = sp.integrate.solve_ivp(\n",
    "  fun=rom.adjoint_fun,\n",
    "  t_span=[tm[0],tm[-1]],\n",
    "  y0=g0,\n",
    "  method=\"LSODA\",\n",
    "  t_eval=tm,\n",
    "  first_step=1e-14,\n",
    "  rtol=1e-6,\n",
    "  atol=1e-10,\n",
    "  jac=rom.adjoint_jac\n",
    ").y"
   ]
  },
  {
   "cell_type": "code",
   "execution_count": null,
   "metadata": {},
   "outputs": [],
   "source": [
    "stop"
   ]
  },
  {
   "cell_type": "code",
   "execution_count": null,
   "metadata": {},
   "outputs": [],
   "source": [
    "rom.adjoint_fun(t[-1], model.C[0])"
   ]
  },
  {
   "cell_type": "code",
   "execution_count": 23,
   "metadata": {},
   "outputs": [],
   "source": [
    "x = model.jac(t[-1], y[:,-1])\n",
    "np.savetxt(\"jac.txt\", x)"
   ]
  },
  {
   "cell_type": "code",
   "execution_count": 22,
   "metadata": {},
   "outputs": [],
   "source": [
    "x = rom.adjoint_jac(t[-1], model.C[0])\n",
    "np.savetxt(\"jac.txt\", x)"
   ]
  },
  {
   "cell_type": "code",
   "execution_count": null,
   "metadata": {},
   "outputs": [],
   "source": [
    "for i, g0 in enumerate(model.C):\n",
    "  print(f\"Solving {i}\")\n",
    "  g = rom.solve_adjoint(np.flip(t), g0)\n",
    "  print(g)"
   ]
  },
  {
   "cell_type": "code",
   "execution_count": null,
   "metadata": {},
   "outputs": [],
   "source": [
    "plt.plot()"
   ]
  },
  {
   "cell_type": "code",
   "execution_count": null,
   "metadata": {},
   "outputs": [],
   "source": [
    "import torch"
   ]
  },
  {
   "cell_type": "code",
   "execution_count": null,
   "metadata": {},
   "outputs": [],
   "source": [
    "x = torch.rand(5)\n",
    "A = torch.rand(5,5)\n",
    "\n",
    "fun = lambda z: A @ torch.exp(z)"
   ]
  },
  {
   "cell_type": "code",
   "execution_count": null,
   "metadata": {},
   "outputs": [],
   "source": []
  }
 ],
 "metadata": {
  "kernelspec": {
   "display_name": "sciml",
   "language": "python",
   "name": "python3"
  },
  "language_info": {
   "codemirror_mode": {
    "name": "ipython",
    "version": 3
   },
   "file_extension": ".py",
   "mimetype": "text/x-python",
   "name": "python",
   "nbconvert_exporter": "python",
   "pygments_lexer": "ipython3",
   "version": "3.8.15"
  }
 },
 "nbformat": 4,
 "nbformat_minor": 2
}
