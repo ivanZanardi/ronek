{
 "cells": [
  {
   "cell_type": "markdown",
   "id": "8f29e3ff",
   "metadata": {},
   "source": [
    "### Spectral Clustering"
   ]
  },
  {
   "cell_type": "code",
   "execution_count": 1,
   "id": "a1ba1c77",
   "metadata": {},
   "outputs": [],
   "source": [
    "import os\n",
    "import numpy as np\n",
    "import scipy as sp\n",
    "import pandas as pd\n",
    "import matplotlib.pyplot as plt\n",
    "from infomap import Infomap\n",
    "from silx.io.dictdump import h5todict\n",
    "from sklearn.cluster import SpectralClustering"
   ]
  },
  {
   "cell_type": "code",
   "execution_count": 2,
   "id": "00b2b2ee",
   "metadata": {},
   "outputs": [],
   "source": [
    "\t\n",
    "from functools import partial\n",
    "from multiprocessing import Pool"
   ]
  },
  {
   "cell_type": "code",
   "execution_count": 3,
   "id": "1108224b",
   "metadata": {},
   "outputs": [],
   "source": [
    "from scipy import constants\n",
    "eV_to_J = constants.eV"
   ]
  },
  {
   "cell_type": "markdown",
   "id": "21111d8a",
   "metadata": {},
   "source": [
    "Inputs"
   ]
  },
  {
   "cell_type": "code",
   "execution_count": 4,
   "id": "d1d709e8-d714-466b-aa2f-bfd235333a83",
   "metadata": {},
   "outputs": [],
   "source": [
    "nb_states = 6115\n",
    "kin_file = \"/home/zanardi/Workspace/AirDatabase/HDF5/QCT/Orig/O3_UMN.hdf5\"\n",
    "lev_file = \"/home/zanardi/Codes/TC/HyperNet/database/levels/O3_UMN/O2.csv\""
   ]
  },
  {
   "cell_type": "code",
   "execution_count": 5,
   "id": "3b27b9a2",
   "metadata": {},
   "outputs": [],
   "source": [
    "scale = 1e9"
   ]
  },
  {
   "cell_type": "code",
   "execution_count": 6,
   "id": "bf5a7598",
   "metadata": {},
   "outputs": [],
   "source": [
    "nb_b = 3\n",
    "nb_qb = 1\n",
    "# nb_b = 6\n",
    "# nb_qb = 2\n",
    "nb = nb_b + nb_qb"
   ]
  },
  {
   "cell_type": "markdown",
   "id": "79b7103e",
   "metadata": {},
   "source": [
    "Databases"
   ]
  },
  {
   "cell_type": "code",
   "execution_count": 16,
   "id": "7cb759cc",
   "metadata": {},
   "outputs": [],
   "source": [
    "levels = pd.read_csv(lev_file)\n",
    "e = (levels[\"E\"] - np.amin(levels[\"E\"])).values # * eV_to_J\n",
    "e_d = 5.113 * eV_to_J\n",
    "e_v = levels[\"EVib\"].values\n",
    "e_r = levels[\"ERot\"].values\n",
    "e_v -= e_v.min()\n",
    "e_r -= e_r.min()\n",
    "J = levels[\"jqn\"].values"
   ]
  },
  {
   "cell_type": "code",
   "execution_count": 7,
   "id": "7253279d",
   "metadata": {},
   "outputs": [],
   "source": [
    "kinetics = h5todict(kin_file)"
   ]
  },
  {
   "cell_type": "code",
   "execution_count": 8,
   "id": "287861f4",
   "metadata": {},
   "outputs": [],
   "source": [
    "def get_mapping(k, seed=0, save=True):\n",
    "  im = Infomap(\n",
    "    flow_model=\"directed\",\n",
    "    silent=True,\n",
    "    num_trials=1,\n",
    "    inner_parallelization=True,\n",
    "    seed=seed\n",
    "  )\n",
    "  # Add links\n",
    "  indices = np.where(k > 0)\n",
    "  links = list(zip(*[*indices, k[indices]]))\n",
    "  im.add_links(links)\n",
    "  # Running map equation\n",
    "  im.run()\n",
    "  # Collect mapping\n",
    "  mapping = list(zip(*list(im.multilevel_modules)))[1]\n",
    "  mapping = np.array(mapping)\n",
    "  mapping -= np.amin(mapping, 0)\n",
    "  return mapping"
   ]
  },
  {
   "cell_type": "code",
   "execution_count": 45,
   "id": "80525bcd",
   "metadata": {},
   "outputs": [],
   "source": [
    "def plot_clust_2d(map, title):\n",
    "  plt.figure()\n",
    "  for c in range(map.max()):\n",
    "    i = (map == c+1)\n",
    "    plt.scatter(J[i], e[i], s=2)\n",
    "  plt.xlabel('$J$')\n",
    "  plt.ylabel('$\\epsilon_r$ [eV]')\n",
    "  plt.title(title)\n",
    "  # plt.xlim([110,140])\n",
    "  plt.show()\n",
    "\n",
    "def plot_clust_1d(map, title):\n",
    "  plt.figure()\n",
    "  for c in range(map.max()):\n",
    "    i = (map == c+1)\n",
    "    plt.scatter(e[i]/eV_to_J, np.ones_like(e[i])*(c+1), s=2)\n",
    "  plt.xlabel('$\\epsilon_i$ [eV]')\n",
    "  plt.ylabel('Cluster')\n",
    "  plt.title(title)\n",
    "  plt.show()"
   ]
  },
  {
   "cell_type": "code",
   "execution_count": 9,
   "id": "a6bd79de",
   "metadata": {},
   "outputs": [],
   "source": [
    "ke = kinetics[\"T_10000_10000\"][\"Rates\"][\"Excit\"] * scale\n",
    "np.fill_diagonal(ke, 0.0)"
   ]
  },
  {
   "cell_type": "code",
   "execution_count": 10,
   "id": "92571e63",
   "metadata": {},
   "outputs": [],
   "source": [
    "# mapping = get_mapping(ke, silent=False, num_trials=10, inner_parallelization=True)"
   ]
  },
  {
   "cell_type": "code",
   "execution_count": 11,
   "id": "b94504d8",
   "metadata": {},
   "outputs": [],
   "source": [
    "worker = partial(get_mapping)\n",
    "num_trials = 10\n",
    "\n",
    "with Pool() as p:\n",
    "  worker_args = ((ke, seed) for seed in range(num_trials))\n",
    "  output = p.starmap(worker, worker_args)"
   ]
  },
  {
   "cell_type": "code",
   "execution_count": null,
   "id": "8974dd89",
   "metadata": {},
   "outputs": [],
   "source": [
    "output[0].shape"
   ]
  },
  {
   "cell_type": "code",
   "execution_count": null,
   "id": "61a202f2",
   "metadata": {},
   "outputs": [],
   "source": [
    "for i, c in enumerate(output):\n",
    "  for j in range(c.shape[1]):\n",
    "    if i == 3 and j == 0:\n",
    "      plot_clust_2d(c[:,j]+1, title=f\"Cluster: trial {i+1} - level {j+1}\")\n",
    "      plot_clust_1d(c[:,j]+1, title=f\"Cluster: trial {i+1} - level {j+1}\")"
   ]
  },
  {
   "cell_type": "code",
   "execution_count": null,
   "id": "89b70c40",
   "metadata": {},
   "outputs": [],
   "source": [
    "plot_clust_1d(imap, title=f\"Cluster\")"
   ]
  },
  {
   "cell_type": "code",
   "execution_count": 52,
   "id": "81b98058",
   "metadata": {},
   "outputs": [],
   "source": [
    "imap = output[3][:,0]+1"
   ]
  },
  {
   "cell_type": "code",
   "execution_count": 57,
   "id": "39b7051b",
   "metadata": {},
   "outputs": [],
   "source": [
    "i = (imap==4) * (J>115)\n",
    "imap[i] = 5"
   ]
  },
  {
   "cell_type": "code",
   "execution_count": null,
   "id": "3885a54f",
   "metadata": {},
   "outputs": [],
   "source": [
    "imap.min(), imap.max()"
   ]
  },
  {
   "cell_type": "code",
   "execution_count": null,
   "id": "d00ff167",
   "metadata": {},
   "outputs": [],
   "source": [
    "len(imap==4)\n",
    "# len(J[imap==4] > 125)"
   ]
  },
  {
   "cell_type": "code",
   "execution_count": null,
   "id": "a6ace397",
   "metadata": {},
   "outputs": [],
   "source": [
    "(J[imap==4] > 125).any()"
   ]
  },
  {
   "cell_type": "code",
   "execution_count": 27,
   "id": "0f0ae7cc",
   "metadata": {},
   "outputs": [],
   "source": [
    "imap = output[3][:,0]+1\n",
    "imap[imap==4] = 3\n",
    "imap[imap==5] = 4"
   ]
  },
  {
   "cell_type": "code",
   "execution_count": null,
   "id": "e70e4d93",
   "metadata": {},
   "outputs": [],
   "source": [
    "imap.min(), imap.max()"
   ]
  },
  {
   "cell_type": "code",
   "execution_count": 61,
   "id": "0fc58c46",
   "metadata": {},
   "outputs": [],
   "source": [
    "imap[imap==4] = 3\n",
    "imap[imap==5] = 4"
   ]
  },
  {
   "cell_type": "code",
   "execution_count": 55,
   "id": "79d7ab4b",
   "metadata": {},
   "outputs": [],
   "source": [
    "def plot_clust_2d(map, title, filename=None):\n",
    "  plt.figure()\n",
    "  for c in range(map.max()):\n",
    "    i = (map == c+1)\n",
    "    plt.scatter(J[i], e[i], s=2)\n",
    "  plt.xlabel('$J$')\n",
    "  plt.ylabel('$\\epsilon_i$ [eV]')\n",
    "  plt.title(title)\n",
    "  plt.tight_layout()\n",
    "  if filename:\n",
    "    plt.savefig(filename)\n",
    "  plt.show()"
   ]
  },
  {
   "cell_type": "code",
   "execution_count": null,
   "id": "65841d43",
   "metadata": {},
   "outputs": [],
   "source": [
    "path_to_saving = \"./../rom_cg/MAPEQ4/\"\n",
    "os.makedirs(path_to_saving, exist_ok=True)\n",
    "plot_clust_2d(imap, title=\"Infomap clustering\", filename=path_to_saving+\"/mapping.png\")"
   ]
  },
  {
   "cell_type": "code",
   "execution_count": 63,
   "id": "498e76cd",
   "metadata": {},
   "outputs": [],
   "source": [
    "np.savetxt(\n",
    "  path_to_saving + \"/mapping.csv\",\n",
    "  np.vstack([np.arange(nb_states), imap]).T,\n",
    "  fmt='%i',\n",
    "  delimiter=',',\n",
    "  header='Idx,Group'\n",
    ")"
   ]
  },
  {
   "cell_type": "code",
   "execution_count": null,
   "id": "26991ee7",
   "metadata": {},
   "outputs": [],
   "source": [
    "stop"
   ]
  },
  {
   "cell_type": "code",
   "execution_count": null,
   "id": "78a91530",
   "metadata": {},
   "outputs": [],
   "source": []
  },
  {
   "cell_type": "code",
   "execution_count": null,
   "id": "10e43a23",
   "metadata": {},
   "outputs": [],
   "source": []
  },
  {
   "cell_type": "code",
   "execution_count": 6,
   "id": "5d678ebe",
   "metadata": {},
   "outputs": [],
   "source": [
    "k = kinetics[\"T_10000_10000\"][\"Rates\"][\"Excit\"]\n",
    "k = np.tril(k, k=-1)"
   ]
  },
  {
   "cell_type": "code",
   "execution_count": 7,
   "id": "b892bb96",
   "metadata": {},
   "outputs": [],
   "source": [
    "levels = pd.read_csv(lev_file)\n",
    "e = (levels[\"E\"] - np.amin(levels[\"E\"])).values # * eV_to_J\n",
    "e_d = 5.113 * eV_to_J\n",
    "e_v = levels[\"EVib\"].values\n",
    "e_r = levels[\"ERot\"].values\n",
    "e_v -= e_v.min()\n",
    "e_r -= e_r.min()\n",
    "J = levels[\"jqn\"].values"
   ]
  },
  {
   "cell_type": "code",
   "execution_count": null,
   "id": "92b44f79",
   "metadata": {},
   "outputs": [],
   "source": [
    "iv = np.where(levels[\"jqn\"] == 0)[0]\n",
    "e_d = np.amax(e_v[iv]) #* eV_to_J\n",
    "e_d"
   ]
  },
  {
   "cell_type": "markdown",
   "id": "e8778edc",
   "metadata": {},
   "source": [
    "Bound and quasi-bound states"
   ]
  },
  {
   "cell_type": "code",
   "execution_count": 26,
   "id": "7191f356",
   "metadata": {},
   "outputs": [],
   "source": [
    "i = np.where(e > e_d)[0][0]\n",
    "i_b = np.arange(i)\n",
    "i_qb = np.arange(i,nb_states)"
   ]
  },
  {
   "cell_type": "code",
   "execution_count": 27,
   "id": "b8f9eb0f",
   "metadata": {},
   "outputs": [],
   "source": [
    "def get_probmat(\n",
    "  mapping\n",
    "):\n",
    "  mapping = (mapping - np.amin(mapping)).astype(int)\n",
    "  nb_levs, nb_bins = len(mapping), np.amax(mapping)+1\n",
    "  data = np.ones(nb_levs)\n",
    "  indices = (np.arange(nb_levs), mapping)\n",
    "  shape = (nb_levs, nb_bins)\n",
    "  return sp.sparse.coo_matrix((data, indices), shape).toarray()"
   ]
  },
  {
   "cell_type": "markdown",
   "id": "58a3c421",
   "metadata": {},
   "source": [
    "> Energy-based clustering"
   ]
  },
  {
   "cell_type": "code",
   "execution_count": 28,
   "id": "cd1b684c",
   "metadata": {},
   "outputs": [],
   "source": [
    "def energy_bin(e, e_d, nb_b, nb_qb, eps=1e-6):\n",
    "  # Min/max energies\n",
    "  e_min, e_max = np.amin(e), np.amax(e)\n",
    "  # Energy intervals\n",
    "  inter_b = np.linspace(e_min, e_d, nb_b+1)\n",
    "  if (nb_qb > 0):\n",
    "    inter_qb = np.linspace(e_d, e_max, nb_qb+1)[1:]\n",
    "  else:\n",
    "    inter_qb = np.array([])\n",
    "  intervals = np.concatenate([inter_b, inter_qb])\n",
    "  intervals[-1] *= 1.0+eps\n",
    "  # Define mapping\n",
    "  mapping = (e.reshape(-1,1) >= intervals.reshape(1,-1))\n",
    "  mapping = np.sum(mapping, axis=1)\n",
    "  return mapping"
   ]
  },
  {
   "cell_type": "code",
   "execution_count": 29,
   "id": "cf228bc5",
   "metadata": {},
   "outputs": [],
   "source": [
    "map_en = energy_bin(e, e_d, nb_b, nb_qb, eps=1e-6)\n",
    "map_en_b = map_en[:i]\n",
    "map_en_qb = map_en[i:]"
   ]
  },
  {
   "cell_type": "markdown",
   "id": "3fd31b91",
   "metadata": {},
   "source": [
    "> Spectral clustering"
   ]
  },
  {
   "cell_type": "code",
   "execution_count": 30,
   "id": "fca0eb58",
   "metadata": {},
   "outputs": [],
   "source": [
    "def get_s(e, k, fk=1.0, fe=1.0):\n",
    "  de = np.abs(e.reshape(-1,1) - e.reshape(1,-1))\n",
    "  kmin = k[k>0].min() * 1e-5\n",
    "  kk = k + k.T + kmin\n",
    "  s = de**fe / kk**fk\n",
    "  return np.exp(-s)\n",
    "\n",
    "def spectral_bin(e, k, i, nb=6, fk=1.0, fe=1.0):\n",
    "  ei, ki = e[i], k[i][:,i]\n",
    "  clust = SpectralClustering(n_clusters=nb, affinity='precomputed', random_state=0)\n",
    "  mapping = clust.fit_predict(get_s(ei, ki, fk, fe))\n",
    "  mapping += 1-np.amin(mapping)\n",
    "  return mapping"
   ]
  },
  {
   "cell_type": "code",
   "execution_count": 31,
   "id": "e933bead",
   "metadata": {},
   "outputs": [],
   "source": [
    "# if nb_qb > 1:\n",
    "#   fk, fe = 1.45, 0.94\n",
    "# else:\n",
    "#   fk, fe = 1.45, 1.0\n",
    "# map_sp_b = spectral_bin(e, k, i_b, nb_b, fk, fe)\n",
    "# map_sp_qb = spectral_bin(e, k, i_qb, nb_qb, fk=1.45, fe=1.0)\n",
    "# map_sp = np.concatenate([map_sp_b, map_sp_qb+nb_b])"
   ]
  },
  {
   "cell_type": "code",
   "execution_count": 32,
   "id": "a4dfa3c6",
   "metadata": {},
   "outputs": [],
   "source": [
    "path = \"/home/zanardi/Codes/TC/HyperNet/database/grouping/O3_UMN/O2/LevelsMap_MAPEQ11.csv\"\n",
    "map_sp = pd.read_csv(path).values[:,1]"
   ]
  },
  {
   "cell_type": "markdown",
   "id": "7dbbb092",
   "metadata": {},
   "source": [
    "Plot clustering"
   ]
  },
  {
   "cell_type": "code",
   "execution_count": 33,
   "id": "4d372fc1",
   "metadata": {},
   "outputs": [],
   "source": [
    "def plot_clust_2d(map, title):\n",
    "  plt.figure()\n",
    "  for c in range(map.max()):\n",
    "    i = (map == c+1)\n",
    "    plt.scatter(J[i], e[i], s=2)\n",
    "  plt.xlabel('$J$')\n",
    "  plt.ylabel('$\\epsilon_r$ [eV]')\n",
    "  plt.title(title)\n",
    "  plt.show()\n",
    "\n",
    "def plot_clust_1d(map, title):\n",
    "  plt.figure()\n",
    "  for c in range(map.max()):\n",
    "    i = (map == c+1)\n",
    "    plt.scatter(e[i]/eV_to_J, np.ones_like(e[i])*(c+1), s=2)\n",
    "  plt.xlabel('$\\epsilon_i$ [eV]')\n",
    "  plt.ylabel('Cluster')\n",
    "  plt.title(title)\n",
    "  plt.show()"
   ]
  },
  {
   "cell_type": "code",
   "execution_count": null,
   "id": "4275574d",
   "metadata": {},
   "outputs": [],
   "source": [
    "plot_clust_2d(map_en, title=\"Energy-based clustering\")\n",
    "plot_clust_2d(map_sp, title=\"Spectral clustering\")"
   ]
  },
  {
   "cell_type": "code",
   "execution_count": null,
   "id": "f9b50e66",
   "metadata": {},
   "outputs": [],
   "source": [
    "plot_clust_1d(map_en, title=\"Energy-based clustering\")\n",
    "plot_clust_1d(map_sp, title=\"Spectral clustering\")"
   ]
  },
  {
   "cell_type": "markdown",
   "id": "c186b1d5",
   "metadata": {},
   "source": [
    "Save clustering"
   ]
  },
  {
   "cell_type": "code",
   "execution_count": 36,
   "id": "5197d350",
   "metadata": {},
   "outputs": [],
   "source": [
    "path_to_saving = f\"./../testcases/RVE{nb}/\"\n",
    "os.makedirs(path_to_saving, exist_ok=True)\n",
    "np.savetxt(\n",
    "  path_to_saving + \"/mapping.csv\",\n",
    "  np.vstack([np.arange(nb_states), map_en]).T,\n",
    "  fmt='%i',\n",
    "  delimiter=',',\n",
    "  header='Idx,Group'\n",
    ")"
   ]
  },
  {
   "cell_type": "code",
   "execution_count": 37,
   "id": "7b0a2d53",
   "metadata": {},
   "outputs": [],
   "source": [
    "path_to_saving = f\"./../testcases/ADA{nb}/\"\n",
    "os.makedirs(path_to_saving, exist_ok=True)\n",
    "np.savetxt(\n",
    "  path_to_saving + \"/mapping.csv\",\n",
    "  np.vstack([np.arange(nb_states), map_sp]).T,\n",
    "  fmt='%i',\n",
    "  delimiter=',',\n",
    "  header='Idx,Group'\n",
    ")"
   ]
  },
  {
   "cell_type": "code",
   "execution_count": 38,
   "id": "135c60a3",
   "metadata": {},
   "outputs": [],
   "source": [
    "groups = {\n",
    "  1: [1,10,5],\n",
    "  3: [3,8]\n",
    "}\n",
    "group = [2,4,6,7,9,11]"
   ]
  },
  {
   "cell_type": "code",
   "execution_count": 39,
   "id": "767cacc1",
   "metadata": {},
   "outputs": [],
   "source": [
    "map = np.zeros(nb_states)\n",
    "k = 1\n",
    "for i in range(11):\n",
    "  if i in groups:\n",
    "    for j in groups[i]:\n",
    "      map[map_sp==j] = k\n",
    "    k += 1\n",
    "  elif i in group:\n",
    "    map[map_sp==i] = k\n",
    "    k += 1\n",
    "  else:\n",
    "    continue\n",
    "map = map.astype(int)+1"
   ]
  },
  {
   "cell_type": "code",
   "execution_count": null,
   "id": "e298c4ef",
   "metadata": {},
   "outputs": [],
   "source": [
    "plot_clust_2d(map, title=\"Spectral clustering\")"
   ]
  },
  {
   "cell_type": "code",
   "execution_count": null,
   "id": "55c77480",
   "metadata": {},
   "outputs": [],
   "source": [
    "plot_clust_1d(map, title=\"Spectral clustering\")"
   ]
  },
  {
   "cell_type": "code",
   "execution_count": null,
   "id": "fe8cac35",
   "metadata": {},
   "outputs": [],
   "source": []
  },
  {
   "cell_type": "code",
   "execution_count": null,
   "id": "98c33950",
   "metadata": {},
   "outputs": [],
   "source": []
  },
  {
   "cell_type": "code",
   "execution_count": null,
   "id": "9de449a7",
   "metadata": {},
   "outputs": [],
   "source": []
  },
  {
   "cell_type": "code",
   "execution_count": null,
   "id": "c8efc597",
   "metadata": {},
   "outputs": [],
   "source": [
    "\n",
    "from infomap import Infomap"
   ]
  },
  {
   "cell_type": "code",
   "execution_count": null,
   "id": "f19855e2",
   "metadata": {},
   "outputs": [],
   "source": []
  },
  {
   "cell_type": "code",
   "execution_count": null,
   "id": "18b31a17",
   "metadata": {},
   "outputs": [],
   "source": [
    "def get_mapping(k, num_trials=10):\n",
    "  im = Infomap(\n",
    "    flow_model=\"directed\",\n",
    "    silent=False,\n",
    "    num_trials=num_trials\n",
    "  )\n",
    "  # Add links\n",
    "  indices = np.where(k > 0)\n",
    "  links = list(zip(*[*indices, k[indices]]))\n",
    "  im.add_links(links)\n",
    "  # Running map equation\n",
    "  im.run()\n",
    "  # Collect mapping\n",
    "  lev_to_bins = list(zip(*list(im.multilevel_modules)))[1]\n",
    "  lev_to_bins = np.array(lev_to_bins)\n",
    "  lev_to_bins -= np.amin(lev_to_bins, 0)\n",
    "  return lev_to_bins"
   ]
  },
  {
   "cell_type": "code",
   "execution_count": null,
   "id": "da316eb9",
   "metadata": {},
   "outputs": [],
   "source": [
    "ke = kinetics[\"T_10000_10000\"][\"Rates\"][\"Excit\"]"
   ]
  },
  {
   "cell_type": "code",
   "execution_count": null,
   "id": "10008c96",
   "metadata": {},
   "outputs": [],
   "source": [
    "kinetics[\"T_10000_10000\"][\"Rates\"].keys()"
   ]
  },
  {
   "cell_type": "code",
   "execution_count": null,
   "id": "29b54d83",
   "metadata": {},
   "outputs": [],
   "source": []
  },
  {
   "cell_type": "code",
   "execution_count": null,
   "id": "5e4d323e",
   "metadata": {},
   "outputs": [],
   "source": [
    "import numpy as np\n",
    "import joblib as jl\n",
    "\n",
    "from infomap import Infomap\n",
    "\n",
    "from .basic import Basic\n",
    "from hypernet import utils\n",
    "from hypernet import backend as bkd\n",
    "from ..kinetics.one_temp.reaction.global_data import PROCESS_IDX\n",
    "from hypernet.config import get_config\n",
    "_CFG = get_config()\n",
    "\n",
    "\n",
    "class MapEq(Basic):\n",
    "\n",
    "  # Initialization\n",
    "  # ===================================\n",
    "  def __init__(\n",
    "    self,\n",
    "    T,\n",
    "    num_trials=1,\n",
    "    hierarchical=False,\n",
    "    specie_thermos=None,\n",
    "    save_dir=\"./\",\n",
    "    prob_mat=False,\n",
    "    plotting=False,\n",
    "    *args,\n",
    "    **kwargs\n",
    "  ):\n",
    "    super(MapEq, self).__init__(\n",
    "      nb_bins=None,\n",
    "      specie_thermos=specie_thermos,\n",
    "      save_dir=save_dir,\n",
    "      prob_mat=prob_mat,\n",
    "      plotting=plotting,\n",
    "      *args,\n",
    "      **kwargs\n",
    "    )\n",
    "    # Acronym\n",
    "    self.acronym = \"MAPEQ\"\n",
    "    # Kinetics\n",
    "    self.use_kin = True\n",
    "    self.scale = 1e15\n",
    "    self.sides = [\"reactants\", \"products\"]\n",
    "    # Temperature\n",
    "    self.T = np.array(T).reshape(1,1)\n",
    "    # Infomap attributes\n",
    "    self.num_trials = num_trials\n",
    "    self.hierarchical = hierarchical\n",
    "\n",
    "  # Class methods\n",
    "  # ===================================\n",
    "  # Binning\n",
    "  # -----------------------------------\n",
    "  def group(self, kin, *args, **kwargs):\n",
    "    # Kinetics\n",
    "    self.kin = kin\n",
    "    self.kin._update_thermochem(self.T)\n",
    "    self.indices = self.specie_thermos[self.name].specie.comp_indices\n",
    "    # Weights\n",
    "    w = self._compute_weight()\n",
    "    # Binning\n",
    "    lev_to_bins = self._get_mapping(w, self.indices)\n",
    "    # Post-processing\n",
    "    for lev_to_bin in lev_to_bins.T:\n",
    "      self.lev_to_bin = lev_to_bin\n",
    "      self.nb_bins = np.amax(lev_to_bin) + 1\n",
    "      self._postprocessing()\n",
    "\n",
    "  def _get_mapping(self, w, indices):\n",
    "    if self.hierarchical:\n",
    "      return self._get_mapping_multimod(w, indices)\n",
    "    else:\n",
    "      return self._get_mapping_singlemod(w, indices)\n",
    "\n",
    "  def _get_mapping_multimod(self, w, indices):\n",
    "    # Zero-module binning - Computing\n",
    "    l0_lev_to_bin = self._get_mapping_singlemod(w, indices)[:,0]\n",
    "    l0_nb_bins = np.amax(l0_lev_to_bin) + 1\n",
    "    # Zero-module binning - Assembling\n",
    "    l0_bins = []\n",
    "    for b in range(l0_nb_bins):\n",
    "      i = np.where(l0_lev_to_bin == b)[0]\n",
    "      wi = w[i][:,i]\n",
    "      l0_bins.append((wi/np.sum(wi), i))\n",
    "    # First-module binning - Computing\n",
    "    l1_lev_to_bins = jl.Parallel(n_jobs=_CFG.cpu_threads)(\n",
    "      jl.delayed(self._get_mapping_singlemod)(w=bin[0]) for bin in l0_bins\n",
    "    )\n",
    "    # First-module binning - Assembling\n",
    "    l1_lev_to_bin = np.zeros_like(l0_lev_to_bin)\n",
    "    l1_nb_bins = 0\n",
    "    for (b, bin) in enumerate(l0_bins):\n",
    "      # Mapping\n",
    "      lev_to_bin = l1_lev_to_bins[b][:,0]\n",
    "      l1_lev_to_bin[bin[1]] = lev_to_bin + l1_nb_bins\n",
    "      # Number of bins\n",
    "      nb_bins = np.amax(lev_to_bin) + 1\n",
    "      l1_nb_bins += nb_bins\n",
    "    l1_lev_to_bin = l1_lev_to_bin.astype(int)\n",
    "    # Multi-module binning\n",
    "    lev_to_bins = np.vstack([l0_lev_to_bin,l1_lev_to_bin]).T\n",
    "    return lev_to_bins\n",
    "\n",
    "  def _get_mapping_singlemod(self, w, indices=None):\n",
    "    # Running map equation\n",
    "    im = Infomap(\n",
    "      flow_model='directed',\n",
    "      silent=True,\n",
    "      num_trials=self.num_trials\n",
    "    )\n",
    "    im.add_links(self._create_links(w))\n",
    "    im.run()\n",
    "    # Collect mapping\n",
    "    lev_to_bins = list(zip(*list(im.multilevel_modules)))[1]\n",
    "    lev_to_bins = np.array(lev_to_bins)\n",
    "    if (indices is not None):\n",
    "      indices -= (np.amax(indices)+1 - len(lev_to_bins))\n",
    "      lev_to_bins = lev_to_bins[indices]\n",
    "    lev_to_bins = lev_to_bins - np.amin(lev_to_bins, 0)\n",
    "    return lev_to_bins\n",
    "  \n",
    "  def _create_links(self, w):\n",
    "    indices = np.where(w > 0)\n",
    "    links = list(zip(*[*indices, w[indices]]))\n",
    "    return links\n",
    "\n",
    "  # Weight matrix\n",
    "  # -----------------------------------\n",
    "  def _compute_weight(self):\n",
    "    nc = self.kin.mixture.nb_comp\n",
    "    w = np.zeros((nc,nc))\n",
    "    for reaction in self.kin.reactions:\n",
    "      for direction in (\"fwd\", \"bwd\"):\n",
    "        self._update_weight_reac(w, reaction, direction)\n",
    "    return w * self.scale\n",
    "\n",
    "  def _update_weight_reac(self, w, reaction, direction=\"fwd\"):\n",
    "    # Get reaction rates\n",
    "    sides = self.sides.copy()\n",
    "    if (direction == \"fwd\"):\n",
    "      k = bkd.to_numpy(reaction.fwd.k).squeeze()\n",
    "    else:\n",
    "      k = bkd.to_numpy(reaction.bwd.k).squeeze().T\n",
    "      sides.reverse()\n",
    "    # Get species indices\n",
    "    if (reaction.param[\"process\"] == PROCESS_IDX[\"Dh\"]):\n",
    "      indices = self._get_indices_Dh(reaction, sides, direction)\n",
    "    elif (reaction.param[\"process\"] in (PROCESS_IDX[k] for k in (\"EXh\",\"EXC\"))):\n",
    "      indices = self._get_indices_EX(reaction, sides)\n",
    "      indices.reverse()\n",
    "    else:\n",
    "      utils.raise_err(NotImplementedError)\n",
    "    # Update weight matrix\n",
    "    indices = tuple([\n",
    "      i.astype(int).reshape(-1) for i in np.meshgrid(*indices)\n",
    "    ])\n",
    "    w[indices] += k.reshape(-1)\n",
    "\n",
    "  def _get_indices_Dh(self, reaction, sides, direction):\n",
    "    indices = []\n",
    "    for specie in reaction.param[sides[0]]:\n",
    "      st = self.specie_thermos[specie[1]]\n",
    "      c1 = ((st.specie.lev[\"nb\"] >  1) and (direction == \"fwd\"))\n",
    "      c2 = ((st.specie.lev[\"nb\"] == 1) and (direction == \"bwd\"))\n",
    "      if (c1 or c2):\n",
    "        indices.append(st.specie.comp_indices)\n",
    "        break\n",
    "    for specie in reaction.param[sides[1]]:\n",
    "      st = self.specie_thermos[specie[1]]\n",
    "      c1 = ((st.specie.lev[\"nb\"] == 1) and (direction == \"fwd\"))\n",
    "      c2 = ((st.specie.lev[\"nb\"] >  1) and (direction == \"bwd\"))\n",
    "      if (c1 or c2):\n",
    "        indices.append(st.specie.comp_indices)\n",
    "        break\n",
    "    return indices\n",
    "\n",
    "  def _get_indices_EX(self, reaction, sides):\n",
    "    indices = []\n",
    "    for side in sides:\n",
    "      for specie in reaction.param[side]:\n",
    "        st = self.specie_thermos[specie[1]]\n",
    "        if (st.specie.lev[\"nb\"] > 1):\n",
    "          indices.append(st.specie.comp_indices)\n",
    "          break\n",
    "    return indices\n"
   ]
  }
 ],
 "metadata": {
  "kernelspec": {
   "display_name": "sciml",
   "language": "python",
   "name": "python3"
  },
  "language_info": {
   "codemirror_mode": {
    "name": "ipython",
    "version": 3
   },
   "file_extension": ".py",
   "mimetype": "text/x-python",
   "name": "python",
   "nbconvert_exporter": "python",
   "pygments_lexer": "ipython3",
   "version": "3.8.15"
  }
 },
 "nbformat": 4,
 "nbformat_minor": 5
}
