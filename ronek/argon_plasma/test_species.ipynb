{
 "cells": [
  {
   "cell_type": "code",
   "execution_count": 1,
   "metadata": {},
   "outputs": [],
   "source": [
    "import sys\n",
    "sys.path.append(\"/home/zanardi/Codes/ML/RONEK/ronek/\")"
   ]
  },
  {
   "cell_type": "code",
   "execution_count": 2,
   "metadata": {},
   "outputs": [],
   "source": [
    "from ronek.argon_plasma.species import Species\n",
    "from ronek.argon_plasma.mixture import Mixture\n",
    "from ronek.argon_plasma.kinetics import Kinetics\n",
    "import tensorflow as tf\n",
    "import dill as pickle\n",
    "import numpy as np"
   ]
  },
  {
   "cell_type": "code",
   "execution_count": 3,
   "metadata": {},
   "outputs": [],
   "source": [
    "path_to_dtb = \"/home/zanardi/Codes/ML/RONEK/ronek/examples/CR_Ar/database\""
   ]
  },
  {
   "cell_type": "code",
   "execution_count": 4,
   "metadata": {},
   "outputs": [],
   "source": [
    "path = path_to_dtb + \"/species/\"\n",
    "species = \"Arp\""
   ]
  },
  {
   "cell_type": "code",
   "execution_count": 5,
   "metadata": {},
   "outputs": [],
   "source": [
    "species_order = (\"Ar\", \"Arp\", \"em\")\n",
    "species = {k: path + \"/\" + k + \".json\" for k in species_order}"
   ]
  },
  {
   "cell_type": "code",
   "execution_count": 6,
   "metadata": {},
   "outputs": [],
   "source": [
    "mix = Mixture(species, species_order)\n",
    "mix.build()"
   ]
  },
  {
   "cell_type": "code",
   "execution_count": 7,
   "metadata": {},
   "outputs": [],
   "source": [
    "p = 1000.0\n",
    "T = 10000.0\n",
    "rho, w = mix.get_init_composition(p, T, noise=False)"
   ]
  },
  {
   "cell_type": "code",
   "execution_count": null,
   "metadata": {},
   "outputs": [],
   "source": [
    "rho, w, np.sum(w), np.sum(mix.species[\"Arp\"].x)-mix.species[\"em\"].x"
   ]
  },
  {
   "cell_type": "code",
   "execution_count": null,
   "metadata": {},
   "outputs": [],
   "source": [
    "Ti = np.random.rand(1)*10000.0\n",
    "Tei = np.random.rand(1)*3000.0\n",
    "Ti, Tei"
   ]
  },
  {
   "cell_type": "code",
   "execution_count": null,
   "metadata": {},
   "outputs": [],
   "source": [
    "mix.update_composition(w, rho)\n",
    "mix.update_species_thermo(Ti, Tei)\n",
    "mix.update_mixture_thermo()\n",
    "mix.cv_h, mix.e, mix.e_e, mix.e_int_h, mix.hf_h"
   ]
  },
  {
   "cell_type": "code",
   "execution_count": null,
   "metadata": {},
   "outputs": [],
   "source": [
    "T, Te = mix.compute_temp(mix.e, mix.e_e)\n",
    "T, Te"
   ]
  },
  {
   "cell_type": "code",
   "execution_count": 12,
   "metadata": {},
   "outputs": [],
   "source": [
    "kinpath = path_to_dtb + \"/rates/kin_fit.p\"\n",
    "# pickle.load(open(kinpath, \"rb\"))"
   ]
  },
  {
   "cell_type": "code",
   "execution_count": 13,
   "metadata": {},
   "outputs": [],
   "source": [
    "kin = Kinetics(mix, kinpath, use_fit=False)"
   ]
  },
  {
   "cell_type": "code",
   "execution_count": 14,
   "metadata": {},
   "outputs": [],
   "source": [
    "kin.update(T, Te)"
   ]
  },
  {
   "cell_type": "code",
   "execution_count": null,
   "metadata": {},
   "outputs": [],
   "source": [
    "kin.rates[\"EN\"]"
   ]
  },
  {
   "cell_type": "code",
   "execution_count": null,
   "metadata": {},
   "outputs": [],
   "source": [
    "tf.nest.map_structure(np.shape, kin.rates)"
   ]
  },
  {
   "cell_type": "code",
   "execution_count": null,
   "metadata": {},
   "outputs": [],
   "source": [
    "kin.rates['Ih']['fwd'] * np.random.rand(2)"
   ]
  },
  {
   "cell_type": "code",
   "execution_count": 18,
   "metadata": {},
   "outputs": [],
   "source": [
    "kin2 = Kinetics(mix, kinpath, use_fit=True)"
   ]
  },
  {
   "cell_type": "code",
   "execution_count": 19,
   "metadata": {},
   "outputs": [],
   "source": [
    "kin2.update(T, Te)"
   ]
  },
  {
   "cell_type": "code",
   "execution_count": null,
   "metadata": {},
   "outputs": [],
   "source": [
    "kin2.rates[\"EN\"]"
   ]
  },
  {
   "cell_type": "code",
   "execution_count": null,
   "metadata": {},
   "outputs": [],
   "source": [
    "for Ti in np.linspace(500, 50000, 100):\n",
    "    kin.update(T, Ti)\n",
    "    k1 = kin.rates[\"EN\"]\n",
    "    kin2.update(T, Ti)\n",
    "    k2 = kin2.rates[\"EN\"]\n",
    "    print(np.abs(k1-k2)/k1*100)"
   ]
  },
  {
   "cell_type": "code",
   "execution_count": 22,
   "metadata": {},
   "outputs": [],
   "source": [
    "from ronek.argon_plasma.model import Model"
   ]
  },
  {
   "cell_type": "code",
   "execution_count": 23,
   "metadata": {},
   "outputs": [],
   "source": [
    "model = Model(\n",
    "  species={k: path + \"/\" + k + \".json\" for k in species_order},\n",
    "  kin_dtb=path_to_dtb + \"/rates/kin_fit.p\"\n",
    ")"
   ]
  },
  {
   "cell_type": "code",
   "execution_count": null,
   "metadata": {},
   "outputs": [],
   "source": [
    "x = np.concatenate([w, mix.e, mix.e_e])\n",
    "x, rho"
   ]
  },
  {
   "cell_type": "code",
   "execution_count": null,
   "metadata": {},
   "outputs": [],
   "source": [
    "model.mix.de[\"in\"]"
   ]
  },
  {
   "cell_type": "code",
   "execution_count": null,
   "metadata": {},
   "outputs": [],
   "source": [
    "model._fun(0.0, x, rho)"
   ]
  },
  {
   "cell_type": "code",
   "execution_count": 27,
   "metadata": {},
   "outputs": [],
   "source": [
    "kops = model.compose_kin_ops(T, Te)"
   ]
  },
  {
   "cell_type": "code",
   "execution_count": 28,
   "metadata": {},
   "outputs": [],
   "source": [
    "nn = model.mix.species[\"Ar\"].n\n",
    "ni = model.mix.species[\"Arp\"].n\n",
    "ne = model.mix.species[\"em\"].n"
   ]
  },
  {
   "cell_type": "code",
   "execution_count": 29,
   "metadata": {},
   "outputs": [],
   "source": [
    "kf = model.kin.rates[\"EXe\"][\"fwd\"]\n",
    "kb = model.kin.rates[\"EXe\"][\"bwd\"]"
   ]
  },
  {
   "cell_type": "code",
   "execution_count": null,
   "metadata": {},
   "outputs": [],
   "source": [
    "f1 = model.source_term_exe(nn, ne, kf, kb)\n",
    "f1"
   ]
  },
  {
   "cell_type": "code",
   "execution_count": null,
   "metadata": {},
   "outputs": [],
   "source": [
    "f2 = model.source_term_exe_vec(nn, ne, kf, kb)\n",
    "f2"
   ]
  },
  {
   "cell_type": "code",
   "execution_count": null,
   "metadata": {},
   "outputs": [],
   "source": [
    "100*np.abs(f1-f2)/np.abs(f1)"
   ]
  },
  {
   "cell_type": "code",
   "execution_count": 33,
   "metadata": {},
   "outputs": [],
   "source": [
    "kf = model.kin.rates[\"Ie\"][\"fwd\"]\n",
    "kb = model.kin.rates[\"Ie\"][\"bwd\"]"
   ]
  },
  {
   "cell_type": "code",
   "execution_count": null,
   "metadata": {},
   "outputs": [],
   "source": [
    "f1 = model.source_term_ie(nn, ni, ne, kf, kb)\n",
    "f1"
   ]
  },
  {
   "cell_type": "code",
   "execution_count": null,
   "metadata": {},
   "outputs": [],
   "source": [
    "f2 = model.source_term_ie_vec(nn, ni, ne, kf, kb)\n",
    "f2"
   ]
  },
  {
   "cell_type": "code",
   "execution_count": null,
   "metadata": {},
   "outputs": [],
   "source": [
    "100*np.abs(f1-f2)/np.abs(f1)"
   ]
  }
 ],
 "metadata": {
  "kernelspec": {
   "display_name": "sciml",
   "language": "python",
   "name": "python3"
  },
  "language_info": {
   "codemirror_mode": {
    "name": "ipython",
    "version": 3
   },
   "file_extension": ".py",
   "mimetype": "text/x-python",
   "name": "python",
   "nbconvert_exporter": "python",
   "pygments_lexer": "ipython3",
   "version": "3.8.15"
  }
 },
 "nbformat": 4,
 "nbformat_minor": 2
}
