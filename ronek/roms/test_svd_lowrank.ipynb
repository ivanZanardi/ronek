{
 "cells": [
  {
   "cell_type": "markdown",
   "id": "11e7d091",
   "metadata": {},
   "source": [
    "Environment"
   ]
  },
  {
   "cell_type": "code",
   "execution_count": 1,
   "id": "4adfaf55",
   "metadata": {},
   "outputs": [],
   "source": [
    "import torch\n",
    "torch.set_default_dtype(torch.float64)"
   ]
  },
  {
   "cell_type": "code",
   "execution_count": 2,
   "id": "edcc0f88",
   "metadata": {},
   "outputs": [],
   "source": [
    "from lowrank import svd_lowrank"
   ]
  },
  {
   "cell_type": "code",
   "execution_count": 3,
   "id": "bd8ad721",
   "metadata": {},
   "outputs": [],
   "source": [
    "X = torch.randn(10,200)\n",
    "Y = torch.randn(10,150)\n",
    "A = Y.T @ X\n",
    "q = 4\n",
    "niter = 50"
   ]
  },
  {
   "cell_type": "code",
   "execution_count": null,
   "id": "d6b078e7",
   "metadata": {},
   "outputs": [],
   "source": [
    "Ut, st, Vt = torch.svd_lowrank(A, q=q, niter=niter)\n",
    "Ut"
   ]
  },
  {
   "cell_type": "code",
   "execution_count": null,
   "id": "a670b242",
   "metadata": {},
   "outputs": [],
   "source": [
    "Up, sp, Vp = svd_lowrank(X, Y, q=q, niter=niter)\n",
    "Up"
   ]
  },
  {
   "cell_type": "code",
   "execution_count": null,
   "id": "043df8bb",
   "metadata": {},
   "outputs": [],
   "source": [
    "100 * torch.abs(Ut - Up) / (torch.abs(Ut)+1e-7)"
   ]
  }
 ],
 "metadata": {
  "kernelspec": {
   "display_name": "sciml",
   "language": "python",
   "name": "python3"
  },
  "language_info": {
   "codemirror_mode": {
    "name": "ipython",
    "version": 3
   },
   "file_extension": ".py",
   "mimetype": "text/x-python",
   "name": "python",
   "nbconvert_exporter": "python",
   "pygments_lexer": "ipython3",
   "version": "3.8.15"
  }
 },
 "nbformat": 4,
 "nbformat_minor": 5
}
