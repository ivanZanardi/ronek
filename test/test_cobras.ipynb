{
 "cells": [
  {
   "cell_type": "code",
   "execution_count": 1,
   "metadata": {},
   "outputs": [],
   "source": [
    "import sys\n",
    "import copy\n",
    "import torch\n",
    "import numpy as np\n",
    "import scipy as sp\n",
    "import pandas as pd\n",
    "import dill as pickle\n",
    "import matplotlib.pyplot as plt"
   ]
  },
  {
   "cell_type": "code",
   "execution_count": 2,
   "metadata": {},
   "outputs": [],
   "source": [
    "sys.path.append(\"/home/zanardi/Codes/ML/RONEK/ronek/\")\n",
    "from ronek2 import env\n",
    "from ronek2 import const\n",
    "from ronek2 import utils\n",
    "from ronek2 import backend as bkd\n",
    "from ronek2.systems import BoxAd\n",
    "from ronek2.roms import CoBRAS\n",
    "\n",
    "import ronek2.postproc.plotting as pltt"
   ]
  },
  {
   "cell_type": "code",
   "execution_count": 3,
   "metadata": {},
   "outputs": [],
   "source": [
    "env_opts = {\n",
    "  \"backend\": \"numpy\",\n",
    "  \"device\": \"cpu\",\n",
    "  \"device_idx\": 0,\n",
    "  \"nb_threads\": 2,\n",
    "  \"epsilon\": None,\n",
    "  \"floatx\": \"float64\"\n",
    "}\n",
    "env.set(**env_opts)"
   ]
  },
  {
   "cell_type": "code",
   "execution_count": 4,
   "metadata": {},
   "outputs": [],
   "source": [
    "path_to_dtb = \"/home/zanardi/Codes/ML/RONEK/ronek/examples/CR_Ar/database\""
   ]
  },
  {
   "cell_type": "code",
   "execution_count": 5,
   "metadata": {},
   "outputs": [],
   "source": [
    "system = BoxAd(\n",
    "  species={k: path_to_dtb + \"/species/\" + k + \".json\" for k in (\"Ar\", \"Arp\", \"em\")},\n",
    "  kin_dtb=path_to_dtb + \"/rates/kin_fit.p\",\n",
    "  use_coll_int_fit=True\n",
    ")"
   ]
  },
  {
   "cell_type": "code",
   "execution_count": 6,
   "metadata": {},
   "outputs": [],
   "source": [
    "system.compute_c_mat(max_mom=2, state_specs=False)"
   ]
  },
  {
   "cell_type": "code",
   "execution_count": 7,
   "metadata": {},
   "outputs": [],
   "source": [
    "rho = 1e-2\n",
    "T = 3e4\n",
    "Te = 5e3\n",
    "mu_quad = {\n",
    "  \"x\": np.array([rho, T, Te]).reshape(1,-1),\n",
    "  \"w\": np.ones((1,1))\n",
    "}"
   ]
  },
  {
   "cell_type": "code",
   "execution_count": 8,
   "metadata": {},
   "outputs": [],
   "source": [
    "cobras = CoBRAS(\n",
    "  system=system,\n",
    "  tgrid={\"start\": 1e-12, \"stop\": 1e-3, \"num\": 50},\n",
    "  mu_quad=mu_quad,\n",
    "  path_to_saving=\"./\",\n",
    "  saving=True\n",
    ")"
   ]
  },
  {
   "cell_type": "code",
   "execution_count": null,
   "metadata": {},
   "outputs": [],
   "source": [
    "X, Y = cobras(\n",
    "  nb_meas=3,\n",
    "  modes=False\n",
    ")\n",
    "X.shape, Y.shape"
   ]
  },
  {
   "cell_type": "code",
   "execution_count": null,
   "metadata": {},
   "outputs": [],
   "source": [
    "cobras(\n",
    "  X=X,\n",
    "  Y=Y,\n",
    "  xnot=[0,-3,-2,-1],\n",
    "  modes=True,\n",
    "  pod=True\n",
    ")"
   ]
  },
  {
   "cell_type": "code",
   "execution_count": 11,
   "metadata": {},
   "outputs": [],
   "source": [
    "bases = pickle.load(open(\"./cobras_bases.p\", \"rb\"))"
   ]
  },
  {
   "cell_type": "code",
   "execution_count": 12,
   "metadata": {},
   "outputs": [],
   "source": [
    "for i in range(15):\n",
    "  nb = str(i+1)\n",
    "  b = bases[\"phi\"][:,i]\n",
    "  pltt.plot_dist_2d(\n",
    "    x=np.arange(len(b)),\n",
    "    y=b,\n",
    "    labels=[r\"$\\epsilon_i$ [eV]\", r\"$\\%s_{%s}$\" % (\"phi\", nb)],\n",
    "    scales=[\"linear\", \"linear\"],\n",
    "    markersize=1,\n",
    "    # figname=path + f\"/{name}_{nb.zfill(2)}\",\n",
    "    save=False,\n",
    "    show=False\n",
    "  )"
   ]
  },
  {
   "cell_type": "code",
   "execution_count": 13,
   "metadata": {},
   "outputs": [],
   "source": [
    "for i in range(15):\n",
    "  nb = str(i+1)\n",
    "  b = bases[\"psi\"][:,i]\n",
    "  pltt.plot_dist_2d(\n",
    "    x=np.arange(len(b)),\n",
    "    y=b,\n",
    "    labels=[r\"$\\epsilon_i$ [eV]\", r\"$\\%s_{%s}$\" % (\"psi\", nb)],\n",
    "    scales=[\"linear\", \"linear\"],\n",
    "    markersize=1,\n",
    "    # figname=path + f\"/{name}_{nb.zfill(2)}\",\n",
    "    save=False,\n",
    "    show=False\n",
    "  )"
   ]
  },
  {
   "cell_type": "code",
   "execution_count": 14,
   "metadata": {},
   "outputs": [],
   "source": [
    "t = system.get_tgrid(1e-13, 1e-3, 200)\n",
    "y0, rho = system.equil.get_init_sol(mu_quad[\"x\"].squeeze())"
   ]
  },
  {
   "cell_type": "code",
   "execution_count": null,
   "metadata": {},
   "outputs": [],
   "source": [
    "yfom, _ = system.solve_fom(t, y0, rho)"
   ]
  },
  {
   "cell_type": "code",
   "execution_count": 16,
   "metadata": {},
   "outputs": [],
   "source": [
    "w_fom = copy.deepcopy(yfom[:system.mix.nb_comp])\n",
    "n_fom = system.mix.get_n(bkd.to_torch(w_fom)).numpy()\n",
    "T_fom = copy.deepcopy(yfom[system.mix.nb_comp:])\n",
    "T_fom[-1] = system.mix.get_Te(pe=T_fom[-1], ne=n_fom[-1])"
   ]
  },
  {
   "cell_type": "code",
   "execution_count": 44,
   "metadata": {},
   "outputs": [],
   "source": [
    "rdim = 7\n",
    "\n",
    "# bases = pickle.load(open(\"./pod_bases.p\", \"rb\"))\n",
    "# phi, psi = bases[\"phi\"][:,:rdim], bases[\"phi\"][:,:rdim]\n",
    "\n",
    "bases = pickle.load(open(\"./cobras_bases.p\", \"rb\"))\n",
    "phi, psi = bases[\"phi\"][:,:rdim], bases[\"psi\"][:,:rdim]\n",
    "\n",
    "system.set_basis(phi, psi)"
   ]
  },
  {
   "cell_type": "code",
   "execution_count": null,
   "metadata": {},
   "outputs": [],
   "source": [
    "yrom, _ = system.solve_rom(t, y0, rho)\n",
    "nt = len(yrom.T)\n",
    "nt"
   ]
  },
  {
   "cell_type": "code",
   "execution_count": 46,
   "metadata": {},
   "outputs": [],
   "source": [
    "w_rom = copy.deepcopy(yrom[:system.mix.nb_comp])\n",
    "n_rom = system.mix.get_n(bkd.to_torch(w_rom)).numpy()\n",
    "T_rom = copy.deepcopy(yrom[system.mix.nb_comp:])\n",
    "T_rom[-1] = system.mix.get_Te(pe=T_rom[-1], ne=n_rom[-1])"
   ]
  },
  {
   "cell_type": "code",
   "execution_count": null,
   "metadata": {},
   "outputs": [],
   "source": [
    "for i in range(2):\n",
    "  plt.semilogx(t[1:nt], T_fom[i][1:nt])\n",
    "  plt.semilogx(t[1:nt], T_rom[i][1:nt], ls=\"--\", color=plt.gca().lines[-1].get_color())\n",
    "plt.show()\n",
    "plt.close()"
   ]
  },
  {
   "cell_type": "code",
   "execution_count": null,
   "metadata": {},
   "outputs": [],
   "source": [
    "for s in system.mix.species.values():\n",
    "  print(s.name)\n",
    "  for i in s.indices:\n",
    "    plt.loglog(t[1:nt], n_fom[i][1:nt])\n",
    "    plt.loglog(t[1:nt], n_rom[i][1:nt], ls=\"--\", color=plt.gca().lines[-1].get_color())\n",
    "  plt.show()\n",
    "  plt.close()"
   ]
  }
 ],
 "metadata": {
  "kernelspec": {
   "display_name": "sciml",
   "language": "python",
   "name": "python3"
  },
  "language_info": {
   "codemirror_mode": {
    "name": "ipython",
    "version": 3
   },
   "file_extension": ".py",
   "mimetype": "text/x-python",
   "name": "python",
   "nbconvert_exporter": "python",
   "pygments_lexer": "ipython3",
   "version": "3.8.15"
  }
 },
 "nbformat": 4,
 "nbformat_minor": 2
}
