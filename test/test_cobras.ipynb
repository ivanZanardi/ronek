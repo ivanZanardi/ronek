{
 "cells": [
  {
   "cell_type": "code",
   "execution_count": 1,
   "metadata": {},
   "outputs": [],
   "source": [
    "import sys\n",
    "import copy\n",
    "import torch\n",
    "import numpy as np\n",
    "import scipy as sp\n",
    "import pandas as pd\n",
    "import matplotlib.pyplot as plt"
   ]
  },
  {
   "cell_type": "code",
   "execution_count": 2,
   "metadata": {},
   "outputs": [],
   "source": [
    "sys.path.append(\"/home/zanardi/Codes/ML/RONEK/ronek/\")\n",
    "from ronek2 import env\n",
    "from ronek2 import const\n",
    "from ronek2 import utils\n",
    "from ronek2 import backend as bkd\n",
    "from ronek2.systems import BoxAd\n",
    "from ronek2.roms import CoBRAS"
   ]
  },
  {
   "cell_type": "code",
   "execution_count": 3,
   "metadata": {},
   "outputs": [],
   "source": [
    "env_opts = {\n",
    "  \"backend\": \"numpy\",\n",
    "  \"device\": \"cpu\",\n",
    "  \"device_idx\": 0,\n",
    "  \"nb_threads\": 2,\n",
    "  \"epsilon\": None,\n",
    "  \"floatx\": \"float64\"\n",
    "}\n",
    "env.set(**env_opts)"
   ]
  },
  {
   "cell_type": "code",
   "execution_count": 4,
   "metadata": {},
   "outputs": [],
   "source": [
    "path_to_dtb = \"/home/zanardi/Codes/ML/RONEK/ronek/examples/CR_Ar/database\""
   ]
  },
  {
   "cell_type": "code",
   "execution_count": 5,
   "metadata": {},
   "outputs": [],
   "source": [
    "system = BoxAd(\n",
    "  species={k: path_to_dtb + \"/species/\" + k + \".json\" for k in (\"Ar\", \"Arp\", \"em\")},\n",
    "  kin_dtb=path_to_dtb + \"/rates/kin_fit.p\",\n",
    "  use_coll_int_fit=True\n",
    ")\n",
    "system.compute_c_mat(max_mom=2)"
   ]
  },
  {
   "cell_type": "code",
   "execution_count": 6,
   "metadata": {},
   "outputs": [],
   "source": [
    "rho = 1e-2\n",
    "T = 3e4\n",
    "Te = 3e2\n",
    "mu_quad = {\n",
    "  \"x\": np.array([rho, T, Te]).reshape(1,-1),\n",
    "  \"w\": np.ones((1,1))\n",
    "}"
   ]
  },
  {
   "cell_type": "code",
   "execution_count": 7,
   "metadata": {},
   "outputs": [],
   "source": [
    "cobras = CoBRAS(\n",
    "  system=system,\n",
    "  tgrid={\"start\": 1e-12, \"stop\": 1e-3, \"num\": 25},\n",
    "  mu_quad=mu_quad,\n",
    "  path_to_saving=\"./\",\n",
    "  saving=True\n",
    ")"
   ]
  },
  {
   "cell_type": "code",
   "execution_count": null,
   "metadata": {},
   "outputs": [],
   "source": [
    "cobras(\n",
    "  nb_meas=4,\n",
    "  xnot=[-2,-1],\n",
    "  modes=True,\n",
    "  pod=True\n",
    ")"
   ]
  },
  {
   "cell_type": "code",
   "execution_count": null,
   "metadata": {},
   "outputs": [],
   "source": [
    "stop"
   ]
  },
  {
   "cell_type": "code",
   "execution_count": null,
   "metadata": {},
   "outputs": [],
   "source": [
    "X, Y = cobras(\n",
    "  nb_meas=3,\n",
    "  xnot=[-2,-1],\n",
    "  modes=False,\n",
    "  pod=True\n",
    ")"
   ]
  },
  {
   "cell_type": "code",
   "execution_count": null,
   "metadata": {},
   "outputs": [],
   "source": [
    "X.shape, Y.shape"
   ]
  },
  {
   "cell_type": "code",
   "execution_count": null,
   "metadata": {},
   "outputs": [],
   "source": [
    "Y[:,500]"
   ]
  },
  {
   "cell_type": "code",
   "execution_count": 12,
   "metadata": {},
   "outputs": [],
   "source": [
    "Ux, sx, Vhx = sp.linalg.svd(X)\n",
    "Uy, sy, Vhy = sp.linalg.svd(Y)"
   ]
  },
  {
   "cell_type": "code",
   "execution_count": null,
   "metadata": {},
   "outputs": [],
   "source": [
    "sx.max()*sy.min(), sx.min()*sy.max()"
   ]
  },
  {
   "cell_type": "code",
   "execution_count": 14,
   "metadata": {},
   "outputs": [],
   "source": [
    "# Compute the initial solution for the system\n",
    "y0, rho = system.equil.get_init_sol(mu_quad[\"x\"].squeeze(), noise=False, sigma=1e-1)\n",
    "# Determine the smallest time scale for resolving system dynamics\n",
    "tmin = system.compute_lin_tscale(y0, rho, smallest=True)\n",
    "# Generate a time quadrature grid and associated weights\n",
    "t, w_t = cobras.get_tquad(tmin)"
   ]
  },
  {
   "cell_type": "code",
   "execution_count": 15,
   "metadata": {},
   "outputs": [],
   "source": [
    "y = system.solve_fom(t, y0, rho, linear=False)[0]"
   ]
  },
  {
   "cell_type": "code",
   "execution_count": 16,
   "metadata": {},
   "outputs": [],
   "source": [
    "w_true = copy.deepcopy(y[:system.mix.nb_comp])\n",
    "n_true = system.mix.get_n(bkd.to_torch(w_true)).numpy()\n",
    "T_true = copy.deepcopy(y[system.mix.nb_comp:])\n",
    "T_true[-1] = system.mix.get_Te(pe=T_true[-1], ne=n_true[-1])"
   ]
  },
  {
   "cell_type": "code",
   "execution_count": 17,
   "metadata": {},
   "outputs": [],
   "source": [
    "ylin = system.solve_fom(t, y0, rho, linear=True)[0]\n",
    "# ylin = system.solve_fom(t[28:]-t[28], y[:,28], rho, linear=True)[0]"
   ]
  },
  {
   "cell_type": "code",
   "execution_count": null,
   "metadata": {},
   "outputs": [],
   "source": [
    "(t[28:]-t[28])[11]"
   ]
  },
  {
   "cell_type": "code",
   "execution_count": null,
   "metadata": {},
   "outputs": [],
   "source": [
    "ylin.shape"
   ]
  },
  {
   "cell_type": "code",
   "execution_count": 20,
   "metadata": {},
   "outputs": [],
   "source": [
    "err = utils.absolute_percentage_error(y, ylin, eps=0.0)"
   ]
  },
  {
   "cell_type": "code",
   "execution_count": 21,
   "metadata": {},
   "outputs": [],
   "source": [
    "w_pred = copy.deepcopy(ylin[:system.mix.nb_comp])\n",
    "n_pred = system.mix.get_n(bkd.to_torch(w_pred)).numpy()\n",
    "T_pred = copy.deepcopy(ylin[system.mix.nb_comp:])\n",
    "T_pred[-1] = system.mix.get_Te(pe=T_pred[-1], ne=n_pred[-1])"
   ]
  },
  {
   "cell_type": "code",
   "execution_count": null,
   "metadata": {},
   "outputs": [],
   "source": [
    "err = []\n",
    "for i in range(2):\n",
    "  ierr = np.mean(np.abs((T_true[i] - T_pred[i])/T_true[i]))\n",
    "  err.append(ierr)\n",
    "  plt.loglog(t[1:-10], T_true[i][1:-10])\n",
    "  plt.loglog(t[1:-10], T_pred[i][1:-10], ls=\"--\", color=plt.gca().lines[-1].get_color())\n",
    "print(\"T\")\n",
    "print(np.mean(err))\n",
    "plt.show()\n",
    "plt.close()"
   ]
  },
  {
   "cell_type": "code",
   "execution_count": null,
   "metadata": {},
   "outputs": [],
   "source": [
    "for s in system.mix.species.values():\n",
    "  print(s.name)\n",
    "  err = []\n",
    "  for i in s.indices:\n",
    "    ierr = np.mean(np.abs((n_true[i] - n_pred[i])/n_true[i]))\n",
    "    err.append(ierr)\n",
    "    plt.loglog(t[1:], n_true[i][1:])\n",
    "    plt.loglog(t[1:], n_pred[i][1:], ls=\"--\", color=plt.gca().lines[-1].get_color())\n",
    "  print(np.mean(err))\n",
    "  plt.show()\n",
    "  plt.close()"
   ]
  },
  {
   "cell_type": "code",
   "execution_count": null,
   "metadata": {},
   "outputs": [],
   "source": [
    "# Compute the error between nonlinear and linear solutions\n",
    "err = utils.absolute_percentage_error(y, ylin, eps=0.0)\n",
    "# Average the error across the state dimension\n",
    "err = np.mean(err, axis=0)\n",
    "# Find the last index where the error is within the threshold\n",
    "idx = np.argmin(np.abs(err - 25.0))\n",
    "print(idx, t[idx])"
   ]
  },
  {
   "cell_type": "code",
   "execution_count": null,
   "metadata": {},
   "outputs": [],
   "source": [
    "plt.plot()"
   ]
  },
  {
   "cell_type": "code",
   "execution_count": null,
   "metadata": {},
   "outputs": [],
   "source": []
  },
  {
   "cell_type": "code",
   "execution_count": null,
   "metadata": {},
   "outputs": [],
   "source": [
    "y0 = np.zeros(system.nb_eqs)\n",
    "y0[:system.mix.nb_comp] = rho_true[:,0] / rho\n",
    "y0[-2] = Th0\n",
    "y0[-1] = system.mix.get_pe(Te=Te0, ne=n_true[-1,0])\n",
    "y0"
   ]
  },
  {
   "cell_type": "code",
   "execution_count": null,
   "metadata": {},
   "outputs": [],
   "source": [
    "y, runtime = system.solve_fom(t, y0, rho, linear=False)\n",
    "runtime"
   ]
  },
  {
   "cell_type": "code",
   "execution_count": 13,
   "metadata": {},
   "outputs": [],
   "source": [
    "w_pred = copy.deepcopy(y[:system.mix.nb_comp])\n",
    "n_pred = system.mix.get_n(bkd.to_torch(w_pred)).numpy()\n",
    "T_pred = copy.deepcopy(y[system.mix.nb_comp:])\n",
    "T_pred[-1] = system.mix.get_Te(pe=T_pred[-1], ne=n_pred[-1])"
   ]
  },
  {
   "cell_type": "code",
   "execution_count": null,
   "metadata": {},
   "outputs": [],
   "source": [
    "err = []\n",
    "for i in range(2):\n",
    "  ierr = np.mean(np.abs((T_true[i] - T_pred[i])/T_true[i]))\n",
    "  err.append(ierr)\n",
    "  plt.semilogx(t[1:], T_true[i][1:])\n",
    "  plt.semilogx(t[1:], T_pred[i][1:], ls=\"--\", color=plt.gca().lines[-1].get_color())\n",
    "print(\"T\")\n",
    "print(np.mean(err))\n",
    "plt.show()\n",
    "plt.close()"
   ]
  },
  {
   "cell_type": "code",
   "execution_count": null,
   "metadata": {},
   "outputs": [],
   "source": [
    "for s in system.mix.species.values():\n",
    "  print(s.name)\n",
    "  err = []\n",
    "  for i in s.indices:\n",
    "    ierr = np.mean(np.abs((n_true[i] - n_pred[i])/n_true[i]))\n",
    "    err.append(ierr)\n",
    "    plt.loglog(t[1:], n_true[i][1:])\n",
    "    plt.loglog(t[1:], n_pred[i][1:], ls=\"--\", color=plt.gca().lines[-1].get_color())\n",
    "  print(np.mean(err))\n",
    "  plt.show()\n",
    "  plt.close()"
   ]
  },
  {
   "cell_type": "markdown",
   "metadata": {},
   "source": [
    "Linear system"
   ]
  },
  {
   "cell_type": "code",
   "execution_count": null,
   "metadata": {},
   "outputs": [],
   "source": [
    "ylin, runtime = system.solve_fom(t, y0, rho, linear=True)\n",
    "runtime"
   ]
  },
  {
   "cell_type": "code",
   "execution_count": 17,
   "metadata": {},
   "outputs": [],
   "source": [
    "w_lin = copy.deepcopy(ylin[:system.mix.nb_comp])\n",
    "n_lin = system.mix.get_n(bkd.to_torch(w_lin)).numpy()\n",
    "T_lin = copy.deepcopy(ylin[system.mix.nb_comp:])\n",
    "T_lin[-1] = system.mix.get_Te(pe=T_lin[-1], ne=n_lin[-1])"
   ]
  },
  {
   "cell_type": "code",
   "execution_count": null,
   "metadata": {},
   "outputs": [],
   "source": [
    "err = []\n",
    "for i in range(2):\n",
    "  ierr = np.mean(np.abs((T_pred[i] - T_lin[i])/T_pred[i]))\n",
    "  err.append(ierr)\n",
    "  plt.semilogx(t[1:-200], T_pred[i][1:-200])\n",
    "  plt.semilogx(t[1:-200], T_lin[i][1:-200], ls=\"--\", color=plt.gca().lines[-1].get_color())\n",
    "print(\"T\")\n",
    "print(np.mean(err))\n",
    "plt.show()\n",
    "plt.close()"
   ]
  },
  {
   "cell_type": "code",
   "execution_count": null,
   "metadata": {},
   "outputs": [],
   "source": [
    "for s in system.mix.species.values():\n",
    "  print(s.name)\n",
    "  err = []\n",
    "  for i in s.indices:\n",
    "    ierr = np.mean(np.abs((n_pred[i] - n_lin[i])/n_pred[i]))\n",
    "    err.append(ierr)\n",
    "    plt.loglog(t[1:], n_pred[i][1:])\n",
    "    plt.loglog(t[1:], n_lin[i][1:], ls=\"--\", color=plt.gca().lines[-1].get_color())\n",
    "  print(np.mean(err))\n",
    "  plt.show()\n",
    "  plt.close()"
   ]
  },
  {
   "cell_type": "markdown",
   "metadata": {},
   "source": [
    "Sample time points"
   ]
  },
  {
   "cell_type": "code",
   "execution_count": 20,
   "metadata": {},
   "outputs": [],
   "source": [
    "y_interp = sp.interpolate.interp1d(t, y, kind=\"linear\", axis=-1)"
   ]
  },
  {
   "cell_type": "code",
   "execution_count": 21,
   "metadata": {},
   "outputs": [],
   "source": [
    "tvec = np.array([0.0] + np.geomspace(1e-12, 1e-4, 100).tolist())\n",
    "tsamples = np.geomspace(1e-13, 1e-4, 10)"
   ]
  },
  {
   "cell_type": "code",
   "execution_count": null,
   "metadata": {},
   "outputs": [],
   "source": [
    "for i, ti in enumerate(tsamples):\n",
    "  \n",
    "  print(f\"Time {i+1}: {ti} s\")\n",
    "  print(\"=\"*40)\n",
    "\n",
    "  yref = y_interp(tvec+ti)\n",
    "  ylin, _ = system.solve_fom(tvec, yref[:,0], rho, linear=True)\n",
    "\n",
    "  tau1 = system.compute_lin_tlim(tvec, yref, rho, use_eig=True, err_max=25.0)\n",
    "  tau2 = system.compute_lin_tlim(tvec, yref, rho, use_eig=False, err_max=25.0)\n",
    "  print(tau1, tau2)\n",
    "\n",
    "  for s in system.mix.species.values():\n",
    "    for i in s.indices:\n",
    "      plt.loglog(tvec[1:], yref[i][1:])\n",
    "      plt.loglog(tvec[1:], ylin[i][1:], ls=\"--\", color=plt.gca().lines[-1].get_color())\n",
    "    plt.axvline(x=tau1[1], color='r', linestyle='--')\n",
    "    plt.axvline(x=tau2[1], color='g', linestyle='--')\n",
    "    plt.show()\n",
    "    plt.close()"
   ]
  }
 ],
 "metadata": {
  "kernelspec": {
   "display_name": "sciml",
   "language": "python",
   "name": "python3"
  },
  "language_info": {
   "codemirror_mode": {
    "name": "ipython",
    "version": 3
   },
   "file_extension": ".py",
   "mimetype": "text/x-python",
   "name": "python",
   "nbconvert_exporter": "python",
   "pygments_lexer": "ipython3",
   "version": "3.8.15"
  }
 },
 "nbformat": 4,
 "nbformat_minor": 2
}
