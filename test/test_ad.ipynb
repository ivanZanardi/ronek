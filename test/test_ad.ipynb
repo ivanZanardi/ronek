{
 "cells": [
  {
   "cell_type": "code",
   "execution_count": 1,
   "metadata": {},
   "outputs": [],
   "source": [
    "import sys\n",
    "import copy\n",
    "import torch\n",
    "import numpy as np\n",
    "import scipy as sp\n",
    "import pandas as pd\n",
    "import matplotlib.pyplot as plt"
   ]
  },
  {
   "cell_type": "code",
   "execution_count": 2,
   "metadata": {},
   "outputs": [],
   "source": [
    "sys.path.append(\"/home/zanardi/Codes/ML/RONEK/ronek/\")\n",
    "from ronek2 import env\n",
    "from ronek2 import const\n",
    "from ronek2 import backend as bkd\n",
    "from ronek2.systems import BoxAd"
   ]
  },
  {
   "cell_type": "code",
   "execution_count": 3,
   "metadata": {},
   "outputs": [],
   "source": [
    "env_opts = {\n",
    "  \"backend\": \"numpy\",\n",
    "  \"device\": \"cpu\",\n",
    "  \"device_idx\": 0,\n",
    "  \"nb_threads\": 2,\n",
    "  \"epsilon\": None,\n",
    "  \"floatx\": \"float64\"\n",
    "}\n",
    "env.set(**env_opts)"
   ]
  },
  {
   "cell_type": "code",
   "execution_count": 4,
   "metadata": {},
   "outputs": [],
   "source": [
    "path_to_dtb = \"/home/zanardi/Codes/ML/RONEK/ronek/examples/CR_Ar/database\""
   ]
  },
  {
   "cell_type": "code",
   "execution_count": 5,
   "metadata": {},
   "outputs": [],
   "source": [
    "model = BoxAd(\n",
    "  species={k: path_to_dtb + \"/species/\" + k + \".json\" for k in (\"Ar\", \"Arp\", \"em\")},\n",
    "  kin_dtb=path_to_dtb + \"/rates/kin_fit.p\",\n",
    "  use_coll_int_fit=True\n",
    ")\n",
    "model.compute_c_mat(max_mom=2)"
   ]
  },
  {
   "cell_type": "code",
   "execution_count": 6,
   "metadata": {},
   "outputs": [],
   "source": [
    "sol_ref = \"/home/zanardi/Workspace/AirDatabase/ThermoChemModels/StS/argon/testcase/test_ad/output_box\""
   ]
  },
  {
   "cell_type": "code",
   "execution_count": null,
   "metadata": {},
   "outputs": [],
   "source": [
    "columns = \"t X_em X_Ar X_Arp Th Te rho p n E\".split()\n",
    "box = np.loadtxt(sol_ref + \"/box.dat\")\n",
    "box = pd.DataFrame(box, columns=columns)\n",
    "box"
   ]
  },
  {
   "cell_type": "code",
   "execution_count": 8,
   "metadata": {},
   "outputs": [],
   "source": [
    "t = box[\"t\"].values\n",
    "rho, Th0, Te0 = [box[k][0] for k in (\"rho\", \"Th\", \"Te\")]"
   ]
  },
  {
   "cell_type": "code",
   "execution_count": 9,
   "metadata": {},
   "outputs": [],
   "source": [
    "def read_pop(name):\n",
    "  ni_gi  = np.loadtxt(sol_ref + f\"/pop_{name}.dat\", comments=\"&\", skiprows=2)[:,1]\n",
    "  levels = model.mix.species[name].lev\n",
    "  nb_pts = len(ni_gi) / len(levels[\"g\"])\n",
    "  ni_gi  = np.stack(np.split(ni_gi, nb_pts, axis=0), axis=0)\n",
    "  return ni_gi * levels[\"g\"].numpy()"
   ]
  },
  {
   "cell_type": "code",
   "execution_count": 10,
   "metadata": {},
   "outputs": [],
   "source": [
    "n = {k: read_pop(k) for k in (\"Ar\", \"Arp\")}\n",
    "n[\"em\"] = (box[\"X_em\"] * box[\"n\"]).values.reshape(-1,1)\n",
    "n_true = np.hstack([n[k] for k in model.species_order]).T\n",
    "rho_true = model.mix.get_rho(bkd.to_torch(n_true)).numpy()\n",
    "T_true = box[[\"Th\", \"Te\"]].values.T\n",
    "rho = np.sum(rho_true[:,0])"
   ]
  },
  {
   "cell_type": "code",
   "execution_count": null,
   "metadata": {},
   "outputs": [],
   "source": [
    "y0 = np.zeros(model.nb_eqs)\n",
    "y0[:model.mix.nb_comp] = rho_true[:,0] / rho\n",
    "y0[-2] = Th0\n",
    "y0[-1] = model.mix.get_pe(Te=Te0, ne=n_true[-1,0])\n",
    "y0"
   ]
  },
  {
   "cell_type": "code",
   "execution_count": null,
   "metadata": {},
   "outputs": [],
   "source": [
    "y, runtime = model.solve_fom(t, y0, rho)\n",
    "runtime"
   ]
  },
  {
   "cell_type": "code",
   "execution_count": 13,
   "metadata": {},
   "outputs": [],
   "source": [
    "w_pred = copy.deepcopy(y[:model.mix.nb_comp])\n",
    "n_pred = model.mix.get_n(bkd.to_torch(w_pred)).numpy()\n",
    "T_pred = copy.deepcopy(y[model.mix.nb_comp:])\n",
    "T_pred[-1] = model.mix.get_Te(pe=T_pred[-1], ne=n_pred[-1])"
   ]
  },
  {
   "cell_type": "code",
   "execution_count": null,
   "metadata": {},
   "outputs": [],
   "source": [
    "err = []\n",
    "for i in range(2):\n",
    "  ierr = np.mean(np.abs((T_true[i] - T_pred[i])/T_true[i]))\n",
    "  err.append(ierr)\n",
    "  plt.semilogx(t[1:], T_true[i][1:])\n",
    "  plt.semilogx(t[1:], T_pred[i][1:], ls=\"--\", color=plt.gca().lines[-1].get_color())\n",
    "print(\"T\")\n",
    "print(np.mean(err))\n",
    "plt.show()\n",
    "plt.close()"
   ]
  },
  {
   "cell_type": "code",
   "execution_count": null,
   "metadata": {},
   "outputs": [],
   "source": [
    "for s in model.mix.species.values():\n",
    "  print(s.name)\n",
    "  err = []\n",
    "  for i in s.indices:\n",
    "    ierr = np.mean(np.abs((n_true[i] - n_pred[i])/n_true[i]))\n",
    "    err.append(ierr)\n",
    "    plt.loglog(t[1:], n_true[i][1:])\n",
    "    plt.loglog(t[1:], n_pred[i][1:], ls=\"--\", color=plt.gca().lines[-1].get_color())\n",
    "  print(np.mean(err))\n",
    "  plt.show()\n",
    "  plt.close()"
   ]
  },
  {
   "cell_type": "markdown",
   "metadata": {},
   "source": [
    "Linear model"
   ]
  },
  {
   "cell_type": "code",
   "execution_count": 16,
   "metadata": {},
   "outputs": [],
   "source": [
    "def get_time_scale(y, index=-2):\n",
    "  A = model.jac(0.0, y)[:31,:31]\n",
    "  l = sp.linalg.eigvals(A)\n",
    "  tau = np.sort(np.abs(1.0/l))\n",
    "  return tau[index]"
   ]
  },
  {
   "cell_type": "code",
   "execution_count": 17,
   "metadata": {},
   "outputs": [],
   "source": [
    "def solve_lin(t, y0):\n",
    "  A = model.jac(0.0, y0)\n",
    "  b = model.fun(0.0, y0)\n",
    "  y = sp.integrate.solve_ivp(\n",
    "    fun=lambda t, y: A @ y + b,\n",
    "    t_span=[0.0,t[-1]],\n",
    "    y0=np.zeros_like(y0),\n",
    "    method=\"LSODA\",\n",
    "    t_eval=t,\n",
    "    first_step=1e-14,\n",
    "    rtol=1e-6,\n",
    "    atol=1e-20,\n",
    "    jac=lambda t, y: A\n",
    "  ).y\n",
    "  y += y0.reshape(-1,1)\n",
    "  return y"
   ]
  },
  {
   "cell_type": "code",
   "execution_count": 18,
   "metadata": {},
   "outputs": [],
   "source": [
    "ylin = solve_lin(t, y0)"
   ]
  },
  {
   "cell_type": "code",
   "execution_count": 19,
   "metadata": {},
   "outputs": [],
   "source": [
    "w_lin = copy.deepcopy(ylin[:model.mix.nb_comp])\n",
    "n_lin = model.mix.get_n(bkd.to_torch(w_lin)).numpy()\n",
    "T_lin = copy.deepcopy(ylin[model.mix.nb_comp:])\n",
    "T_lin[-1] = model.mix.get_Te(pe=T_lin[-1], ne=n_lin[-1])"
   ]
  },
  {
   "cell_type": "code",
   "execution_count": null,
   "metadata": {},
   "outputs": [],
   "source": [
    "err = []\n",
    "for i in range(2):\n",
    "  ierr = np.mean(np.abs((T_pred[i] - T_lin[i])/T_pred[i]))\n",
    "  err.append(ierr)\n",
    "  plt.semilogx(t[1:-200], T_pred[i][1:-200])\n",
    "  plt.semilogx(t[1:-200], T_lin[i][1:-200], ls=\"--\", color=plt.gca().lines[-1].get_color())\n",
    "print(\"T\")\n",
    "print(np.mean(err))\n",
    "plt.show()\n",
    "plt.close()"
   ]
  },
  {
   "cell_type": "code",
   "execution_count": null,
   "metadata": {},
   "outputs": [],
   "source": [
    "for s in model.mix.species.values():\n",
    "  print(s.name)\n",
    "  err = []\n",
    "  for i in s.indices:\n",
    "    ierr = np.mean(np.abs((n_pred[i] - n_lin[i])/n_pred[i]))\n",
    "    err.append(ierr)\n",
    "    plt.loglog(t[1:], n_pred[i][1:])\n",
    "    plt.loglog(t[1:], n_lin[i][1:], ls=\"--\", color=plt.gca().lines[-1].get_color())\n",
    "  print(np.mean(err))\n",
    "  plt.show()\n",
    "  plt.close()"
   ]
  },
  {
   "cell_type": "code",
   "execution_count": null,
   "metadata": {},
   "outputs": [],
   "source": [
    "err = 100 * np.mean(np.abs((ylin-y)/y), axis=0)\n",
    "ierr = np.where(err < 3e1)[0][-1]\n",
    "t[ierr]"
   ]
  },
  {
   "cell_type": "code",
   "execution_count": null,
   "metadata": {},
   "outputs": [],
   "source": [
    "plt.loglog(t[1:], err[1:])\n",
    "plt.show()\n",
    "plt.close()"
   ]
  },
  {
   "cell_type": "markdown",
   "metadata": {},
   "source": [
    "Sample time points"
   ]
  },
  {
   "cell_type": "code",
   "execution_count": 24,
   "metadata": {},
   "outputs": [],
   "source": [
    "y_interp = sp.interpolate.interp1d(t, y, kind=\"linear\", axis=-1)"
   ]
  },
  {
   "cell_type": "code",
   "execution_count": 25,
   "metadata": {},
   "outputs": [],
   "source": [
    "tvec = np.array([0.0] + np.geomspace(1e-12, 1e-4, 100).tolist())\n",
    "tsamples = np.geomspace(1e-13, 1e-4, 10)"
   ]
  },
  {
   "cell_type": "code",
   "execution_count": null,
   "metadata": {},
   "outputs": [],
   "source": [
    "for i, ti in enumerate(tsamples):\n",
    "  \n",
    "  print(f\"Time {i+1}: {ti} s\")\n",
    "  print(\"=\"*40)\n",
    "\n",
    "  yref = y_interp(tvec+ti)\n",
    "  ylin = solve_lin(tvec, yref[:,0])\n",
    "\n",
    "  tau = get_time_scale(yref[:,0], index=-2)\n",
    "  print(tau)\n",
    "\n",
    "  for s in model.mix.species.values():\n",
    "    for i in s.indices:\n",
    "      plt.loglog(tvec[1:], yref[i][1:])\n",
    "      plt.loglog(tvec[1:], ylin[i][1:], ls=\"--\", color=plt.gca().lines[-1].get_color())\n",
    "    plt.axvline(x=tau, color='r', linestyle='--')\n",
    "    plt.show()\n",
    "    plt.close()"
   ]
  }
 ],
 "metadata": {
  "kernelspec": {
   "display_name": "sciml",
   "language": "python",
   "name": "python3"
  },
  "language_info": {
   "codemirror_mode": {
    "name": "ipython",
    "version": 3
   },
   "file_extension": ".py",
   "mimetype": "text/x-python",
   "name": "python",
   "nbconvert_exporter": "python",
   "pygments_lexer": "ipython3",
   "version": "3.8.15"
  }
 },
 "nbformat": 4,
 "nbformat_minor": 2
}
