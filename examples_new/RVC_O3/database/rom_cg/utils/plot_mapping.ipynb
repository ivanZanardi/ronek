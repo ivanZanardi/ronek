{
 "cells": [
  {
   "cell_type": "code",
   "execution_count": null,
   "metadata": {},
   "outputs": [],
   "source": [
    "import os\n",
    "import numpy as np\n",
    "import pandas as pd\n",
    "import matplotlib as mpl\n",
    "import matplotlib.pyplot as plt"
   ]
  },
  {
   "cell_type": "code",
   "execution_count": null,
   "metadata": {},
   "outputs": [],
   "source": [
    "mapping = \"ADA15\"\n",
    "map_file = f\"./../testcases/{mapping}/mapping.csv\"\n",
    "lev_file = \"/home/zanardi/Codes/TC/HyperNet/database/levels/O3_UMN/O2.csv\""
   ]
  },
  {
   "cell_type": "code",
   "execution_count": null,
   "metadata": {},
   "outputs": [],
   "source": [
    "levels = pd.read_csv(lev_file)\n",
    "ji = levels[\"jqn\"].values\n",
    "ei = levels[\"E\"].values\n",
    "ei -= ei.min()"
   ]
  },
  {
   "cell_type": "code",
   "execution_count": null,
   "metadata": {},
   "outputs": [],
   "source": [
    "mapping = pd.read_csv(map_file).values[:,-1].astype(int)\n",
    "mapping -= mapping.min() - 1"
   ]
  },
  {
   "cell_type": "code",
   "execution_count": null,
   "metadata": {},
   "outputs": [],
   "source": [
    "# mapping = np.vstack([np.arange(len(mapping)), mapping+1]).T\n",
    "# np.savetxt(map_file, mapping, fmt=\"%i\", delimiter=\",\", header=\"Idx,Group\")"
   ]
  },
  {
   "cell_type": "code",
   "execution_count": null,
   "metadata": {},
   "outputs": [],
   "source": [
    "def plot_mapping_2d(mapping, filename=None):\n",
    "  plt.figure()\n",
    "  nb_bins = mapping.max()\n",
    "  colors = plt.get_cmap('tab20').colors[:nb_bins]\n",
    "  for c in range(nb_bins):\n",
    "    i = (mapping == c+1)\n",
    "    plt.scatter(ji[i], ei[i], c=mpl.colors.to_hex(colors[c]), s=2)\n",
    "  plt.xlabel(\"$J$\")\n",
    "  plt.ylabel(\"$\\epsilon_i$ [eV]\")\n",
    "  plt.tight_layout()\n",
    "  if filename:\n",
    "    plt.savefig(filename)\n",
    "  plt.show()\n",
    "\n",
    "def plot_mapping_1d(mapping):\n",
    "  plt.figure()\n",
    "  nb_bins = mapping.max()\n",
    "  colors = plt.get_cmap('tab20').colors[:nb_bins]\n",
    "  for c in range(mapping.max()):\n",
    "    i = (mapping == c+1)\n",
    "    plt.scatter(ei[i], np.ones_like(ei[i])*(c+1), c=mpl.colors.to_hex(colors[c]), s=2)\n",
    "  plt.xlabel('$\\epsilon_i$ [eV]')\n",
    "  plt.ylabel('Cluster')\n",
    "  plt.show()"
   ]
  },
  {
   "cell_type": "code",
   "execution_count": null,
   "metadata": {},
   "outputs": [],
   "source": [
    "plot_mapping_2d(mapping, filename=os.path.splitext(map_file)[0]+\".png\")\n",
    "plot_mapping_1d(mapping)"
   ]
  }
 ],
 "metadata": {
  "kernelspec": {
   "display_name": "sciml",
   "language": "python",
   "name": "python3"
  },
  "language_info": {
   "codemirror_mode": {
    "name": "ipython",
    "version": 3
   },
   "file_extension": ".py",
   "mimetype": "text/x-python",
   "name": "python",
   "nbconvert_exporter": "python",
   "pygments_lexer": "ipython3",
   "version": "3.8.15"
  }
 },
 "nbformat": 4,
 "nbformat_minor": 2
}
