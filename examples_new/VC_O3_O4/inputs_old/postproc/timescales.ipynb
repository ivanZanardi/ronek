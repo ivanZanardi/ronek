{
 "cells": [
  {
   "cell_type": "markdown",
   "id": "11e7d091",
   "metadata": {},
   "source": [
    "## Timescales\n",
    "\n",
    "Environment"
   ]
  },
  {
   "cell_type": "code",
   "execution_count": 1,
   "id": "2c8ff0da",
   "metadata": {},
   "outputs": [],
   "source": [
    "import sys\n",
    "sys.path.append(\"/home/zanardi/Codes/ML/RONEK/ronek/\")\n",
    "\n",
    "from ronek import env\n",
    "env.set(\n",
    "  device=\"cpu\",\n",
    "  device_idx=0,\n",
    "  nb_threads=8,\n",
    "  floatx=\"float64\"\n",
    ")"
   ]
  },
  {
   "cell_type": "markdown",
   "id": "celtic-chain",
   "metadata": {},
   "source": [
    "Import libraries"
   ]
  },
  {
   "cell_type": "code",
   "execution_count": 2,
   "id": "8dba1102",
   "metadata": {},
   "outputs": [],
   "source": [
    "import json\n",
    "import numpy as np\n",
    "import scipy as sp\n",
    "\n",
    "from ronek import utils\n",
    "from ronek.systems import TAFASystem\n",
    "from silx.io.dictdump import h5todict"
   ]
  },
  {
   "cell_type": "markdown",
   "id": "alternate-creature",
   "metadata": {},
   "source": [
    "Define inputs\n",
    "> Equilibrium parameters"
   ]
  },
  {
   "cell_type": "code",
   "execution_count": 3,
   "id": "767ad139",
   "metadata": {},
   "outputs": [],
   "source": [
    "T = 1e4\n",
    "rho = 1e-2"
   ]
  },
  {
   "cell_type": "markdown",
   "id": "1268e253",
   "metadata": {},
   "source": [
    "> Paths"
   ]
  },
  {
   "cell_type": "code",
   "execution_count": 4,
   "id": "d82caec9",
   "metadata": {},
   "outputs": [],
   "source": [
    "path_to_dtb = \"/home/zanardi/Codes/ML/RONEK/ronek/examples/VC_O3_O4/database/\"\n",
    "path_to_bases = {\n",
    "  m: f\"/home/zanardi/Codes/ML/RONEK/run/VC_O3_O4/test/max_mom_{m}/cobras_bases.hdf5\" for m in (2,10)\n",
    "}\n",
    "rom_dims = {\n",
    "  4: 2,\n",
    "  8: 10\n",
    "}"
   ]
  },
  {
   "cell_type": "markdown",
   "id": "4c6da0ca",
   "metadata": {},
   "source": [
    "Initialize isothermal master equation model"
   ]
  },
  {
   "cell_type": "code",
   "execution_count": 5,
   "id": "8a540f89",
   "metadata": {},
   "outputs": [],
   "source": [
    "system = TAFASystem(\n",
    "  species={\n",
    "    k: path_to_dtb + f\"/species/{k}.json\" for k in (\"atom\", \"molecule\")\n",
    "  },\n",
    "  rates_coeff=path_to_dtb + \"/kinetics.hdf5\",\n",
    "  use_einsum=False,\n",
    "  use_factorial=True,\n",
    "  use_arrhenius=False\n",
    ")"
   ]
  },
  {
   "cell_type": "markdown",
   "id": "f3d56ef1",
   "metadata": {},
   "source": [
    "Eigendecomposition of the linear operator"
   ]
  },
  {
   "cell_type": "code",
   "execution_count": 6,
   "id": "902df407",
   "metadata": {},
   "outputs": [],
   "source": [
    "A = {}"
   ]
  },
  {
   "cell_type": "markdown",
   "id": "fc0b101a",
   "metadata": {},
   "source": [
    "> FOM"
   ]
  },
  {
   "cell_type": "code",
   "execution_count": 7,
   "id": "12319f51",
   "metadata": {},
   "outputs": [],
   "source": [
    "system.update_fom_ops(T)\n",
    "n_eq = system.mix.compute_eq_comp(rho)\n",
    "A[\"FOM\"] = system._compute_lin_fom_ops_a_full(n_eq[0], by_mass=False)"
   ]
  },
  {
   "cell_type": "markdown",
   "id": "555411e5",
   "metadata": {},
   "source": [
    "> ROM"
   ]
  },
  {
   "cell_type": "code",
   "execution_count": 8,
   "id": "fe930b67",
   "metadata": {},
   "outputs": [],
   "source": [
    "bases = utils.map_nested_dict(path_to_bases, h5todict)"
   ]
  },
  {
   "cell_type": "code",
   "execution_count": 9,
   "id": "e5efb1c0",
   "metadata": {},
   "outputs": [],
   "source": [
    "for (r, m) in rom_dims.items():\n",
    "  # Set basis\n",
    "  phi = bases[m][\"phi\"][:,:r]\n",
    "  psi = bases[m][\"psi\"][:,:r]\n",
    "  system.set_basis(phi, psi)\n",
    "  # Compute ROM linear operator\n",
    "  A[f\"ROM-{r+1}\"] = system._compute_lin_fom_ops_a_full(\n",
    "    n_a_eq=n_eq[0],\n",
    "    phi=system.phi,\n",
    "    psi=system.psi,\n",
    "    by_mass=False\n",
    "  )"
   ]
  },
  {
   "cell_type": "markdown",
   "id": "b83294b1",
   "metadata": {},
   "source": [
    "> Compute fastest timescale"
   ]
  },
  {
   "cell_type": "code",
   "execution_count": 10,
   "id": "3e9dd7e5",
   "metadata": {},
   "outputs": [],
   "source": [
    "def get_timescale(A):\n",
    "  l = sp.linalg.eigvals(A)\n",
    "  lmin = np.abs(l.real.min())\n",
    "  return 1.0/lmin"
   ]
  },
  {
   "cell_type": "code",
   "execution_count": 11,
   "id": "d669ff5c",
   "metadata": {},
   "outputs": [],
   "source": [
    "timescales = utils.map_nested_dict(A, get_timescale)\n",
    "with open(\"./timescales.json\", \"w\") as file:\n",
    "  json.dump(timescales, file, indent=2)"
   ]
  }
 ],
 "metadata": {
  "kernelspec": {
   "display_name": "sciml",
   "language": "python",
   "name": "python3"
  },
  "language_info": {
   "codemirror_mode": {
    "name": "ipython",
    "version": 3
   },
   "file_extension": ".py",
   "mimetype": "text/x-python",
   "name": "python",
   "nbconvert_exporter": "python",
   "pygments_lexer": "ipython3",
   "version": "3.8.15"
  }
 },
 "nbformat": 4,
 "nbformat_minor": 5
}
