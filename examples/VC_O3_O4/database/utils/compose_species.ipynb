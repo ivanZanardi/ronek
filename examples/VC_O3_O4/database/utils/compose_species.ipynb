{
 "cells": [
  {
   "cell_type": "code",
   "execution_count": 1,
   "id": "a1ba1c77",
   "metadata": {},
   "outputs": [],
   "source": [
    "import os\n",
    "import json\n",
    "import numpy as np\n",
    "import pandas as pd"
   ]
  },
  {
   "cell_type": "code",
   "execution_count": 2,
   "id": "f3bb5b5d",
   "metadata": {},
   "outputs": [],
   "source": [
    "from scipy import constants\n",
    "from scipy.constants import physical_constants as pc\n",
    "UKB = pc[\"Boltzmann constant\"][0]\n",
    "UNA = pc[\"Avogadro constant\"][0]\n",
    "eV_to_J = constants.eV"
   ]
  },
  {
   "cell_type": "markdown",
   "id": "21111d8a",
   "metadata": {},
   "source": [
    "Inputs"
   ]
  },
  {
   "cell_type": "code",
   "execution_count": 3,
   "id": "d1d709e8-d714-466b-aa2f-bfd235333a83",
   "metadata": {},
   "outputs": [],
   "source": [
    "T = 1e4\n",
    "lev_file = \"/home/zanardi/Codes/TC/HyperNet/database/levels/O3_UMN/O2.csv\""
   ]
  },
  {
   "cell_type": "code",
   "execution_count": 4,
   "id": "7fa29e71",
   "metadata": {},
   "outputs": [],
   "source": [
    "# Save path\n",
    "out_path = \"./../species\"\n",
    "os.makedirs(out_path, exist_ok=True)"
   ]
  },
  {
   "cell_type": "markdown",
   "id": "01197916",
   "metadata": {},
   "source": [
    "Species\n",
    "> Atom"
   ]
  },
  {
   "cell_type": "code",
   "execution_count": 5,
   "id": "3a315729",
   "metadata": {},
   "outputs": [],
   "source": [
    "atom = {\n",
    "  \"name\": \"O\",\n",
    "  \"m\": 15.9994e-3 / UNA,\n",
    "  \"e_f\": 246795.0 / UNA,\n",
    "  \"lev\": {\n",
    "    \"g\": [9.0],\n",
    "    \"e\": [0.0]\n",
    "  }\n",
    "}"
   ]
  },
  {
   "cell_type": "code",
   "execution_count": 6,
   "id": "769edad8",
   "metadata": {},
   "outputs": [],
   "source": [
    "with open(out_path+\"/atom.json\", \"w\") as file:\n",
    "  json.dump(atom, file, indent=2)"
   ]
  },
  {
   "cell_type": "markdown",
   "id": "5d3e3535",
   "metadata": {},
   "source": [
    "> Molecule"
   ]
  },
  {
   "cell_type": "code",
   "execution_count": 7,
   "id": "8eacb16a",
   "metadata": {},
   "outputs": [],
   "source": [
    "levels = pd.read_csv(lev_file)\n",
    "vqn, g, e, evib = [levels[k].to_numpy() for k in (\"vqn\", \"g\", \"E\", \"EVib\")]\n",
    "# Energies\n",
    "e = (e-np.amin(e)) * eV_to_J\n",
    "evib = (evib-np.amin(evib)) * eV_to_J"
   ]
  },
  {
   "cell_type": "code",
   "execution_count": 9,
   "id": "dd7eeb1c",
   "metadata": {},
   "outputs": [],
   "source": [
    "def get_mapping(vqn):\n",
    "  lev_to_bin = np.zeros_like(vqn)\n",
    "  vmin, vmax = int(np.amin(vqn)), int(np.amax(vqn))\n",
    "  for (i, vi) in enumerate(range(vmin, vmax+1)):\n",
    "    lev_to_bin[vqn == vi] = i\n",
    "  lev_to_bin -= np.amin(lev_to_bin)\n",
    "  return lev_to_bin.astype(np.int32)\n",
    "\n",
    "def construct_prob_mat(vqn):\n",
    "  mapping = get_mapping(vqn)\n",
    "  mapping -= np.amin(mapping)\n",
    "  nb_lev = len(mapping)\n",
    "  nb_comp = np.amax(mapping) + 1\n",
    "  indices = (np.arange(nb_lev), mapping)\n",
    "  P = np.zeros((nb_lev, nb_comp))\n",
    "  P[indices] = 1.0\n",
    "  return P\n",
    "\n",
    "def q_int(g, e, T):\n",
    "  return g * np.exp(-e/(UKB*T))"
   ]
  },
  {
   "cell_type": "code",
   "execution_count": 10,
   "id": "6096c90c",
   "metadata": {},
   "outputs": [],
   "source": [
    "P = construct_prob_mat(vqn)\n",
    "q = q_int(g, e, T)\n",
    "Q = P.T @ q\n",
    "P *= q.reshape(-1,1) / Q.reshape(1,-1)\n",
    "ei = P.T @ e\n",
    "gi = Q * np.exp(ei/(UKB*T))"
   ]
  },
  {
   "cell_type": "code",
   "execution_count": 11,
   "id": "206214d1",
   "metadata": {},
   "outputs": [],
   "source": [
    "molecule = {\n",
    "  \"name\": \"O2\",\n",
    "  \"m\": 31.9988e-3 / UNA,\n",
    "  \"e_f\": 0.0,\n",
    "  \"e_d\": np.amax(ei) * eV_to_J,\n",
    "  \"lev\": {\n",
    "    \"g\": gi.tolist(),\n",
    "    \"e\": ei.tolist()\n",
    "  }\n",
    "}"
   ]
  },
  {
   "cell_type": "code",
   "execution_count": 12,
   "id": "9a40206a",
   "metadata": {},
   "outputs": [],
   "source": [
    "with open(out_path+\"/molecule.json\", \"w\") as file:\n",
    "  json.dump(molecule, file, indent=2)"
   ]
  }
 ],
 "metadata": {
  "kernelspec": {
   "display_name": "Python 3 (ipykernel)",
   "language": "python",
   "name": "python3"
  },
  "language_info": {
   "codemirror_mode": {
    "name": "ipython",
    "version": 3
   },
   "file_extension": ".py",
   "mimetype": "text/x-python",
   "name": "python",
   "nbconvert_exporter": "python",
   "pygments_lexer": "ipython3",
   "version": "3.8.15"
  }
 },
 "nbformat": 4,
 "nbformat_minor": 5
}
