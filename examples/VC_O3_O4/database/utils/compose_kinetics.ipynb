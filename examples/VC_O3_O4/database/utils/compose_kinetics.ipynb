{
 "cells": [
  {
   "cell_type": "code",
   "execution_count": 1,
   "id": "a1ba1c77",
   "metadata": {},
   "outputs": [],
   "source": [
    "import os\n",
    "import json\n",
    "import numpy as np\n",
    "import pandas as pd\n",
    "\n",
    "from silx.io.dictdump import h5todict, dicttoh5"
   ]
  },
  {
   "cell_type": "code",
   "execution_count": 2,
   "id": "a34730d2",
   "metadata": {},
   "outputs": [],
   "source": [
    "from scipy import constants\n",
    "from scipy.constants import physical_constants as pc\n",
    "UNA = pc[\"Avogadro constant\"][0]\n",
    "UKB = pc[\"Boltzmann constant\"][0]\n",
    "eV_to_J = constants.eV"
   ]
  },
  {
   "cell_type": "code",
   "execution_count": 3,
   "id": "6511bd45",
   "metadata": {},
   "outputs": [],
   "source": [
    "cm3_to_m3 = 1e-6"
   ]
  },
  {
   "cell_type": "markdown",
   "id": "21111d8a",
   "metadata": {},
   "source": [
    "Inputs"
   ]
  },
  {
   "cell_type": "code",
   "execution_count": 4,
   "id": "d1d709e8-d714-466b-aa2f-bfd235333a83",
   "metadata": {},
   "outputs": [],
   "source": [
    "T = 1e4\n",
    "nb_states = 45\n",
    "# Databases\n",
    "kin_file = {\n",
    "  \"RVS\": \"/home/zanardi/Workspace/AirDatabase/HDF5/QCT/Orig/O3_UMN.hdf5\",\n",
    "  \"VS\": \"/home/zanardi/Workspace/AirDatabase/HDF5/QCT/Orig/O4_UMN_VSM.hdf5\"\n",
    "}\n",
    "mol_file = \"./../species/molecule.json\"\n",
    "lev_file = \"/home/zanardi/Codes/TC/HyperNet/database/levels/O3_UMN/O2.csv\""
   ]
  },
  {
   "cell_type": "code",
   "execution_count": 5,
   "id": "7fa29e71",
   "metadata": {},
   "outputs": [],
   "source": [
    "# Save path\n",
    "out_path = \"./../\"\n",
    "os.makedirs(out_path, exist_ok=True)"
   ]
  },
  {
   "cell_type": "markdown",
   "id": "79b7103e",
   "metadata": {},
   "source": [
    "Kinetics database"
   ]
  },
  {
   "cell_type": "code",
   "execution_count": 6,
   "id": "7253279d",
   "metadata": {},
   "outputs": [],
   "source": [
    "kin_dtb = {}\n",
    "kinetics = {k: h5todict(filename) for (k, filename) in kin_file.items()}"
   ]
  },
  {
   "cell_type": "markdown",
   "id": "7e69b267",
   "metadata": {},
   "source": [
    "> Molecule - Atom collisions"
   ]
  },
  {
   "cell_type": "code",
   "execution_count": 7,
   "id": "b19e21af",
   "metadata": {},
   "outputs": [],
   "source": [
    "def get_mapping(vqn):\n",
    "  lev_to_bin = np.zeros_like(vqn)\n",
    "  vmin, vmax = int(np.amin(vqn)), int(np.amax(vqn))\n",
    "  for (i, vi) in enumerate(range(vmin, vmax+1)):\n",
    "    lev_to_bin[vqn == vi] = i\n",
    "  lev_to_bin -= np.amin(lev_to_bin)\n",
    "  return lev_to_bin.astype(np.int32)\n",
    "\n",
    "def construct_prob_mat(vqn):\n",
    "  mapping = get_mapping(vqn)\n",
    "  mapping -= np.amin(mapping)\n",
    "  nb_lev = len(mapping)\n",
    "  nb_comp = np.amax(mapping) + 1\n",
    "  indices = (np.arange(nb_lev), mapping)\n",
    "  P = np.zeros((nb_lev, nb_comp), dtype=int)\n",
    "  P[indices] = 1\n",
    "  return P\n",
    "\n",
    "def q_int(g, e, T):\n",
    "  return g * np.exp(-e/(UKB*T))"
   ]
  },
  {
   "cell_type": "code",
   "execution_count": 8,
   "id": "b95e1855",
   "metadata": {},
   "outputs": [],
   "source": [
    "levels = pd.read_csv(lev_file)\n",
    "vqn, g, e = [levels[k].to_numpy() for k in (\"vqn\", \"g\", \"E\")]\n",
    "e = (e-np.amin(e))*eV_to_J"
   ]
  },
  {
   "cell_type": "code",
   "execution_count": 9,
   "id": "56379c22",
   "metadata": {},
   "outputs": [],
   "source": [
    "P = construct_prob_mat(vqn)\n",
    "Pq = P * q_int(g, e, T).reshape(-1,1)\n",
    "Pq /= np.sum(Pq, axis=0, keepdims=True)"
   ]
  },
  {
   "cell_type": "code",
   "execution_count": 10,
   "id": "9217bfd5",
   "metadata": {},
   "outputs": [],
   "source": [
    "ma_dtb = kinetics[\"RVS\"][f\"T_{int(T)}_{int(T)}\"][\"Rates\"]"
   ]
  },
  {
   "cell_type": "code",
   "execution_count": 11,
   "id": "3f687bcf",
   "metadata": {},
   "outputs": [],
   "source": [
    "kin_dtb[\"m-a\"] = {}\n",
    "for (k, rates) in ma_dtb.items():\n",
    "  if (k == \"Diss_Corr\"):\n",
    "    p = \"d\"\n",
    "    shape = (nb_states,1,1,1,1)\n",
    "    # Project\n",
    "    rates = Pq.T @ rates\n",
    "  elif (k == \"Excit\"):\n",
    "    p = \"e\"\n",
    "    shape = (nb_states,1,nb_states,1)\n",
    "    # Project\n",
    "    triu_i = np.triu_indices(rates.shape[0])\n",
    "    rates[triu_i[0],triu_i[1]] = 0.0\n",
    "    rates = Pq.T @ rates @ P\n",
    "    # Remove endothermic processes\n",
    "    triu_i = np.triu_indices(nb_states)\n",
    "    rates[triu_i[0],triu_i[1]] = 0.0\n",
    "  else:\n",
    "    continue\n",
    "  # Reshape and rescale\n",
    "  rates = rates.reshape(shape) * cm3_to_m3\n",
    "  # Store\n",
    "  kin_dtb[\"m-a\"][p] = rates"
   ]
  },
  {
   "cell_type": "markdown",
   "id": "3757b64d",
   "metadata": {},
   "source": [
    "> Molecule - Molecule collisions"
   ]
  },
  {
   "cell_type": "code",
   "execution_count": 12,
   "id": "d171c9cc",
   "metadata": {},
   "outputs": [],
   "source": [
    "with open(mol_file, \"r\") as file:\n",
    "  molecule = json.load(file)\n",
    "ei = np.array(molecule[\"lev\"][\"e\"])\n",
    "eij = ei.reshape(1,-1) + ei.reshape(-1,1)"
   ]
  },
  {
   "cell_type": "code",
   "execution_count": 13,
   "id": "7bce42aa",
   "metadata": {},
   "outputs": [],
   "source": [
    "mm_dtb = kinetics[\"VS\"][f\"T_{int(T)}_{int(T)}\"][\"Rates\"]"
   ]
  },
  {
   "cell_type": "code",
   "execution_count": 14,
   "id": "51195ed3",
   "metadata": {},
   "outputs": [],
   "source": [
    "kin_dtb[\"m-m\"] = {}\n",
    "for (k, rates) in mm_dtb.items():\n",
    "  if (k == \"Diss\"):\n",
    "    p = \"d\"\n",
    "    shape = (nb_states,nb_states,1,1,1,1)\n",
    "    rates = rates[...,0]\n",
    "  elif (k == \"DissInel\"):\n",
    "    p = \"ed\"\n",
    "    shape = (nb_states,nb_states,1,1,nb_states)\n",
    "    rates = rates[...,0]\n",
    "  else:\n",
    "    p = \"e\"\n",
    "    shape = tuple([nb_states]*4)\n",
    "    # Remove endothermic processes\n",
    "    for i in range(nb_states):\n",
    "      for j in range(nb_states):\n",
    "        rates[i,j][eij[i,j] <= eij] = 0.0\n",
    "  # Reshape and rescale\n",
    "  rates = rates.reshape(shape) * cm3_to_m3\n",
    "  # Store\n",
    "  if (p in kin_dtb[\"m-m\"]):\n",
    "    kin_dtb[\"m-m\"][p] += rates\n",
    "  else:\n",
    "    kin_dtb[\"m-m\"][p] = rates"
   ]
  },
  {
   "cell_type": "markdown",
   "id": "aa32e25f",
   "metadata": {},
   "source": [
    "> Set Arrhenius parameters"
   ]
  },
  {
   "cell_type": "code",
   "execution_count": 15,
   "id": "5af48b91",
   "metadata": {},
   "outputs": [],
   "source": [
    "for c in kin_dtb.keys():\n",
    "  for p in kin_dtb[c].keys():\n",
    "    zeros = np.zeros_like(kin_dtb[c][p])\n",
    "    kin_dtb[c][p] = {\"A\": kin_dtb[c][p], \"beta\": zeros, \"Ta\": zeros}"
   ]
  },
  {
   "cell_type": "markdown",
   "id": "17170886",
   "metadata": {},
   "source": [
    "> Save database"
   ]
  },
  {
   "cell_type": "code",
   "execution_count": 16,
   "id": "c657093f",
   "metadata": {},
   "outputs": [],
   "source": [
    "dicttoh5(kin_dtb, out_path + \"/kinetics.hdf5\")"
   ]
  }
 ],
 "metadata": {
  "kernelspec": {
   "display_name": "Python 3 (ipykernel)",
   "language": "python",
   "name": "python3"
  },
  "language_info": {
   "codemirror_mode": {
    "name": "ipython",
    "version": 3
   },
   "file_extension": ".py",
   "mimetype": "text/x-python",
   "name": "python",
   "nbconvert_exporter": "python",
   "pygments_lexer": "ipython3",
   "version": "3.8.15"
  }
 },
 "nbformat": 4,
 "nbformat_minor": 5
}
