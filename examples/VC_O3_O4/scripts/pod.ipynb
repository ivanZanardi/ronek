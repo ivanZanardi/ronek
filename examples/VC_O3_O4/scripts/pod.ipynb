{
 "cells": [
  {
   "cell_type": "markdown",
   "id": "11e7d091",
   "metadata": {},
   "source": [
    "Environment"
   ]
  },
  {
   "cell_type": "code",
   "execution_count": null,
   "id": "2c8ff0da",
   "metadata": {},
   "outputs": [],
   "source": [
    "import os\n",
    "import sys\n",
    "import importlib\n",
    "if (importlib.util.find_spec(\"ronek\") is None):\n",
    "  sys.path.append(\"./../../../../ronek/\")\n",
    "sys.path.append(\"./../../\")\n",
    "\n",
    "from ronek import env\n",
    "env.set(\n",
    "  device=\"cpu\",\n",
    "  device_idx=0,\n",
    "  nb_threads=16,\n",
    "  floatx=\"float64\"\n",
    ")"
   ]
  },
  {
   "cell_type": "markdown",
   "id": "celtic-chain",
   "metadata": {},
   "source": [
    "Import libraries"
   ]
  },
  {
   "cell_type": "code",
   "execution_count": null,
   "id": "8dba1102",
   "metadata": {},
   "outputs": [],
   "source": [
    "import numpy as np\n",
    "import joblib as jl\n",
    "import ronek.postproc.plotting as pltt\n",
    "\n",
    "from utils import *\n",
    "from tqdm import tqdm\n",
    "from pyDOE import lhs\n",
    "from ronek import const\n",
    "from ronek.systems import TAFASystem"
   ]
  },
  {
   "cell_type": "markdown",
   "id": "alternate-creature",
   "metadata": {},
   "source": [
    "Define inputs\n",
    "> System"
   ]
  },
  {
   "cell_type": "code",
   "execution_count": null,
   "id": "767ad139",
   "metadata": {},
   "outputs": [],
   "source": [
    "T = 1e4\n",
    "inp_space = {\n",
    "  \"T\": [5e2, 8e3],\n",
    "  \"p\": [1e3, 1e4],\n",
    "  \"Xa\": [0.05, 1.0]\n",
    "}\n",
    "tgrid = {\n",
    "  \"lim\": [1e-12, 1e-2],\n",
    "  \"num\": 501\n",
    "}\n",
    "nb_traj = 500\n",
    "nb_workers = 32"
   ]
  },
  {
   "cell_type": "markdown",
   "id": "87b8f996",
   "metadata": {},
   "source": [
    "> Paths"
   ]
  },
  {
   "cell_type": "code",
   "execution_count": null,
   "id": "a1a16a74",
   "metadata": {},
   "outputs": [],
   "source": [
    "paths = {\n",
    "  \"dtb\": \"./../database/\",\n",
    "  \"data\": \"./data/\"\n",
    "}"
   ]
  },
  {
   "cell_type": "markdown",
   "id": "4c6da0ca",
   "metadata": {},
   "source": [
    "Initialize isothermal master equation model"
   ]
  },
  {
   "cell_type": "code",
   "execution_count": null,
   "id": "8a540f89",
   "metadata": {},
   "outputs": [],
   "source": [
    "model = TAFASystem(\n",
    "  rates=paths[\"dtb\"] + \"/kinetics.hdf5\",\n",
    "  species={\n",
    "    k: paths[\"dtb\"] + f\"/species/{k}.json\" for k in (\"atom\", \"molecule\")\n",
    "  },\n",
    "  use_einsum=False\n",
    ")\n",
    "model.update_fom_ops(T)"
   ]
  },
  {
   "cell_type": "markdown",
   "id": "25bb3106",
   "metadata": {},
   "source": [
    "Sample initial conditions"
   ]
  },
  {
   "cell_type": "code",
   "execution_count": null,
   "id": "3699b80b",
   "metadata": {},
   "outputs": [],
   "source": [
    "def sample_inp_space(\n",
    "  nb_traj,\n",
    "  inp_space\n",
    "):\n",
    "  inp_space_lbl = list(inp_space.keys())\n",
    "  inp_space = np.vstack(list(inp_space.values())).T\n",
    "  # Contruct design matrix (DM)\n",
    "  d = inp_space.shape[1]\n",
    "  x = lhs(d, nb_traj)\n",
    "  # Rescale DM\n",
    "  x = x * (inp_space[1] - inp_space[0]) + inp_space[0]\n",
    "  # Restructure DM\n",
    "  x = [xi.squeeze() for xi in np.split(x, x.shape[-1], axis=-1)]\n",
    "  x = {k: x[i] for (i, k) in enumerate(inp_space_lbl)}\n",
    "  return np.vstack([x[k] for k in (\"T\", \"p\", \"Xa\")]).T"
   ]
  },
  {
   "cell_type": "code",
   "execution_count": null,
   "id": "b59091a3",
   "metadata": {},
   "outputs": [],
   "source": [
    "ics = sample_inp_space(nb_traj, inp_space)"
   ]
  },
  {
   "cell_type": "markdown",
   "id": "0fa33b96",
   "metadata": {},
   "source": [
    "FOM solutions"
   ]
  },
  {
   "cell_type": "code",
   "execution_count": null,
   "id": "8783bf8b",
   "metadata": {},
   "outputs": [],
   "source": [
    "t = get_tgrid(tgrid[\"lim\"], tgrid[\"num\"])\n",
    "sols = jl.Parallel(nb_workers)(\n",
    "  jl.delayed(solve_fom)(model, t, get_y0(model, *ic)) for ic in tqdm(\n",
    "    iterable=ics,\n",
    "    ncols=80,\n",
    "    desc=\"Box cases\"\n",
    "  )\n",
    ")\n",
    "y = np.hstack([sol[1]-sol[1][:,-1:] for sol in sols]) / const.UNA"
   ]
  },
  {
   "cell_type": "markdown",
   "id": "158d2cd1",
   "metadata": {},
   "source": [
    "POD\n",
    "> SVD"
   ]
  },
  {
   "cell_type": "code",
   "execution_count": null,
   "id": "64c8f845",
   "metadata": {},
   "outputs": [],
   "source": [
    "u, s, vh = sp.linalg.svd(y, full_matrices=False)"
   ]
  },
  {
   "cell_type": "markdown",
   "id": "7d6cf59d",
   "metadata": {},
   "source": [
    "> Reconstruction"
   ]
  },
  {
   "cell_type": "code",
   "execution_count": null,
   "id": "e954070c",
   "metadata": {},
   "outputs": [],
   "source": [
    "def reconstruct(u, s, vh, r):\n",
    "  return u[:,:r] @ np.diag(s[:r]) @ vh[:r]\n",
    "\n",
    "def error(y_true, y_pred, eps=1e-8):\n",
    "  return 100*np.mean(np.abs(y_true-y_pred)/(np.abs(y_true)+eps))\n",
    "\n",
    "def plot_err(\n",
    "  x,\n",
    "  y,\n",
    "  ylabel=r\"$\\Delta\\tilde{c}$ [\\%]\",\n",
    "  yscale=\"linear\",\n",
    "  figname=None,\n",
    "  save=False,\n",
    "  show=True\n",
    "):\n",
    "  # Initialize figure\n",
    "  fig = plt.figure()\n",
    "  ax = fig.add_subplot()\n",
    "  # x axis\n",
    "  ax.set_xlabel(\"$r$\")\n",
    "  ax.set_xlim([x[0]-1, x[-1]+1])\n",
    "  # y axis\n",
    "  ax.set_yscale(yscale)\n",
    "  ax.set_ylabel(ylabel)\n",
    "  # Plotting\n",
    "  plt.hlines(1.0, x[0]-1, x[-1]+1, colors='grey', lw=1.0)\n",
    "  ax.plot(x, y, marker=\"o\")\n",
    "  # Tight layout\n",
    "  plt.tight_layout()\n",
    "  if save:\n",
    "    plt.savefig(figname)\n",
    "  if show:\n",
    "    plt.show()\n",
    "  plt.close()"
   ]
  },
  {
   "cell_type": "code",
   "execution_count": null,
   "id": "a999a714",
   "metadata": {},
   "outputs": [],
   "source": [
    "err = []\n",
    "dim = np.arange(5,26)\n",
    "for r in dim:\n",
    "  y_pred = reconstruct(u, s, vh, r)\n",
    "  err.append(error(y, y_pred, eps=1e-8))"
   ]
  },
  {
   "cell_type": "code",
   "execution_count": null,
   "id": "818243c0",
   "metadata": {},
   "outputs": [],
   "source": [
    "path = paths[\"data\"] + \"/figs/\"\n",
    "os.makedirs(path, exist_ok=True)\n",
    "plot_err(\n",
    "  x=dim,\n",
    "  y=err,\n",
    "  ylabel=r\"$\\Delta\\tilde{c}$ [\\%]\",\n",
    "  yscale=\"log\",\n",
    "  figname=path + \"pod\",\n",
    "  save=True,\n",
    "  show=False\n",
    ")"
   ]
  }
 ],
 "metadata": {
  "kernelspec": {
   "display_name": "sciml",
   "language": "python",
   "name": "python3"
  },
  "language_info": {
   "codemirror_mode": {
    "name": "ipython",
    "version": 3
   },
   "file_extension": ".py",
   "mimetype": "text/x-python",
   "name": "python",
   "nbconvert_exporter": "python",
   "pygments_lexer": "ipython3",
   "version": "3.8.15"
  }
 },
 "nbformat": 4,
 "nbformat_minor": 5
}
