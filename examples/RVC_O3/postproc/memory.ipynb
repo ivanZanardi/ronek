{
 "cells": [
  {
   "cell_type": "markdown",
   "metadata": {},
   "source": [
    "## Memory usage\n",
    "\n",
    "Set inputs"
   ]
  },
  {
   "cell_type": "code",
   "execution_count": null,
   "metadata": {},
   "outputs": [],
   "source": [
    "sizes_rvc = [6116, 25, 9]\n",
    "sizes_vc = [46, 9, 5]"
   ]
  },
  {
   "cell_type": "markdown",
   "metadata": {},
   "source": [
    "Linear System Solve"
   ]
  },
  {
   "cell_type": "code",
   "execution_count": null,
   "metadata": {},
   "outputs": [],
   "source": [
    "def flops(d):\n",
    "  return 2.0/3.0*d**3 + 2.0*d**2\n",
    "\n",
    "def memory(d, b=8.0):\n",
    "  return b*(d**2 + 2.0*d)"
   ]
  },
  {
   "cell_type": "code",
   "execution_count": null,
   "metadata": {},
   "outputs": [],
   "source": [
    "for d in sizes_rvc+sizes_vc:\n",
    "  f = flops(d)\n",
    "  m = memory(d)\n",
    "  print(\"d: %i, f: %.3e, f/m: %.3f\" % (d, f, f/m))"
   ]
  },
  {
   "cell_type": "markdown",
   "metadata": {},
   "source": [
    "Matrix-Vector Product"
   ]
  },
  {
   "cell_type": "code",
   "execution_count": null,
   "metadata": {},
   "outputs": [],
   "source": [
    "def flops(d):\n",
    "  return 2.0*d**2 - d\n",
    "\n",
    "def memory(d, b=8.0):\n",
    "  return b*(d**2 + 2.0*d)"
   ]
  },
  {
   "cell_type": "code",
   "execution_count": null,
   "metadata": {},
   "outputs": [],
   "source": [
    "for d in sizes_rvc:\n",
    "  f = flops(d)\n",
    "  m = memory(d)\n",
    "  print(\"d: %i, f: %.3e, f/m: %.3f\" % (d, f, f/m))"
   ]
  },
  {
   "cell_type": "markdown",
   "metadata": {},
   "source": [
    "Tensor Double Contraction"
   ]
  },
  {
   "cell_type": "code",
   "execution_count": null,
   "metadata": {},
   "outputs": [],
   "source": [
    "def flops(d):\n",
    "  return 3.0*d**3 - d\n",
    "\n",
    "def memory(d, b=8.0):\n",
    "  return b*(d**3 + 2.0*d)"
   ]
  },
  {
   "cell_type": "code",
   "execution_count": null,
   "metadata": {},
   "outputs": [],
   "source": [
    "for d in sizes_vc:\n",
    "  f = flops(d)\n",
    "  m = memory(d)\n",
    "  print(\"d: %i, f: %.3e, f/m: %.3f\" % (d, f, f/m))"
   ]
  }
 ],
 "metadata": {
  "kernelspec": {
   "display_name": "Python 3",
   "language": "python",
   "name": "python3"
  },
  "language_info": {
   "codemirror_mode": {
    "name": "ipython",
    "version": 3
   },
   "file_extension": ".py",
   "mimetype": "text/x-python",
   "name": "python",
   "nbconvert_exporter": "python",
   "pygments_lexer": "ipython3",
   "version": "3.8.15"
  }
 },
 "nbformat": 4,
 "nbformat_minor": 2
}
