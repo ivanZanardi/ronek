{
 "cells": [
  {
   "cell_type": "markdown",
   "id": "11e7d091",
   "metadata": {},
   "source": [
    "## Accuracy Linearized FOM\n",
    "\n",
    "Environment"
   ]
  },
  {
   "cell_type": "code",
   "execution_count": null,
   "id": "2c8ff0da",
   "metadata": {},
   "outputs": [],
   "source": [
    "import sys\n",
    "sys.path.append(\"/home/zanardi/Codes/ML/RONEK/ronek/\")\n",
    "\n",
    "from ronek import env\n",
    "env.set(\n",
    "  device=\"cpu\",\n",
    "  device_idx=0,\n",
    "  nb_threads=8,\n",
    "  floatx=\"float64\"\n",
    ")"
   ]
  },
  {
   "cell_type": "markdown",
   "id": "celtic-chain",
   "metadata": {},
   "source": [
    "Import libraries"
   ]
  },
  {
   "cell_type": "code",
   "execution_count": null,
   "id": "8dba1102",
   "metadata": {},
   "outputs": [],
   "source": [
    "import os\n",
    "import numpy as np\n",
    "import scipy as sp\n",
    "import joblib as jl\n",
    "\n",
    "from tqdm import tqdm\n",
    "from ronek import utils\n",
    "from ronek import postproc as pp\n",
    "from ronek.systems import TASystem"
   ]
  },
  {
   "cell_type": "code",
   "execution_count": null,
   "id": "c937bec4",
   "metadata": {},
   "outputs": [],
   "source": [
    "import matplotlib as mpl\n",
    "# Use custom style\n",
    "# See: https://matplotlib.org/1.5.3/users/style_sheets.html\n",
    "path_to_styles = \"/home/zanardi/Workspace/Research/styles/matplotlib/\"\n",
    "style_name = \"paper_1column\"\n",
    "mpl.style.use(f\"{path_to_styles}/{style_name}.mplstyle\")"
   ]
  },
  {
   "cell_type": "markdown",
   "id": "alternate-creature",
   "metadata": {},
   "source": [
    "Define inputs"
   ]
  },
  {
   "cell_type": "code",
   "execution_count": null,
   "id": "d82caec9",
   "metadata": {},
   "outputs": [],
   "source": [
    "path_to_dtb = \"/home/zanardi/Codes/ML/RONEK/ronek/examples/RVC_O3/database/\"\n",
    "path_to_data = \"/home/zanardi/Codes/ML/RONEK/run/RVC_O3/test/data/\"\n",
    "path_to_saving = \"./lin_fom/\"\n",
    "nb_samples = 1000\n",
    "nb_workers = 10"
   ]
  },
  {
   "cell_type": "code",
   "execution_count": null,
   "id": "fec84777",
   "metadata": {},
   "outputs": [],
   "source": [
    "os.makedirs(path_to_saving, exist_ok=True)"
   ]
  },
  {
   "cell_type": "markdown",
   "id": "e35e7c5c",
   "metadata": {},
   "source": [
    "Initialize isothermal master equation model"
   ]
  },
  {
   "cell_type": "code",
   "execution_count": null,
   "id": "f06bacee",
   "metadata": {},
   "outputs": [],
   "source": [
    "system = TASystem(\n",
    "  species={\n",
    "    k: path_to_dtb + f\"/species/{k}.json\" for k in (\"atom\", \"molecule\")\n",
    "  },\n",
    "  rates_coeff=path_to_dtb + \"/kinetics.hdf5\",\n",
    "  use_einsum=False,\n",
    "  use_factorial=True,\n",
    "  use_arrhenius=True\n",
    ")"
   ]
  },
  {
   "cell_type": "markdown",
   "id": "7b6038bc",
   "metadata": {},
   "source": [
    "Solve linear FOM"
   ]
  },
  {
   "cell_type": "code",
   "execution_count": null,
   "id": "43dd89be",
   "metadata": {},
   "outputs": [],
   "source": [
    "def compute_linfom_err(path, index, eval_err=True):\n",
    "  # Load data\n",
    "  data = utils.load_case(path=path, index=index)\n",
    "  T, t, n0, n = [data[k] for k in (\"T\", \"t\", \"n0\", \"n\")]\n",
    "  rho = data[\"mu\"][-1]\n",
    "  # Solve linear system\n",
    "  system.update_fom_ops(T)\n",
    "  nl = system.solve_lin_fom(t, n0)\n",
    "  if eval_err:\n",
    "    # Convert to mass fractions\n",
    "    w = system.mix.get_w(np.vstack(n), rho)\n",
    "    wl = system.mix.get_w(np.vstack(nl), rho)\n",
    "    # Compute error\n",
    "    err = utils.l2_relative_error(w, wl, axis=0)\n",
    "    return index, t, err\n",
    "  else:\n",
    "    return index, t, n, nl"
   ]
  },
  {
   "cell_type": "code",
   "execution_count": null,
   "id": "65f7633b",
   "metadata": {},
   "outputs": [],
   "source": [
    "os.makedirs(path_to_saving + \"/data/\", exist_ok=True)\n",
    "if os.path.isfile(path_to_saving + \"/data/error.txt\"):\n",
    "  indices = np.loadtxt(path_to_saving + \"/data/indices.txt\").astype(int)\n",
    "  t = np.loadtxt(path_to_saving + \"/data/time.txt\")\n",
    "  err = np.loadtxt(path_to_saving + \"/data/error.txt\")\n",
    "else:\n",
    "  err = jl.Parallel(nb_workers)(\n",
    "    jl.delayed(compute_linfom_err)(\n",
    "      path=path_to_data,\n",
    "      index=i\n",
    "    ) for i in tqdm(\n",
    "      iterable=range(nb_samples),\n",
    "      ncols=80,\n",
    "      file=sys.stdout\n",
    "    )\n",
    "  )\n",
    "  indices, t, err = list(zip(*err))\n",
    "  indices = np.array(indices).reshape(-1)\n",
    "  t = t[0].reshape(-1)\n",
    "  err = np.vstack(err)\n",
    "  for (name, data) in (\n",
    "    (\"indices\", indices),\n",
    "    (\"time\", t),\n",
    "    (\"error\", err)\n",
    "  ):\n",
    "    np.savetxt(path_to_saving + f\"/data/{name}.txt\", data)\n",
    "err_mean = np.mean(err, axis=0)"
   ]
  },
  {
   "cell_type": "markdown",
   "id": "620e046a",
   "metadata": {},
   "source": [
    "Plot relative $L^2$ error"
   ]
  },
  {
   "cell_type": "code",
   "execution_count": null,
   "id": "6bddca54",
   "metadata": {},
   "outputs": [],
   "source": [
    "pp.plot_err_ci_evolution(\n",
    "  x=t,\n",
    "  mean=err_mean,\n",
    "  sem=sp.stats.sem(err, axis=0),\n",
    "  size=len(err),\n",
    "  alpha=0.95,\n",
    "  xlim=None,\n",
    "  ylim=None,\n",
    "  hline=None,\n",
    "  labels=[r\"$t$ [s]\", r\"Relative $L^2$ Error\"],\n",
    "  scales=[\"log\", \"linear\"],\n",
    "  legend_loc=\"best\",\n",
    "  figname=path_to_saving+\"/rel_err.pdf\",\n",
    "  save=True,\n",
    "  show=False\n",
    ")"
   ]
  },
  {
   "cell_type": "markdown",
   "id": "05c3614f",
   "metadata": {},
   "source": [
    "Plot moments of the average test trajectory"
   ]
  },
  {
   "cell_type": "code",
   "execution_count": null,
   "id": "217adba6",
   "metadata": {},
   "outputs": [],
   "source": [
    "i = np.argmin(np.linalg.norm(err - err_mean, axis=-1))\n",
    "np.savetxt(path_to_saving + \"/data/traj_index.txt\", i.reshape(1), fmt=\"%i\")"
   ]
  },
  {
   "cell_type": "code",
   "execution_count": null,
   "id": "812a63b3",
   "metadata": {},
   "outputs": [],
   "source": [
    "_, t, n, nl = compute_linfom_err(\n",
    "  path=path_to_data, index=indices[i], eval_err=False\n",
    ")"
   ]
  },
  {
   "cell_type": "code",
   "execution_count": null,
   "id": "6fa05d82",
   "metadata": {},
   "outputs": [],
   "source": [
    "pp.plot_mom_evolution(\n",
    "  path=path_to_saving,\n",
    "  t=t,\n",
    "  n_m={\"FOM\": n[1], \"Linearized FOM\": nl[1]},\n",
    "  molecule=system.mix.species[\"molecule\"],\n",
    "  molecule_label=\"\\\\text{O$_2$}\",\n",
    "  tlim={\"m0\": [1e-8, 1e-4], \"m1\": [1e-9, 1e-4]},\n",
    "  ylim_err=[1e-9,1e3],\n",
    "  err_scale=\"log\",\n",
    "  hline=1e2,\n",
    "  max_mom=2\n",
    ")"
   ]
  }
 ],
 "metadata": {
  "kernelspec": {
   "display_name": "Python 3",
   "language": "python",
   "name": "python3"
  },
  "language_info": {
   "codemirror_mode": {
    "name": "ipython",
    "version": 3
   },
   "file_extension": ".py",
   "mimetype": "text/x-python",
   "name": "python",
   "nbconvert_exporter": "python",
   "pygments_lexer": "ipython3",
   "version": "3.8.15"
  }
 },
 "nbformat": 4,
 "nbformat_minor": 5
}
