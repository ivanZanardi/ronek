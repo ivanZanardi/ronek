{
 "cells": [
  {
   "cell_type": "markdown",
   "id": "3bd5c92e",
   "metadata": {},
   "source": [
    "Import libraries"
   ]
  },
  {
   "cell_type": "code",
   "execution_count": null,
   "id": "5c7c1eca",
   "metadata": {},
   "outputs": [],
   "source": [
    "import sys\n",
    "from silx.io.dictdump import h5todict\n",
    "\n",
    "sys.path.append(\"/home/zanardi/Codes/ML/RONEK/ronek/\")\n",
    "\n",
    "from ronek import env\n",
    "env.set(\n",
    "  device=\"cpu\",\n",
    "  device_idx=0,\n",
    "  nb_threads=4,\n",
    "  floatx=\"float64\"\n",
    ")\n",
    "\n",
    "from ronek.roms import CoarseGrainingM0"
   ]
  },
  {
   "cell_type": "markdown",
   "id": "2663d832",
   "metadata": {},
   "source": [
    "Set inputs"
   ]
  },
  {
   "cell_type": "code",
   "execution_count": null,
   "id": "e971e635",
   "metadata": {},
   "outputs": [],
   "source": [
    "T = 1e4\n",
    "nb_bins = 45\n",
    "dist = \"boltzmann\" # uniform/boltzmann\n",
    "kin_file = \"/home/zanardi/Workspace/AirDatabase/HDF5/QCT/Orig/O3_UMN.hdf5\"\n",
    "mol_file = \"./../species/molecule.json\""
   ]
  },
  {
   "cell_type": "markdown",
   "id": "730d0e97",
   "metadata": {},
   "source": [
    "Load the kinteic database"
   ]
  },
  {
   "cell_type": "code",
   "execution_count": null,
   "id": "305a67cf",
   "metadata": {},
   "outputs": [],
   "source": [
    "kin_fom = h5todict(kin_file)"
   ]
  },
  {
   "cell_type": "markdown",
   "id": "8c747175",
   "metadata": {},
   "source": [
    "Build the zeroth-order coarse-grained ROM"
   ]
  },
  {
   "cell_type": "code",
   "execution_count": null,
   "id": "c764bbd5",
   "metadata": {},
   "outputs": [],
   "source": [
    "cg = CoarseGrainingM0(mol_file)\n",
    "cg(T=T, nb_bins=nb_bins)"
   ]
  },
  {
   "cell_type": "markdown",
   "id": "4936c853",
   "metadata": {},
   "source": [
    "Encode-decode rates"
   ]
  },
  {
   "cell_type": "code",
   "execution_count": null,
   "id": "588b9c34",
   "metadata": {},
   "outputs": [],
   "source": [
    "Tstr = str(int(T))\n",
    "rates = kin_fom[f\"T_{Tstr}_{Tstr}\"][\"Rates\"]\n",
    "\n",
    "kin_rom = {}\n",
    "# Inelastic rates\n",
    "# ------------------\n",
    "name = \"Inel\"\n",
    "krom = cg.phi.T @ rates[name] @ cg.psi\n",
    "kin_rom[name] = {\n",
    "  # > Encoded rates\n",
    "  \"rom\": krom,\n",
    "  # > Encoded-decoded rates\n",
    "  \"fom\": cg.psi @ krom @ cg.psi.T if (dist == \"uniform\") else cg.psi @ krom @ cg.phi.T\n",
    "}\n",
    "\n",
    "# Dissociation rates\n",
    "# ------------------\n",
    "name = \"Diss_Corr\"\n",
    "krom = cg.phi.T @ rates[name]\n",
    "kin_rom[name] = {\n",
    "  # > Encoded rates\n",
    "  \"rom\": krom,\n",
    "  # > Encoded-decoded rates\n",
    "  \"fom\": cg.psi @ krom\n",
    "}"
   ]
  }
 ],
 "metadata": {
  "kernelspec": {
   "display_name": "Python 3",
   "language": "python",
   "name": "python3"
  },
  "language_info": {
   "codemirror_mode": {
    "name": "ipython",
    "version": 3
   },
   "file_extension": ".py",
   "mimetype": "text/x-python",
   "name": "python",
   "nbconvert_exporter": "python",
   "pygments_lexer": "ipython3",
   "version": "3.8.15"
  }
 },
 "nbformat": 4,
 "nbformat_minor": 5
}
