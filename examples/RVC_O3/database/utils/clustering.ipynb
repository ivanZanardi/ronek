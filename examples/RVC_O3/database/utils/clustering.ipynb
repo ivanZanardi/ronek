{
 "cells": [
  {
   "cell_type": "markdown",
   "id": "8f29e3ff",
   "metadata": {},
   "source": [
    "### Spectral Clustering"
   ]
  },
  {
   "cell_type": "code",
   "execution_count": 1,
   "id": "a1ba1c77",
   "metadata": {},
   "outputs": [],
   "source": [
    "import os\n",
    "import numpy as np\n",
    "import scipy as sp\n",
    "import pandas as pd\n",
    "import matplotlib.pyplot as plt\n",
    "\n",
    "from silx.io.dictdump import h5todict\n",
    "from sklearn.cluster import SpectralClustering"
   ]
  },
  {
   "cell_type": "code",
   "execution_count": 2,
   "id": "1108224b",
   "metadata": {},
   "outputs": [],
   "source": [
    "from scipy import constants\n",
    "eV_to_J = constants.eV"
   ]
  },
  {
   "cell_type": "markdown",
   "id": "21111d8a",
   "metadata": {},
   "source": [
    "Inputs"
   ]
  },
  {
   "cell_type": "code",
   "execution_count": 3,
   "id": "d1d709e8-d714-466b-aa2f-bfd235333a83",
   "metadata": {},
   "outputs": [],
   "source": [
    "nb_states = 6115\n",
    "kin_file = \"/home/zanardi/Workspace/AirDatabase/HDF5/QCT/Orig/O3_UMN.hdf5\"\n",
    "lev_file = \"/home/zanardi/Codes/TC/HyperNet/database/levels/O3_UMN/O2.csv\""
   ]
  },
  {
   "cell_type": "code",
   "execution_count": 4,
   "id": "bf5a7598",
   "metadata": {},
   "outputs": [],
   "source": [
    "# nb_b = 3\n",
    "# nb_qb = 1\n",
    "nb_b = 6\n",
    "nb_qb = 2\n",
    "nb = nb_b + nb_qb"
   ]
  },
  {
   "cell_type": "markdown",
   "id": "79b7103e",
   "metadata": {},
   "source": [
    "Databases"
   ]
  },
  {
   "cell_type": "code",
   "execution_count": 5,
   "id": "7253279d",
   "metadata": {},
   "outputs": [],
   "source": [
    "kinetics = h5todict(kin_file)"
   ]
  },
  {
   "cell_type": "code",
   "execution_count": 6,
   "id": "5d678ebe",
   "metadata": {},
   "outputs": [],
   "source": [
    "k = kinetics[\"T_10000_10000\"][\"Rates\"][\"Excit\"]\n",
    "k = np.tril(k, k=-1)"
   ]
  },
  {
   "cell_type": "code",
   "execution_count": 7,
   "id": "b892bb96",
   "metadata": {},
   "outputs": [],
   "source": [
    "levels = pd.read_csv(lev_file)\n",
    "e = (levels[\"E\"] - np.amin(levels[\"E\"])).values * eV_to_J\n",
    "e_d = 5.113 * eV_to_J\n",
    "e_v = levels[\"EVib\"].values\n",
    "e_r = levels[\"ERot\"].values\n",
    "e_v -= e_v.min()\n",
    "e_r -= e_r.min()"
   ]
  },
  {
   "cell_type": "markdown",
   "id": "e8778edc",
   "metadata": {},
   "source": [
    "Bound and quasi-bound states"
   ]
  },
  {
   "cell_type": "code",
   "execution_count": 8,
   "id": "7191f356",
   "metadata": {},
   "outputs": [],
   "source": [
    "i = np.where(e > e_d)[0][0]\n",
    "i_b = np.arange(i)\n",
    "i_qb = np.arange(i,nb_states)"
   ]
  },
  {
   "cell_type": "code",
   "execution_count": 9,
   "id": "b8f9eb0f",
   "metadata": {},
   "outputs": [],
   "source": [
    "def get_probmat(\n",
    "  mapping\n",
    "):\n",
    "  mapping = (mapping - np.amin(mapping)).astype(int)\n",
    "  nb_levs, nb_bins = len(mapping), np.amax(mapping)+1\n",
    "  data = np.ones(nb_levs)\n",
    "  indices = (np.arange(nb_levs), mapping)\n",
    "  shape = (nb_levs, nb_bins)\n",
    "  return sp.sparse.coo_matrix((data, indices), shape).toarray()"
   ]
  },
  {
   "cell_type": "markdown",
   "id": "58a3c421",
   "metadata": {},
   "source": [
    "> Energy-based clustering"
   ]
  },
  {
   "cell_type": "code",
   "execution_count": 10,
   "id": "cd1b684c",
   "metadata": {},
   "outputs": [],
   "source": [
    "def energy_bin(e, e_d, nb_b, nb_qb, eps=1e-6):\n",
    "  # Min/max energies\n",
    "  e_min, e_max = np.amin(e), np.amax(e)\n",
    "  # Energy intervals\n",
    "  inter_b = np.linspace(e_min, e_d, nb_b+1)\n",
    "  if (nb_qb > 0):\n",
    "    inter_qb = np.linspace(e_d, e_max, nb_qb+1)[1:]\n",
    "  else:\n",
    "    inter_qb = np.array([])\n",
    "  intervals = np.concatenate([inter_b, inter_qb])\n",
    "  intervals[-1] *= 1.0+eps\n",
    "  # Define mapping\n",
    "  mapping = (e.reshape(-1,1) >= intervals.reshape(1,-1))\n",
    "  mapping = np.sum(mapping, axis=1)\n",
    "  return mapping"
   ]
  },
  {
   "cell_type": "code",
   "execution_count": 11,
   "id": "cf228bc5",
   "metadata": {},
   "outputs": [],
   "source": [
    "map_en = energy_bin(e, e_d, nb_b, nb_qb, eps=1e-6)\n",
    "map_en_b = map_en[:i]\n",
    "map_en_qb = map_en[i:]"
   ]
  },
  {
   "cell_type": "markdown",
   "id": "3fd31b91",
   "metadata": {},
   "source": [
    "> Spectral clustering"
   ]
  },
  {
   "cell_type": "code",
   "execution_count": 12,
   "id": "fca0eb58",
   "metadata": {},
   "outputs": [],
   "source": [
    "def get_s(e, k, fk=1.0, fe=1.0):\n",
    "  de = np.abs(e.reshape(-1,1) - e.reshape(1,-1))\n",
    "  kmin = k[k>0].min() * 1e-5\n",
    "  kk = k + k.T + kmin\n",
    "  s = de**fe / kk**fk\n",
    "  return np.exp(-s)\n",
    "\n",
    "def spectral_bin(e, k, i, nb=6, fk=1.0, fe=1.0):\n",
    "  ei, ki = e[i], k[i][:,i]\n",
    "  clust = SpectralClustering(n_clusters=nb, affinity='precomputed', random_state=0)\n",
    "  mapping = clust.fit_predict(get_s(ei, ki, fk, fe))\n",
    "  mapping += 1-np.amin(mapping)\n",
    "  return mapping"
   ]
  },
  {
   "cell_type": "code",
   "execution_count": 13,
   "id": "e933bead",
   "metadata": {},
   "outputs": [],
   "source": [
    "if nb_qb > 1:\n",
    "  fk, fe = 1.45, 0.94\n",
    "else:\n",
    "  fk, fe = 1.45, 1.0\n",
    "map_sp_b = spectral_bin(e, k, i_b, nb_b, fk, fe)\n",
    "map_sp_qb = spectral_bin(e, k, i_qb, nb_qb, fk=1.45, fe=1.0)\n",
    "map_sp = np.concatenate([map_sp_b, map_sp_qb+nb_b])"
   ]
  },
  {
   "cell_type": "markdown",
   "id": "7dbbb092",
   "metadata": {},
   "source": [
    "Plot clustering"
   ]
  },
  {
   "cell_type": "code",
   "execution_count": 14,
   "id": "4d372fc1",
   "metadata": {},
   "outputs": [],
   "source": [
    "def plot_clust_2d(map, title):\n",
    "  plt.figure()\n",
    "  for c in range(map.max()):\n",
    "    i = (map == c+1)\n",
    "    plt.scatter(e_v[i], e_r[i], s=2)\n",
    "  plt.xlabel('$\\epsilon_v$ [eV]')\n",
    "  plt.ylabel('$\\epsilon_r$ [eV]')\n",
    "  plt.title(title)\n",
    "  plt.show()\n",
    "\n",
    "def plot_clust_1d(map, title):\n",
    "  plt.figure()\n",
    "  for c in range(map.max()):\n",
    "    i = (map == c+1)\n",
    "    plt.scatter(e[i]/eV_to_J, np.ones_like(e[i])*(c+1), s=2)\n",
    "  plt.xlabel('$\\epsilon_i$ [eV]')\n",
    "  plt.ylabel('Cluster')\n",
    "  plt.title(title)\n",
    "  plt.show()"
   ]
  },
  {
   "cell_type": "code",
   "execution_count": null,
   "id": "4275574d",
   "metadata": {},
   "outputs": [],
   "source": [
    "plot_clust_2d(map_en, title=\"Energy-based clustering\")\n",
    "plot_clust_2d(map_sp, title=\"Spectral clustering\")"
   ]
  },
  {
   "cell_type": "code",
   "execution_count": null,
   "id": "f9b50e66",
   "metadata": {},
   "outputs": [],
   "source": [
    "plot_clust_1d(map_en, title=\"Energy-based clustering\")\n",
    "plot_clust_1d(map_sp, title=\"Spectral clustering\")"
   ]
  },
  {
   "cell_type": "markdown",
   "id": "c186b1d5",
   "metadata": {},
   "source": [
    "Save clustering"
   ]
  },
  {
   "cell_type": "code",
   "execution_count": 17,
   "id": "7b0a2d53",
   "metadata": {},
   "outputs": [],
   "source": [
    "path_to_saving = f\"./../testcases/ADA{nb}/\"\n",
    "os.makedirs(path_to_saving, exist_ok=True)\n",
    "np.savetxt(\n",
    "  path_to_saving + \"/mapping.csv\",\n",
    "  np.vstack([np.arange(nb_states), map_sp]).T,\n",
    "  fmt='%i',\n",
    "  delimiter=',',\n",
    "  header='Idx,Group'\n",
    ")"
   ]
  }
 ],
 "metadata": {
  "kernelspec": {
   "display_name": "sciml",
   "language": "python",
   "name": "python3"
  },
  "language_info": {
   "codemirror_mode": {
    "name": "ipython",
    "version": 3
   },
   "file_extension": ".py",
   "mimetype": "text/x-python",
   "name": "python",
   "nbconvert_exporter": "python",
   "pygments_lexer": "ipython3",
   "version": "3.8.15"
  }
 },
 "nbformat": 4,
 "nbformat_minor": 5
}
