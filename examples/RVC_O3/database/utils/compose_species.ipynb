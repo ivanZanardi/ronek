{
 "cells": [
  {
   "cell_type": "code",
   "execution_count": 1,
   "id": "a1ba1c77",
   "metadata": {},
   "outputs": [],
   "source": [
    "import os\n",
    "import json\n",
    "import numpy as np\n",
    "import pandas as pd"
   ]
  },
  {
   "cell_type": "code",
   "execution_count": 2,
   "id": "f3bb5b5d",
   "metadata": {},
   "outputs": [],
   "source": [
    "from scipy import constants\n",
    "from scipy.constants import physical_constants as pc\n",
    "UNA = pc[\"Avogadro constant\"][0]\n",
    "eV_to_J = constants.eV"
   ]
  },
  {
   "cell_type": "markdown",
   "id": "21111d8a",
   "metadata": {},
   "source": [
    "Inputs"
   ]
  },
  {
   "cell_type": "code",
   "execution_count": 3,
   "id": "d1d709e8-d714-466b-aa2f-bfd235333a83",
   "metadata": {},
   "outputs": [],
   "source": [
    "lev_file = \"/home/zanardi/Codes/TC/HyperNet/database/levels/O3_UMN/O2.csv\""
   ]
  },
  {
   "cell_type": "code",
   "execution_count": 4,
   "id": "7fa29e71",
   "metadata": {},
   "outputs": [],
   "source": [
    "# Save path\n",
    "out_path = \"./../species\"\n",
    "os.makedirs(out_path, exist_ok=True)"
   ]
  },
  {
   "cell_type": "markdown",
   "id": "01197916",
   "metadata": {},
   "source": [
    "Species\n",
    "> Atom"
   ]
  },
  {
   "cell_type": "code",
   "execution_count": 5,
   "id": "3a315729",
   "metadata": {},
   "outputs": [],
   "source": [
    "atom = {\n",
    "  \"name\": \"O\",\n",
    "  \"m\": 15.9994e-3 / UNA,\n",
    "  \"e_f\": 246795.0 / UNA,\n",
    "  \"lev\": {\n",
    "    \"g\": [9.0],\n",
    "    \"e\": [0.0]\n",
    "  }\n",
    "}"
   ]
  },
  {
   "cell_type": "code",
   "execution_count": 6,
   "id": "769edad8",
   "metadata": {},
   "outputs": [],
   "source": [
    "with open(out_path+\"/atom.json\", \"w\") as file:\n",
    "  json.dump(atom, file, indent=2)"
   ]
  },
  {
   "cell_type": "markdown",
   "id": "5d3e3535",
   "metadata": {},
   "source": [
    "> Molecule"
   ]
  },
  {
   "cell_type": "code",
   "execution_count": 7,
   "id": "8eacb16a",
   "metadata": {},
   "outputs": [],
   "source": [
    "levels = pd.read_csv(lev_file)"
   ]
  },
  {
   "cell_type": "code",
   "execution_count": 8,
   "id": "92298a49",
   "metadata": {},
   "outputs": [],
   "source": [
    "# Energies\n",
    "ei = (levels[\"E\"] - np.amin(levels[\"E\"])) * eV_to_J\n",
    "# Degeneracies\n",
    "gi = levels[\"g\"]\n",
    "# Dissociation energy\n",
    "ev = levels[\"EVib\"].values\n",
    "ev -= ev.min()\n",
    "iv = np.where(levels[\"jqn\"] == 0)[0]\n",
    "ed = np.amax(ev[iv])"
   ]
  },
  {
   "cell_type": "code",
   "execution_count": 9,
   "id": "206214d1",
   "metadata": {},
   "outputs": [],
   "source": [
    "molecule = {\n",
    "  \"name\": \"O2\",\n",
    "  \"m\": 31.9988e-3 / UNA,\n",
    "  \"e_f\": 0.0,\n",
    "  \"e_d\": ed * eV_to_J,\n",
    "  \"lev\": {\n",
    "    \"g\": gi.tolist(),\n",
    "    \"e\": ei.tolist()\n",
    "  }\n",
    "}"
   ]
  },
  {
   "cell_type": "code",
   "execution_count": 11,
   "id": "9a40206a",
   "metadata": {},
   "outputs": [],
   "source": [
    "with open(out_path+\"/molecule.json\", \"w\") as file:\n",
    "  json.dump(molecule, file, indent=2)"
   ]
  }
 ],
 "metadata": {
  "kernelspec": {
   "display_name": "sciml",
   "language": "python",
   "name": "python3"
  },
  "language_info": {
   "codemirror_mode": {
    "name": "ipython",
    "version": 3
   },
   "file_extension": ".py",
   "mimetype": "text/x-python",
   "name": "python",
   "nbconvert_exporter": "python",
   "pygments_lexer": "ipython3",
   "version": "3.8.15"
  }
 },
 "nbformat": 4,
 "nbformat_minor": 5
}
