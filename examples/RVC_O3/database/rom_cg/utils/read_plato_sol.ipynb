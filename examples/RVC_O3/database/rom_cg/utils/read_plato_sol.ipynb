{
 "cells": [
  {
   "cell_type": "code",
   "execution_count": 1,
   "metadata": {},
   "outputs": [],
   "source": [
    "import os\n",
    "import numpy as np\n",
    "import pandas as pd"
   ]
  },
  {
   "cell_type": "code",
   "execution_count": 2,
   "metadata": {},
   "outputs": [],
   "source": [
    "nb_bins = 8\n",
    "clustering = \"ADA\"\n",
    "testcase = \"hot\"\n",
    "prefix = \"/home/zanardi/Workspace/AirDatabase/ThermoChemModels/CG/run/O3_UMN/\""
   ]
  },
  {
   "cell_type": "code",
   "execution_count": 3,
   "metadata": {},
   "outputs": [],
   "source": [
    "path_to_sol = prefix + f\"/{clustering}{nb_bins}/{testcase}/output_box/box.dat\""
   ]
  },
  {
   "cell_type": "code",
   "execution_count": 4,
   "metadata": {},
   "outputs": [],
   "source": [
    "columns = [\"t\", \"X_O\"] + [f\"X_O2_{i+1}\" for i in range(nb_bins)] \\\n",
    "  + [\"Th\"] + [f\"Tg_{i+1}\" for i in range(nb_bins)] + [\"rho\",\"p\",\"n\",\"E\"]"
   ]
  },
  {
   "cell_type": "code",
   "execution_count": 5,
   "metadata": {},
   "outputs": [],
   "source": [
    "path_to_saving = f\"./../testcases/{clustering}{nb_bins}/\"\n",
    "os.makedirs(path_to_saving, exist_ok=True)\n",
    "df = pd.DataFrame(data=np.loadtxt(path_to_sol, comments=\"#\"), index=None, columns=columns)\n",
    "df.to_csv(path_to_saving+f\"/{testcase}.csv\", index=None, float_format='%.12e')"
   ]
  }
 ],
 "metadata": {
  "kernelspec": {
   "display_name": "sciml",
   "language": "python",
   "name": "python3"
  },
  "language_info": {
   "codemirror_mode": {
    "name": "ipython",
    "version": 3
   },
   "file_extension": ".py",
   "mimetype": "text/x-python",
   "name": "python",
   "nbconvert_exporter": "python",
   "pygments_lexer": "ipython3",
   "version": "3.8.15"
  }
 },
 "nbformat": 4,
 "nbformat_minor": 2
}
