{
 "cells": [
  {
   "cell_type": "code",
   "execution_count": 1,
   "metadata": {},
   "outputs": [],
   "source": [
    "import os\n",
    "import numpy as np\n",
    "import pandas as pd\n",
    "import matplotlib as mpl\n",
    "import matplotlib.pyplot as plt"
   ]
  },
  {
   "cell_type": "code",
   "execution_count": 2,
   "metadata": {},
   "outputs": [],
   "source": [
    "map_file = \"./../testcases/ADA12/mapping.csv\"\n",
    "lev_file = \"/home/zanardi/Codes/TC/HyperNet/database/levels/O3_UMN/O2.csv\""
   ]
  },
  {
   "cell_type": "code",
   "execution_count": 3,
   "metadata": {},
   "outputs": [],
   "source": [
    "levels = pd.read_csv(lev_file)\n",
    "ji = levels[\"jqn\"].values\n",
    "ei = levels[\"E\"].values\n",
    "ei -= ei.min()"
   ]
  },
  {
   "cell_type": "code",
   "execution_count": 4,
   "metadata": {},
   "outputs": [],
   "source": [
    "mapping = pd.read_csv(map_file).values[:,1]"
   ]
  },
  {
   "cell_type": "code",
   "execution_count": 5,
   "metadata": {},
   "outputs": [],
   "source": [
    "def plot_mapping_2d(map, filename=None):\n",
    "  plt.figure()\n",
    "  nb_bins = map.max()\n",
    "  colors = plt.get_cmap('tab20').colors[:nb_bins]\n",
    "  for c in range(nb_bins):\n",
    "    i = (map == c+1)\n",
    "    plt.scatter(ji[i], ei[i], c=mpl.colors.to_hex(colors[c]), s=2)\n",
    "  plt.xlabel(\"$J$\")\n",
    "  plt.ylabel(\"$\\epsilon_i$ [eV]\")\n",
    "  plt.tight_layout()\n",
    "  if filename:\n",
    "    plt.savefig(filename)\n",
    "  plt.show()\n",
    "\n",
    "def plot_mapping_1d(map):\n",
    "  plt.figure()\n",
    "  nb_bins = map.max()\n",
    "  colors = plt.get_cmap('tab20').colors[:nb_bins]\n",
    "  for c in range(map.max()):\n",
    "    i = (map == c+1)\n",
    "    plt.scatter(ei[i], np.ones_like(ei[i])*(c+1), c=mpl.colors.to_hex(colors[c]), s=2)\n",
    "  plt.xlabel('$\\epsilon_i$ [eV]')\n",
    "  plt.ylabel('Cluster')\n",
    "  plt.show()"
   ]
  },
  {
   "cell_type": "code",
   "execution_count": null,
   "metadata": {},
   "outputs": [],
   "source": [
    "plot_mapping_2d(mapping, filename=os.path.splitext(map_file)[0]+\".png\")\n",
    "plot_mapping_1d(mapping)"
   ]
  }
 ],
 "metadata": {
  "kernelspec": {
   "display_name": "sciml",
   "language": "python",
   "name": "python3"
  },
  "language_info": {
   "codemirror_mode": {
    "name": "ipython",
    "version": 3
   },
   "file_extension": ".py",
   "mimetype": "text/x-python",
   "name": "python",
   "nbconvert_exporter": "python",
   "pygments_lexer": "ipython3",
   "version": "3.8.15"
  }
 },
 "nbformat": 4,
 "nbformat_minor": 2
}
