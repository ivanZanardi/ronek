{
 "cells": [
  {
   "cell_type": "markdown",
   "id": "following-sister",
   "metadata": {},
   "source": [
    "#### Characteristic vibrational energy relaxation time"
   ]
  },
  {
   "cell_type": "markdown",
   "id": "dc002ff1",
   "metadata": {},
   "source": [
    "The characteristic vibrational energy relaxation time is defined as the time required by the vibrational energy mode to reach the 63.21% of its equilibrium value\n",
    "\\begin{equation}\n",
    "    \\tau=t\\hspace{3mm}\\text{s.t.}\\hspace{3mm}\\epsilon_{int}\\left(t\\right) = 0.6321\\epsilon^*_{int}\n",
    "\\end{equation}\n",
    "The Millikan-White formula is\n",
    "\\begin{equation}\n",
    "    \\tau=\\frac{1}{p}\\exp\\left[a\\left(T^{-1/3}-b\\right)-c\\right]\n",
    "\\end{equation}\n",
    "with $c=18.42$."
   ]
  },
  {
   "cell_type": "code",
   "execution_count": null,
   "id": "23dfe0bb",
   "metadata": {},
   "outputs": [],
   "source": [
    "path_to_ronek = \"/home/zanardi/Codes/ML/RONEK/ronek/\"\n",
    "\n",
    "import sys\n",
    "import importlib\n",
    "if (importlib.util.find_spec(\"ronek\") is None):\n",
    "  sys.path.append(path_to_ronek)"
   ]
  },
  {
   "cell_type": "code",
   "execution_count": null,
   "id": "a3f1891e",
   "metadata": {},
   "outputs": [],
   "source": [
    "env_cfg = {\n",
    "  \"backend\": \"torch\",\n",
    "  \"device\": \"cuda\",\n",
    "  \"device_idx\": 0,\n",
    "  \"nb_threads\": 8,\n",
    "  \"epsilon\": 1e-10,\n",
    "  \"floatx\": \"float64\"\n",
    "}\n",
    "\n",
    "from ronek import env\n",
    "env.set(**env_cfg)"
   ]
  },
  {
   "cell_type": "code",
   "execution_count": null,
   "id": "fcef4582",
   "metadata": {},
   "outputs": [],
   "source": [
    "import torch\n",
    "import numpy as np\n",
    "import scipy as sp\n",
    "import pandas as pd\n",
    "\n",
    "from scipy import constants\n",
    "from ronek import backend as bkd\n",
    "from ronek import systems as sys_mod"
   ]
  },
  {
   "cell_type": "markdown",
   "id": "mighty-russia",
   "metadata": {},
   "source": [
    "Inputs"
   ]
  },
  {
   "cell_type": "code",
   "execution_count": null,
   "id": "dimensional-mounting",
   "metadata": {},
   "outputs": [],
   "source": [
    "T = 1e4\n",
    "lev_file = \"/home/zanardi/Codes/ML/RONEK/ronek/examples/RVC_O3/database/O2.csv\"\n",
    "path_to_dtb = \"/home/zanardi/Codes/ML/RONEK/ronek/examples/RVC_O3/database/\""
   ]
  },
  {
   "cell_type": "markdown",
   "id": "419cca48",
   "metadata": {},
   "source": [
    "Initialize thermochemical system"
   ]
  },
  {
   "cell_type": "code",
   "execution_count": null,
   "id": "6e522b40",
   "metadata": {},
   "outputs": [],
   "source": [
    "system = sys_mod.TASystem(\n",
    "  species={\n",
    "    k: path_to_dtb + f\"/species/{k}.json\" for k in (\"atom\", \"molecule\")\n",
    "  },\n",
    "  rates_coeff=path_to_dtb + \"/kinetics.hdf5\",\n",
    "  use_einsum=False,\n",
    "  use_factorial=True,\n",
    "  use_arrhenius=True\n",
    ")\n",
    "system.update_fom_ops(T)"
   ]
  },
  {
   "cell_type": "code",
   "execution_count": null,
   "id": "4acd257b",
   "metadata": {},
   "outputs": [],
   "source": [
    "levels = pd.read_csv(lev_file)\n",
    "gi = levels[\"g\"].values\n",
    "ei = levels[\"E\"].values\n",
    "ei -= ei.min()"
   ]
  },
  {
   "cell_type": "markdown",
   "id": "2287d29c",
   "metadata": {},
   "source": [
    "> Remove dissociation processes"
   ]
  },
  {
   "cell_type": "code",
   "execution_count": null,
   "id": "5513e2f3",
   "metadata": {},
   "outputs": [],
   "source": [
    "for k in (\"fwd\", \"bwd\"):\n",
    "  system.kin.rates[\"m-a\"][\"d\"][k][::] = 0.0"
   ]
  },
  {
   "cell_type": "markdown",
   "id": "1a3a955f",
   "metadata": {},
   "source": [
    "> Compute eigendecomposition of the excitation processes matrix"
   ]
  },
  {
   "cell_type": "code",
   "execution_count": null,
   "id": "23282e15",
   "metadata": {},
   "outputs": [],
   "source": [
    "k = system._update_fom_ops(system.kin.rates)[\"ed\"]\n",
    "l, v = sp.linalg.eig(k)\n",
    "vinv = sp.linalg.inv(v)\n",
    "l, v, vinv = [bkd.to_torch(x) for x in (l, v, vinv)]"
   ]
  },
  {
   "cell_type": "markdown",
   "id": "590b14fe",
   "metadata": {},
   "source": [
    "Solve the system for different pressure values\n",
    "> Time grid"
   ]
  },
  {
   "cell_type": "code",
   "execution_count": null,
   "id": "a334e13e",
   "metadata": {},
   "outputs": [],
   "source": [
    "t = system.get_tgrid(1e-12, 1e-3, num=200)\n",
    "t = bkd.to_torch(t)"
   ]
  },
  {
   "cell_type": "markdown",
   "id": "e8c664dd",
   "metadata": {},
   "source": [
    "> Initial conditions"
   ]
  },
  {
   "cell_type": "code",
   "execution_count": null,
   "id": "67661957",
   "metadata": {},
   "outputs": [],
   "source": [
    "p0 = np.geomspace(1e3,1e4,10)\n",
    "T0 = 500.0\n",
    "x0_a = 0.05"
   ]
  },
  {
   "cell_type": "markdown",
   "id": "0d6eb332",
   "metadata": {},
   "source": [
    "> Solve"
   ]
  },
  {
   "cell_type": "code",
   "execution_count": null,
   "id": "18fbd1df",
   "metadata": {},
   "outputs": [],
   "source": [
    "def solve(p0):\n",
    "  n0 = system.mix.get_init_sol(T0, x0_a, p0, mu_type=\"mole\")\n",
    "  n0 = bkd.to_torch(n0)\n",
    "  n = []\n",
    "  for ti in t:\n",
    "    li = torch.exp(ti*l*n0[0])\n",
    "    ni = v @ (li * (vinv @ n0[1:]))\n",
    "    n.append(bkd.to_numpy(ni))\n",
    "  n = np.vstack(n).T\n",
    "  return n / np.sum(n, axis=0)"
   ]
  },
  {
   "cell_type": "code",
   "execution_count": null,
   "id": "be68db21",
   "metadata": {},
   "outputs": [],
   "source": [
    "f = [solve(p0_i) for p0_i in p0]"
   ]
  },
  {
   "cell_type": "markdown",
   "id": "romance-accordance",
   "metadata": {},
   "source": [
    "Compute vibrational energy relaxation time"
   ]
  },
  {
   "cell_type": "code",
   "execution_count": null,
   "id": "5a58b90c",
   "metadata": {},
   "outputs": [],
   "source": [
    "i_vib = (levels[\"jqn\"] == 0)"
   ]
  },
  {
   "cell_type": "code",
   "execution_count": null,
   "id": "30bf3383",
   "metadata": {},
   "outputs": [],
   "source": [
    "def compute_tau(p0, fi, ei):\n",
    "  e_vib = np.sum(fi[i_vib].T * ei[i_vib], axis=1)\n",
    "  e_tau = 0.6321 * e_vib[-1]\n",
    "  index = np.argmin(np.absolute(e_vib-e_tau))\n",
    "  tau_p = float(t[index])*p0/constants.atm\n",
    "  return tau_p"
   ]
  },
  {
   "cell_type": "code",
   "execution_count": null,
   "id": "c0290156",
   "metadata": {},
   "outputs": [],
   "source": [
    "tau_p = np.array([compute_tau(p0[i], f[i], ei) for i in range(len(p0))])"
   ]
  },
  {
   "cell_type": "markdown",
   "id": "c884c95d",
   "metadata": {},
   "source": [
    "Compute coefficients for the Millikan-White formula"
   ]
  },
  {
   "cell_type": "code",
   "execution_count": null,
   "id": "d5af5ff3",
   "metadata": {},
   "outputs": [],
   "source": [
    "def loss_mw_formula(x, tau_p, c):\n",
    "  a, b = x\n",
    "  lhs = np.log(tau_p)\n",
    "  rhs = a*(np.power(T, -1/3)-b) - c\n",
    "  res = lhs - rhs\n",
    "  return np.sum(res**2)"
   ]
  },
  {
   "cell_type": "code",
   "execution_count": null,
   "id": "3744434c",
   "metadata": {},
   "outputs": [],
   "source": [
    "c = 18.42\n",
    "x0 = np.array([40.0, 1.0])\n",
    "a, b = sp.optimize.minimize(loss_mw_formula, x0, args=(tau_p, c), method=\"CG\").x"
   ]
  },
  {
   "cell_type": "code",
   "execution_count": null,
   "id": "2f48731e",
   "metadata": {},
   "outputs": [],
   "source": [
    "text = f\"- The MW coefficients are [a, b, c]: {a}, {b}, {c}\"\n",
    "with open(\"./tau.txt\", \"w\") as file:\n",
    "  file.write(text)\n",
    "print(text)"
   ]
  }
 ],
 "metadata": {
  "kernelspec": {
   "display_name": "sciml",
   "language": "python",
   "name": "python3"
  },
  "language_info": {
   "codemirror_mode": {
    "name": "ipython",
    "version": 3
   },
   "file_extension": ".py",
   "mimetype": "text/x-python",
   "name": "python",
   "nbconvert_exporter": "python",
   "pygments_lexer": "ipython3",
   "version": "3.8.15"
  }
 },
 "nbformat": 4,
 "nbformat_minor": 5
}
