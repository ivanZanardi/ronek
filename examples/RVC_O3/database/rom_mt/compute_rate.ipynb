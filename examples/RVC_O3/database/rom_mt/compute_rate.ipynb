{
 "cells": [
  {
   "cell_type": "markdown",
   "id": "adjusted-cleaner",
   "metadata": {},
   "source": [
    "#### QSS Rate"
   ]
  },
  {
   "cell_type": "code",
   "execution_count": 1,
   "id": "ecological-duration",
   "metadata": {},
   "outputs": [],
   "source": [
    "import h5py\n",
    "import numpy as np\n",
    "import pandas as pd\n",
    "import dill as pickle\n",
    "\n",
    "from matplotlib import pyplot as plt"
   ]
  },
  {
   "cell_type": "markdown",
   "id": "recorded-johnston",
   "metadata": {},
   "source": [
    "Define paths"
   ]
  },
  {
   "cell_type": "code",
   "execution_count": 2,
   "id": "c619776d",
   "metadata": {},
   "outputs": [],
   "source": [
    "T = 1e4\n",
    "lev_file = \"/home/zanardi/Codes/TC/HyperNet/database/levels/O3_UMN/O2.csv\"\n",
    "kin_file = \"/home/zanardi/Workspace/AirDatabase/HDF5/QCT/Orig/O3_UMN.hdf5\"\n",
    "sol_file = \"/home/zanardi/Codes/ML/RONEK/run/RVC_O3/test/data/case_cold.p\""
   ]
  },
  {
   "cell_type": "markdown",
   "id": "75180ae3",
   "metadata": {},
   "source": [
    "Levels"
   ]
  },
  {
   "cell_type": "code",
   "execution_count": 3,
   "id": "bccb8cba",
   "metadata": {},
   "outputs": [],
   "source": [
    "levels = pd.read_csv(lev_file)\n",
    "gi = levels[\"g\"].values\n",
    "ei = levels[\"E\"].values\n",
    "ei -= ei.min()"
   ]
  },
  {
   "cell_type": "markdown",
   "id": "aa687d61",
   "metadata": {},
   "source": [
    "Kinetics"
   ]
  },
  {
   "cell_type": "code",
   "execution_count": 4,
   "id": "2ce2bc9e",
   "metadata": {},
   "outputs": [],
   "source": [
    "T_str = str(int(T))\n",
    "rates = h5py.File(kin_file, \"a\")\n",
    "kd = rates[f\"T_{T_str}_{T_str}/Rates/Diss_Corr\"][()]"
   ]
  },
  {
   "cell_type": "markdown",
   "id": "45d2153d",
   "metadata": {},
   "source": [
    "Solution"
   ]
  },
  {
   "cell_type": "code",
   "execution_count": 5,
   "id": "6a2d6189",
   "metadata": {},
   "outputs": [],
   "source": [
    "sol = pickle.load(open(sol_file, \"rb\"))\n",
    "t = sol[\"t\"]\n",
    "ni = sol[\"n\"][1]\n",
    "fi = ni / np.sum(ni, axis=0)"
   ]
  },
  {
   "cell_type": "markdown",
   "id": "ff58f351",
   "metadata": {},
   "source": [
    "$e_\\text{int}$ evolution to determine the QSS region"
   ]
  },
  {
   "cell_type": "code",
   "execution_count": 6,
   "id": "a1eda044",
   "metadata": {},
   "outputs": [],
   "source": [
    "e = np.sum(fi.T * ei, axis=-1)"
   ]
  },
  {
   "cell_type": "code",
   "execution_count": null,
   "id": "fbb23555",
   "metadata": {},
   "outputs": [],
   "source": [
    "plt.semilogx(t, e)\n",
    "plt.xlabel(\"$t$ [s]\")\n",
    "plt.ylabel(\"$e$ [eV]\")\n",
    "plt.show()\n",
    "plt.close()"
   ]
  },
  {
   "cell_type": "markdown",
   "id": "1169684f",
   "metadata": {},
   "source": [
    "QSS distribution"
   ]
  },
  {
   "cell_type": "code",
   "execution_count": 8,
   "id": "85bfa1df",
   "metadata": {},
   "outputs": [],
   "source": [
    "tqss = 3e-6\n",
    "tidx = np.argmin(np.absolute(t-tqss))\n",
    "fqss = fi[:,tidx]"
   ]
  },
  {
   "cell_type": "code",
   "execution_count": null,
   "id": "2c35e5aa",
   "metadata": {},
   "outputs": [],
   "source": [
    "plt.semilogy(\n",
    "  ei,\n",
    "  ni[:,tidx]/gi,\n",
    "  marker=\"o\",\n",
    "  fillstyle=\"full\",\n",
    "  markersize=1,\n",
    "  linestyle=\"none\"\n",
    ")\n",
    "plt.xlabel(r\"$\\epsilon_i$ [eV]\")\n",
    "plt.ylabel(r\"$n_i/g_i$ [m$^{-3}$]\")\n",
    "plt.show()\n",
    "plt.close()"
   ]
  },
  {
   "cell_type": "markdown",
   "id": "14f08dbc",
   "metadata": {},
   "source": [
    "QSS dissociation rate"
   ]
  },
  {
   "cell_type": "code",
   "execution_count": 10,
   "id": "9cce7415",
   "metadata": {},
   "outputs": [],
   "source": [
    "kqss = np.sum(fqss * kd)"
   ]
  },
  {
   "cell_type": "code",
   "execution_count": null,
   "id": "2d581f44",
   "metadata": {},
   "outputs": [],
   "source": [
    "text = f\"The QSS rate is: {kqss} cm^3/s\"\n",
    "with open(\"./rate.txt\", \"w\") as file:\n",
    "  file.write(text)\n",
    "print(text)"
   ]
  }
 ],
 "metadata": {
  "kernelspec": {
   "display_name": "sciml",
   "language": "python",
   "name": "python3"
  },
  "language_info": {
   "codemirror_mode": {
    "name": "ipython",
    "version": 3
   },
   "file_extension": ".py",
   "mimetype": "text/x-python",
   "name": "python",
   "nbconvert_exporter": "python",
   "pygments_lexer": "ipython3",
   "version": "3.8.15"
  }
 },
 "nbformat": 4,
 "nbformat_minor": 5
}
