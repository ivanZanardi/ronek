{
 "cells": [
  {
   "cell_type": "code",
   "execution_count": 1,
   "metadata": {},
   "outputs": [],
   "source": [
    "import numpy as np\n",
    "import pandas as pd"
   ]
  },
  {
   "cell_type": "code",
   "execution_count": 2,
   "metadata": {},
   "outputs": [],
   "source": [
    "testcase = \"cold\"\n",
    "sol_file = \"/home/zanardi/Workspace/AirDatabase/ThermoChemModels/MT/run/O3/output_box/cold.dat\"\n",
    "columns = [\"t\", \"X_O\", \"X_O2\", \"Th\", \"Tv\", \"rho\", \"p\", \"n\", \"E\"]"
   ]
  },
  {
   "cell_type": "code",
   "execution_count": 3,
   "metadata": {},
   "outputs": [],
   "source": [
    "df = pd.DataFrame(data=np.loadtxt(sol_file, comments=\"#\"), index=None, columns=columns)\n",
    "df.to_csv(f\"./{testcase}.csv\", index=None, float_format='%.12e')"
   ]
  }
 ],
 "metadata": {
  "kernelspec": {
   "display_name": "sciml",
   "language": "python",
   "name": "python3"
  },
  "language_info": {
   "codemirror_mode": {
    "name": "ipython",
    "version": 3
   },
   "file_extension": ".py",
   "mimetype": "text/x-python",
   "name": "python",
   "nbconvert_exporter": "python",
   "pygments_lexer": "ipython3",
   "version": "3.8.15"
  }
 },
 "nbformat": 4,
 "nbformat_minor": 2
}
