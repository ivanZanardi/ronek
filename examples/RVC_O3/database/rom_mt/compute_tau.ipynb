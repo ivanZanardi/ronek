{
 "cells": [
  {
   "cell_type": "markdown",
   "id": "following-sister",
   "metadata": {},
   "source": [
    "#### Characteristic internal energy relaxation time"
   ]
  },
  {
   "cell_type": "markdown",
   "metadata": {},
   "source": [
    "The characteristic internal energy relaxation time is defined as the time required by the internal energy mode to reach the 63.21% of its equilibrium value\n",
    "\\begin{equation}\n",
    "    \\tau=t\\hspace{3mm}\\text{s.t.}\\hspace{3mm}\\epsilon_{int}\\left(t\\right) = 0.6321\\epsilon^*_{int}\n",
    "\\end{equation}\n",
    "The Millikan-White formula is\n",
    "\\begin{equation}\n",
    "    \\tau=\\frac{1}{p}\\exp\\left[a\\left(T^{-1/3}-b\\right)-c\\right]\n",
    "\\end{equation}\n",
    "with $c=18.42$. If $a=1$, so\n",
    "\\begin{equation}\n",
    "    b=\\frac{1}{a}\\left[-\\log(\\tau p)+aT^{-1/3}-c\\right]\n",
    "\\end{equation}"
   ]
  },
  {
   "cell_type": "code",
   "execution_count": 1,
   "id": "c70b29c0",
   "metadata": {},
   "outputs": [],
   "source": [
    "import numpy as np\n",
    "import pandas as pd\n",
    "import dill as pickle\n",
    "\n",
    "from scipy import constants"
   ]
  },
  {
   "cell_type": "markdown",
   "id": "mighty-russia",
   "metadata": {},
   "source": [
    "Define paths"
   ]
  },
  {
   "cell_type": "code",
   "execution_count": 2,
   "id": "dimensional-mounting",
   "metadata": {},
   "outputs": [],
   "source": [
    "T = 1e4\n",
    "lev_file = \"/home/zanardi/Codes/TC/HyperNet/database/levels/O3_UMN/O2.csv\"\n",
    "sol_file = \"/home/zanardi/Codes/ML/RONEK/run/RVC_O3/test/data/case_cold.p\""
   ]
  },
  {
   "cell_type": "markdown",
   "id": "3a7bf783",
   "metadata": {},
   "source": [
    "Levels"
   ]
  },
  {
   "cell_type": "code",
   "execution_count": 3,
   "id": "dc33d1c4",
   "metadata": {},
   "outputs": [],
   "source": [
    "levels = pd.read_csv(lev_file)\n",
    "gi = levels[\"g\"].values\n",
    "ei = levels[\"E\"].values\n",
    "ei -= ei.min()"
   ]
  },
  {
   "cell_type": "markdown",
   "id": "experimental-sister",
   "metadata": {},
   "source": [
    "Solution"
   ]
  },
  {
   "cell_type": "code",
   "execution_count": 4,
   "id": "native-therapist",
   "metadata": {},
   "outputs": [],
   "source": [
    "sol = pickle.load(open(sol_file, \"rb\"))\n",
    "t = sol[\"t\"]\n",
    "p0 = sol[\"mu\"][-1]\n",
    "ni = sol[\"n\"][1]\n",
    "fi = ni / np.sum(ni, axis=0)"
   ]
  },
  {
   "cell_type": "markdown",
   "id": "romance-accordance",
   "metadata": {},
   "source": [
    "Vibrational energy evolution"
   ]
  },
  {
   "cell_type": "code",
   "execution_count": 5,
   "id": "expressed-music",
   "metadata": {},
   "outputs": [],
   "source": [
    "i_vib = (levels[\"jqn\"] == 0)\n",
    "e_vib = np.sum(fi[i_vib].T * ei[i_vib], axis=1)"
   ]
  },
  {
   "cell_type": "markdown",
   "id": "frequent-trademark",
   "metadata": {},
   "source": [
    "The characteristic internal energy relaxation time is defined as the time required by the internal energy mode to reach the 63.21% of its equilibrium value\n",
    "\\begin{equation}\n",
    "    \\tau=t\\hspace{3mm}\\text{s.t.}\\hspace{3mm}\\epsilon_{int}\\left(t\\right) = 0.6321\\epsilon^*_{int}\n",
    "\\end{equation}\n",
    "The MW formulation is\n",
    "\\begin{equation}\n",
    "    \\tau=\\frac{1}{p}\\exp\\left[a\\left(T^{-1/3}-b\\right)-c\\right]\n",
    "\\end{equation}\n",
    "with $c=18.42$. If $a=1$, so\n",
    "\\begin{equation}\n",
    "    b=\\frac{1}{a}\\left[-\\log(\\tau p)+aT^{-1/3}-c\\right]\n",
    "\\end{equation}"
   ]
  },
  {
   "cell_type": "code",
   "execution_count": null,
   "id": "stuck-tracy",
   "metadata": {},
   "outputs": [],
   "source": [
    "e_tau = 0.6321 * e_vib[-1]\n",
    "index = np.argmin(np.absolute(e_vib-e_tau))\n",
    "tau_p = float(t[index])*p0/constants.atm\n",
    "print(f\"The characteristic internal energy relaxation time is: {tau_p} atm*s\")"
   ]
  },
  {
   "cell_type": "code",
   "execution_count": null,
   "id": "junior-underwear",
   "metadata": {},
   "outputs": [],
   "source": [
    "a = 10\n",
    "c = 18.42\n",
    "b = -1/a*(np.log(tau_p)+c) + a*np.power(T, -1/3)\n",
    "text = f\"The MW coefficients are [a, b, c]: {a}, {b}, {c}\"\n",
    "with open(\"./tau.txt\", \"w\") as file:\n",
    "  file.write(text)\n",
    "print(text)"
   ]
  }
 ],
 "metadata": {
  "kernelspec": {
   "display_name": "sciml",
   "language": "python",
   "name": "python3"
  },
  "language_info": {
   "codemirror_mode": {
    "name": "ipython",
    "version": 3
   },
   "file_extension": ".py",
   "mimetype": "text/x-python",
   "name": "python",
   "nbconvert_exporter": "python",
   "pygments_lexer": "ipython3",
   "version": "3.8.15"
  }
 },
 "nbformat": 4,
 "nbformat_minor": 5
}
