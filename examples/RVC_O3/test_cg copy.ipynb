{
 "cells": [
  {
   "cell_type": "markdown",
   "id": "11e7d091",
   "metadata": {},
   "source": [
    "Environment"
   ]
  },
  {
   "cell_type": "code",
   "execution_count": null,
   "id": "2c8ff0da",
   "metadata": {},
   "outputs": [],
   "source": [
    "import os\n",
    "import sys\n",
    "sys.path.append(\"/home/zanardi/Codes/ML/RONEK/ronek/\")\n",
    "\n",
    "from ronek import env\n",
    "env.set(\n",
    "  device=\"cpu\",\n",
    "  device_idx=0,\n",
    "  nb_threads=8,\n",
    "  floatx=\"float64\"\n",
    ")"
   ]
  },
  {
   "cell_type": "markdown",
   "id": "celtic-chain",
   "metadata": {},
   "source": [
    "Import libraries"
   ]
  },
  {
   "cell_type": "code",
   "execution_count": null,
   "id": "8dba1102",
   "metadata": {},
   "outputs": [],
   "source": [
    "import copy\n",
    "import numpy as np\n",
    "import scipy as sp\n",
    "import pandas as pd\n",
    "import ronek.postproc.plotting as pltt\n",
    "\n",
    "from ronek import const\n",
    "from ronek import utils\n",
    "from ronek.systems import TASystem\n",
    "from ronek.roms import CoarseGrainingM1\n",
    "from silx.io.dictdump import h5todict"
   ]
  },
  {
   "cell_type": "markdown",
   "id": "alternate-creature",
   "metadata": {},
   "source": [
    "Define inputs\n",
    "> System"
   ]
  },
  {
   "cell_type": "code",
   "execution_count": null,
   "id": "767ad139",
   "metadata": {},
   "outputs": [],
   "source": [
    "T = 1e4\n",
    "ic = {\n",
    "  \"cold\": [5e2, 1e3, 5e-2],\n",
    "  \"hot\":  [3e3, 1e3, 5e-2]\n",
    "}\n",
    "tgrid = {\n",
    "  \"lim\": [1e-9, 1e-3],\n",
    "  \"num\": 500\n",
    "}\n",
    "teval = {\n",
    "  \"cold\": [1e-8, 1e-7, 7e-7, 3e-6, 1e-4],\n",
    "  \"hot\":  [1e-7, 1e-6, 4e-6, 2e-5, 1e-3]\n",
    "}"
   ]
  },
  {
   "cell_type": "markdown",
   "id": "1268e253",
   "metadata": {},
   "source": [
    "> Paths"
   ]
  },
  {
   "cell_type": "code",
   "execution_count": null,
   "id": "d82caec9",
   "metadata": {},
   "outputs": [],
   "source": [
    "path_to_dtb = \"/home/zanardi/Codes/ML/RONEK/run/RVC_O3/database/\"\n",
    "path_to_data = \"/home/zanardi/Codes/ML/RONEK/run/RVC_O3/test/data/\""
   ]
  },
  {
   "cell_type": "markdown",
   "id": "4c6da0ca",
   "metadata": {},
   "source": [
    "Initialize isothermal master equation model"
   ]
  },
  {
   "cell_type": "code",
   "execution_count": null,
   "id": "8a540f89",
   "metadata": {},
   "outputs": [],
   "source": [
    "system = TASystem(\n",
    "  T=T,\n",
    "  rates=path_to_dtb + \"/kinetics.hdf5\",\n",
    "  species={\n",
    "    k: path_to_dtb + f\"/species/{k}.json\" for k in (\"atom\", \"molecule\")\n",
    "  },\n",
    "  use_einsum=False,\n",
    "  use_factorial=False\n",
    ")"
   ]
  },
  {
   "cell_type": "code",
   "execution_count": null,
   "id": "c8f64dc1",
   "metadata": {},
   "outputs": [],
   "source": [
    "cg = CoarseGrainingM1(\n",
    "  molecule=path_to_dtb + \"/species/molecule.json\"\n",
    ")\n",
    "e = cg.molecule.lev[\"e\"]"
   ]
  },
  {
   "cell_type": "code",
   "execution_count": null,
   "id": "dbdc1284",
   "metadata": {},
   "outputs": [],
   "source": [
    "testcase = \"/home/zanardi/Codes/ML/RONEK/ronek/examples/RVC_O3/database/testcases/RVE5/cold.csv\"\n",
    "mapping = \"/home/zanardi/Codes/ML/RONEK/ronek/examples/RVC_O3/database/testcases/RVE5/mapping.csv\""
   ]
  },
  {
   "cell_type": "code",
   "execution_count": null,
   "id": "3e70c9d5",
   "metadata": {},
   "outputs": [],
   "source": [
    "mapping = np.loadtxt(mapping, delimiter=\",\")[:,1].astype(np.int16)\n",
    "cg.build(mapping=mapping)"
   ]
  },
  {
   "cell_type": "code",
   "execution_count": null,
   "id": "0ef9b061",
   "metadata": {},
   "outputs": [],
   "source": [
    "x_fom = cg.decode(x=cg.read_sol(testcase))\n",
    "x_fom"
   ]
  },
  {
   "cell_type": "code",
   "execution_count": null,
   "id": "b3e7e8f8",
   "metadata": {},
   "outputs": [],
   "source": [
    "x_fom.T"
   ]
  },
  {
   "cell_type": "code",
   "execution_count": null,
   "id": "d0782525",
   "metadata": {},
   "outputs": [],
   "source": []
  },
  {
   "cell_type": "code",
   "execution_count": null,
   "id": "4fc6b964",
   "metadata": {},
   "outputs": [],
   "source": []
  },
  {
   "cell_type": "code",
   "execution_count": null,
   "id": "ce14afd3",
   "metadata": {},
   "outputs": [],
   "source": [
    "# Thermo\n",
    "# ===================================\n",
    "def build_interp(species, T, phi):\n",
    "  if isinstance(phi, np.ndarray):\n",
    "    phi = [phi]\n",
    "  e = np.stack([species.lev[\"e\"] @ phij for phij in phi], axis=0).T\n",
    "  # Temperature to internal energy\n",
    "  species.T_to_e = []\n",
    "  for eg in e:\n",
    "    species.T_to_e.append(\n",
    "      (T.min(), T.max(), sp.interpolate.interp1d(T, eg, kind=\"linear\", axis=0))\n",
    "    )\n",
    "  # Internal energy to temperature\n",
    "  species.e_to_T = []\n",
    "  for eg in e:\n",
    "    species.e_to_T.append(\n",
    "      (eg.min(), eg.max(), sp.interpolate.interp1d(eg, T, kind=\"linear\", axis=0))\n",
    "    )\n",
    "\n",
    "def interpolate(species, T=None, e=None):\n",
    "  if (T is not None):\n",
    "    return species._interpolate(T, species.T_to_e)\n",
    "  else:\n",
    "    return species._interpolate(e, species.e_to_T)\n",
    "\n",
    "def _interpolate(species, x, funs):\n",
    "  y = [fun[2](np.clip(x[i], fun[0], fun[1]) ) for (i, fun) in enumerate(funs)]\n",
    "  return np.array(y).reshape(-1)\n"
   ]
  },
  {
   "cell_type": "code",
   "execution_count": null,
   "id": "4314efc0",
   "metadata": {},
   "outputs": [],
   "source": [
    "def build_probmat(nb_bins):\n",
    "  mapping = cg.get_mapping(nb_bins)\n",
    "  return cg.construct_probmat(mapping)\n",
    "\n",
    "def build_phi(T, P):\n",
    "  cg.molecule.update(T)\n",
    "  phi = P * cg.molecule.q.reshape(-1,1)\n",
    "  Q = P.T @ cg.molecule.q\n",
    "  phi /= Q.reshape(1,-1)\n",
    "  return phi\n",
    "\n",
    "def build_psi(P):\n",
    "  return P, P*e.reshape(-1,1)"
   ]
  },
  {
   "cell_type": "code",
   "execution_count": null,
   "id": "2835b474",
   "metadata": {},
   "outputs": [],
   "source": [
    "nb_bins = 5\n",
    "Tint = np.geomspace(3e2, 5e5, 500)\n",
    "\n",
    "ops = {\n",
    "  \"ed\": [[],[]],\n",
    "  \"r\": []\n",
    "}\n",
    "P = build_probmat(nb_bins)\n",
    "psis = build_psi(P)\n",
    "phis = []\n",
    "for Ti in Tint:\n",
    "  phi = build_phi(Ti, P)\n",
    "  phis.append(phi)\n",
    "  for j, psi in enumerate(psis):\n",
    "    system.update_rom_ops(phi, psi, biortho=False)\n",
    "    ops[\"ed\"][j].append(system.rom_ops[\"ed\"])\n",
    "    if (len(ops[\"r\"]) < 2):\n",
    "      ops[\"r\"].append(system.rom_ops[\"r\"])\n",
    "    if (\"m_ratio\" not in ops):\n",
    "      ops[\"m_ratio\"] = system.rom_ops[\"m_ratio\"]\n",
    "ops[\"ed\"] = [np.stack(op, axis=0) for op in ops[\"ed\"]]\n",
    "\n",
    "utils.map_nested_dict(ops, np.shape)"
   ]
  },
  {
   "cell_type": "code",
   "execution_count": null,
   "id": "9195dccf",
   "metadata": {},
   "outputs": [],
   "source": [
    "def build_interp_ops(Tint, ops):\n",
    "  funs = copy.deepcopy(ops)\n",
    "  for m in range(2):\n",
    "    funs_m = []\n",
    "    for op in np.transpose(ops[\"ed\"][m], axes=(2,0,1)):\n",
    "      funs_m.append(\n",
    "        sp.interpolate.interp1d(Tint, op, kind=\"linear\", axis=0)\n",
    "      )\n",
    "    funs[\"ed\"][m] = funs_m\n",
    "  return funs\n",
    "\n",
    "def apply_interp_ops(T, funs):\n",
    "  ops = copy.deepcopy(funs)\n",
    "  for m in range(2):\n",
    "    ops_m = []\n",
    "    for i, fun in enumerate(funs[\"ed\"][m]):\n",
    "      ops_m.append(fun(T[i]))\n",
    "    ops[\"ed\"][m] = np.stack(ops_m, axis=-1)\n",
    "  return ops"
   ]
  },
  {
   "cell_type": "code",
   "execution_count": null,
   "id": "b1efa05f",
   "metadata": {},
   "outputs": [],
   "source": [
    "ops_interp = build_interp_ops(Tint, ops)\n",
    "cg.molecule.build_interp(Tint, phis)"
   ]
  },
  {
   "cell_type": "code",
   "execution_count": null,
   "id": "1c6afb83",
   "metadata": {},
   "outputs": [],
   "source": [
    "def fun(t, x, interp):\n",
    "  # Extract variables\n",
    "  x = x * const.UNA\n",
    "  n_a, (n_m, e_m) = x[:1], np.split(x[1:], 2)\n",
    "  # Interpolate temperatures\n",
    "  T_m = cg.molecule.interpolate(e=e_m/n_m)\n",
    "  print(T_m)\n",
    "  # Interpolate operators\n",
    "  ops = apply_interp_ops(T_m, interp)\n",
    "  # Compose source terms\n",
    "  # > Molecule mass\n",
    "  w_n_m = ops[\"ed\"][0] @ n_m * n_a \\\n",
    "        + ops[\"r\"][0] * n_a**3\n",
    "  # > Molecule energy\n",
    "  w_e_m = ops[\"ed\"][1] @ e_m * n_a \\\n",
    "        + ops[\"r\"][1] * n_a**3\n",
    "  # > Atom\n",
    "  w_n_a = - ops[\"m_ratio\"] @ w_n_m\n",
    "  # Compose full source term\n",
    "  f = np.concatenate([w_n_a, w_n_m, w_e_m], axis=0)\n",
    "  return f / const.UNA"
   ]
  },
  {
   "cell_type": "code",
   "execution_count": null,
   "id": "1959467b",
   "metadata": {},
   "outputs": [],
   "source": [
    "def encode(n, psis):\n",
    "  return np.concatenate([n @ psi for psi in psis])\n",
    "\n",
    "# def decode(z, P):\n",
    "#   if (z.shape[1] != 2*nb_bins):\n",
    "#     z = z.T\n",
    "#   n_m, e_m = np.split(z, 2, axis=-1)\n",
    "#   T_m = np.vstack([cg.molecule.interpolate(e=e_m[i]/n_m[i]) for i in range(len(z))])\n",
    "#   for i, Ti in enumerate(T_m.T):\n",
    "#     Ti = Ti.reshape(-1,1)\n",
    "    \n",
    "    \n",
    "#     T_m @ P.T\n",
    "\n",
    "\n",
    "#   return np.concatenate([n @ psi for psi in psis])"
   ]
  },
  {
   "cell_type": "code",
   "execution_count": null,
   "id": "80447f90",
   "metadata": {},
   "outputs": [],
   "source": [
    "filename = path_to_data + \"/case_hot.p\"\n",
    "icase = utils.load_case(filename=filename)\n",
    "n_fom, t, n0 = [icase[k] for k in (\"n\", \"t\", \"n0\")]"
   ]
  },
  {
   "cell_type": "code",
   "execution_count": null,
   "id": "f3313c44",
   "metadata": {},
   "outputs": [],
   "source": [
    "z_m = encode(n0[1:], psis)\n",
    "n_m, e_m = np.split(z_m, 2)\n",
    "y0 = np.concatenate([n0[:1], n_m, e_m])\n",
    "y0"
   ]
  },
  {
   "cell_type": "code",
   "execution_count": null,
   "id": "7cf5f140",
   "metadata": {},
   "outputs": [],
   "source": [
    "y = system.solve(\n",
    "  t=system.get_tgrid(1e-9,1e-3,500),\n",
    "  y0=y0,\n",
    "  fun=fun,\n",
    "  jac=None,\n",
    "  ops=ops_interp,\n",
    "  rtol=1e-10\n",
    ")"
   ]
  },
  {
   "cell_type": "code",
   "execution_count": null,
   "id": "a6bec157",
   "metadata": {},
   "outputs": [],
   "source": []
  },
  {
   "cell_type": "code",
   "execution_count": null,
   "id": "f678ea87",
   "metadata": {},
   "outputs": [],
   "source": []
  },
  {
   "cell_type": "code",
   "execution_count": null,
   "id": "abb0c86a",
   "metadata": {},
   "outputs": [],
   "source": []
  },
  {
   "cell_type": "code",
   "execution_count": null,
   "id": "6fc8fe48",
   "metadata": {},
   "outputs": [],
   "source": []
  },
  {
   "cell_type": "code",
   "execution_count": null,
   "id": "822adc51",
   "metadata": {},
   "outputs": [],
   "source": []
  },
  {
   "cell_type": "code",
   "execution_count": null,
   "id": "5db77e25",
   "metadata": {},
   "outputs": [],
   "source": []
  },
  {
   "cell_type": "code",
   "execution_count": null,
   "id": "6e7211a1",
   "metadata": {},
   "outputs": [],
   "source": []
  },
  {
   "cell_type": "code",
   "execution_count": null,
   "id": "266918fe",
   "metadata": {},
   "outputs": [],
   "source": []
  },
  {
   "cell_type": "code",
   "execution_count": null,
   "id": "1d56eb20",
   "metadata": {},
   "outputs": [],
   "source": []
  },
  {
   "cell_type": "code",
   "execution_count": null,
   "id": "747a7207",
   "metadata": {},
   "outputs": [],
   "source": []
  },
  {
   "cell_type": "code",
   "execution_count": null,
   "id": "dce9ab83",
   "metadata": {},
   "outputs": [],
   "source": [
    "np.sort(np.random.choice(200,5,replace=False))"
   ]
  },
  {
   "cell_type": "code",
   "execution_count": null,
   "id": "22ef78ce",
   "metadata": {},
   "outputs": [],
   "source": [
    "i = np.random.choice(200)\n",
    "Ti = np.full(5, Tint[i])\n",
    "opsp = apply_interp_ops(Ti, ops_interp)\n",
    "\n",
    "true = ops[\"ed\"][1][i]\n",
    "pred = opsp[\"ed\"][1]\n",
    "err = 100*np.abs(true - pred) / np.abs(true)\n",
    "err.max()"
   ]
  },
  {
   "cell_type": "code",
   "execution_count": null,
   "id": "eadc0ef7",
   "metadata": {},
   "outputs": [],
   "source": [
    "egp = np.exp(sp.interpolate.interp1d(Tint, np.log(e_g), kind=\"cubic\", axis=0)(Tint))\n",
    "err = 100*np.abs(egp - e_g) / np.abs(e_g)\n",
    "err.max()"
   ]
  },
  {
   "cell_type": "code",
   "execution_count": null,
   "id": "711c0376",
   "metadata": {},
   "outputs": [],
   "source": [
    "eg_int = sp.interpolate.interp1d(Tint, np.log(e_g), kind=\"cubic\", axis=0)\n",
    "Tint_p = np.random.normal(1,0.2,size=nb_bins)*5000\n",
    "egp = np.exp(eg_int(Tint_p))\n",
    "egp"
   ]
  },
  {
   "cell_type": "code",
   "execution_count": null,
   "id": "525d7a5d",
   "metadata": {},
   "outputs": [],
   "source": [
    "egp = np.exp(sp.interpolate.interp1d(Tint, np.log(e_g), kind=\"cubic\", axis=0)(Tint))\n",
    "err = 100*np.abs(egp - e_g) / np.abs(e_g)\n",
    "err.max()"
   ]
  },
  {
   "cell_type": "code",
   "execution_count": null,
   "id": "e3d69707",
   "metadata": {},
   "outputs": [],
   "source": [
    "k_edp = np.sign(k_ed) * np.exp(sp.interpolate.interp1d(Tint, np.log(np.abs(k_ed)), kind=\"cubic\", axis=0)(Tint))\n",
    "err = 100*np.abs(k_edp - k_ed) / np.abs(k_ed)\n",
    "err.max()"
   ]
  },
  {
   "cell_type": "code",
   "execution_count": null,
   "id": "289897ac",
   "metadata": {},
   "outputs": [],
   "source": []
  },
  {
   "cell_type": "code",
   "execution_count": null,
   "id": "18561578",
   "metadata": {},
   "outputs": [],
   "source": [
    "\n",
    "\n",
    "  # Isothermal master equation model\n",
    "  # -----------------------------------\n",
    "  path_to_dtb = inputs[\"paths\"][\"dtb\"]\n",
    "  system = utils.get_class(\n",
    "    modules=[sys_mod],\n",
    "    name=inputs[\"system\"][\"name\"]\n",
    "  )(\n",
    "    rates=path_to_dtb + \"/kinetics.hdf5\",\n",
    "    species={\n",
    "      k: path_to_dtb + f\"/species/{k}.json\" for k in (\"atom\", \"molecule\")\n",
    "    },\n",
    "    **inputs[\"system\"][\"kwargs\"]\n",
    "  )\n",
    "\n",
    "  # Testing\n",
    "  # -----------------------------------\n",
    "  # Initialization\n",
    "  # ---------------\n",
    "  # Path to saving\n",
    "  path_to_saving = inputs[\"paths\"][\"saving\"] + \"/error/\" + inputs[\"eval_err_on\"]\n",
    "  os.makedirs(path_to_saving, exist_ok=True)\n",
    "  # Time grid\n",
    "  t = utils.load_case(path=inputs[\"data\"][\"path\"], index=0, key=\"t\")\n",
    "\n",
    "  # ROM models\n",
    "  bt_bases = h5todict(inputs[\"paths\"][\"bases\"])\n",
    "  bt_bases = [bt_bases[k] for k in (\"phi\", \"psi\")]\n",
    "  cg_model = CoarseGraining(\n",
    "    T=system.T,\n",
    "    molecule=path_to_dtb+\"/species/molecule.json\"\n",
    "  )"
   ]
  },
  {
   "cell_type": "markdown",
   "id": "25a407b1",
   "metadata": {},
   "source": [
    "> Molecule's levels"
   ]
  },
  {
   "cell_type": "code",
   "execution_count": null,
   "id": "8789aae1",
   "metadata": {},
   "outputs": [],
   "source": [
    "gi = model.species[\"molecule\"].lev[\"g\"]\n",
    "ei = model.species[\"molecule\"].lev['e'] / const.eV_to_J"
   ]
  },
  {
   "cell_type": "markdown",
   "id": "b2ae8c12",
   "metadata": {},
   "source": [
    "Balanced POD"
   ]
  },
  {
   "cell_type": "code",
   "execution_count": null,
   "id": "9e00f719",
   "metadata": {},
   "outputs": [],
   "source": [
    "path = paths[\"data\"]+\"/figs/bases/\"\n",
    "os.makedirs(path, exist_ok=True)"
   ]
  },
  {
   "cell_type": "code",
   "execution_count": null,
   "id": "11be0f63",
   "metadata": {},
   "outputs": [],
   "source": [
    "bases = h5todict(paths[\"data\"]+\"/bases.hdf5\")\n",
    "s, phi, psi = [bases[k] for k in (\"s\", \"phi\", \"psi\")]"
   ]
  },
  {
   "cell_type": "code",
   "execution_count": null,
   "id": "c6becc3c",
   "metadata": {},
   "outputs": [],
   "source": [
    "# Cumulative energy\n",
    "cs = 1.0 / np.sum(s**2)\n",
    "cs *= np.cumsum(s**2)\n",
    "# Number of principal components\n",
    "eps = 1e-6\n",
    "rom_dim = np.where(cs > 1-eps)[0][0]+1\n",
    "rom_dim"
   ]
  },
  {
   "cell_type": "code",
   "execution_count": null,
   "id": "5f4b3319",
   "metadata": {},
   "outputs": [],
   "source": [
    "pltt.cum_energy(\n",
    "  cs[:rom_dims[-1]],\n",
    "  figname=path + \"/cum_en\",\n",
    "  save=True,\n",
    "  show=False\n",
    ")"
   ]
  },
  {
   "cell_type": "code",
   "execution_count": null,
   "id": "bccdbe34",
   "metadata": {},
   "outputs": [],
   "source": [
    "for i in range(rom_dims[-1]):\n",
    "  nb = str(i+1)\n",
    "  for (name, basis) in ((\"phi\", phi), (\"psi\", psi)):\n",
    "    pltt.dist_2d(\n",
    "      x=ei,\n",
    "      y=basis[:,i],\n",
    "      labels=[r\"$\\epsilon_i$ [eV]\", r\"$\\%s_{%s}$\" % (name, nb)],\n",
    "      scales=[\"linear\", \"linear\"],\n",
    "      markersize=1,\n",
    "      figname=path + f\"/{name}_{nb.zfill(2)}\",\n",
    "      save=True,\n",
    "      show=False\n",
    "    )"
   ]
  },
  {
   "cell_type": "markdown",
   "id": "0fa33b96",
   "metadata": {},
   "source": [
    "FOM and ROM solutions"
   ]
  },
  {
   "cell_type": "code",
   "execution_count": null,
   "id": "c2132434",
   "metadata": {},
   "outputs": [],
   "source": [
    "t = get_tgrid(tgrid[\"lim\"], tgrid[\"num\"])\n",
    "for (name, (T, p, Xa)) in ic.items():\n",
    "  y0 = get_y0(model, T, p, Xa)\n",
    "  # Solving\n",
    "  print(f\"> Solving FOM for '{name}' test case ...\")\n",
    "  yfom = solve_fom(model, t, y0)\n",
    "  for r in rom_dims:\n",
    "    print(f\"  > Solving ROM for '{name}' test case with {r} dimensions ...\")\n",
    "    yrom = solve_rom(model, t, y0, phi, psi, r, abs=False)\n",
    "    # Postprocessing\n",
    "    print(f\"  > Postprocessing FOM and ROM solutions ...\")\n",
    "    path = paths[\"data\"] + f\"/figs/sol/{name}_r{r}/\"\n",
    "    os.makedirs(path, exist_ok=True)\n",
    "    # > Moments\n",
    "    plot_moments(path, t, yfom[1], yrom[1], ei.reshape(-1,1), max_mom=2)\n",
    "    # > Distribution static\n",
    "    plot_dist(path, teval[name], t, yfom[1], yrom[1], ei, gi, markersize=1)\n",
    "    # > Distribution dynamic\n",
    "    animate_dist(path, t, yfom[1], yrom[1], ei, gi, markersize=1)"
   ]
  }
 ],
 "metadata": {
  "kernelspec": {
   "display_name": "sciml",
   "language": "python",
   "name": "python3"
  },
  "language_info": {
   "codemirror_mode": {
    "name": "ipython",
    "version": 3
   },
   "file_extension": ".py",
   "mimetype": "text/x-python",
   "name": "python",
   "nbconvert_exporter": "python",
   "pygments_lexer": "ipython3",
   "version": "3.8.15"
  }
 },
 "nbformat": 4,
 "nbformat_minor": 5
}
