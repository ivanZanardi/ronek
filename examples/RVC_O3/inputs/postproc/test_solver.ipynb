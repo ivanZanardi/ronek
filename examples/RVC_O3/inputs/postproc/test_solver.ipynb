{
 "cells": [
  {
   "cell_type": "markdown",
   "id": "11e7d091",
   "metadata": {},
   "source": [
    "## Test solver\n",
    "\n",
    "Environment"
   ]
  },
  {
   "cell_type": "code",
   "execution_count": 1,
   "id": "2c8ff0da",
   "metadata": {},
   "outputs": [],
   "source": [
    "import sys\n",
    "sys.path.append(\"./../../../../\")\n",
    "\n",
    "from ronek import env\n",
    "env.set(\n",
    "  device=\"cpu\",\n",
    "  device_idx=0,\n",
    "  nb_threads=8,\n",
    "  floatx=\"float64\"\n",
    ")"
   ]
  },
  {
   "cell_type": "markdown",
   "id": "celtic-chain",
   "metadata": {},
   "source": [
    "Import libraries"
   ]
  },
  {
   "cell_type": "code",
   "execution_count": 2,
   "id": "8dba1102",
   "metadata": {},
   "outputs": [],
   "source": [
    "import os\n",
    "import numpy as np\n",
    "\n",
    "from ronek import postproc as pp\n",
    "from ronek.systems import TASystem"
   ]
  },
  {
   "cell_type": "code",
   "execution_count": 3,
   "id": "c937bec4",
   "metadata": {},
   "outputs": [],
   "source": [
    "import matplotlib as mpl\n",
    "# Use custom style\n",
    "# See: https://matplotlib.org/1.5.3/users/style_sheets.html\n",
    "stylefile = \"/home/zanardi/Workspace/Research/styles/matplotlib/paper_1column.mplstyle\"\n",
    "mpl.style.use(stylefile)"
   ]
  },
  {
   "cell_type": "markdown",
   "id": "alternate-creature",
   "metadata": {},
   "source": [
    "Define inputs"
   ]
  },
  {
   "cell_type": "code",
   "execution_count": 4,
   "id": "d82caec9",
   "metadata": {},
   "outputs": [],
   "source": [
    "# System temperature for isothermal bath simulation [K]\n",
    "T = 1e4\n",
    "# Parameterized initial conditions:\n",
    "mu = [\n",
    "  3e2,   # Initial equilibrium temperature [K]\n",
    "  5e-2,  # Initial molar concentration of atoms\n",
    "  1e3    # Initial pressure [Pa]\n",
    "]\n",
    "# Time limits for the simulation [s]\n",
    "tlim = [1e-9, 1e-4]\n",
    "# Paths for database and solution storage\n",
    "path_to_dtb = \"./../../database/\"\n",
    "path_to_saving = \"./solution/\""
   ]
  },
  {
   "cell_type": "code",
   "execution_count": 5,
   "id": "fec84777",
   "metadata": {},
   "outputs": [],
   "source": [
    "os.makedirs(path_to_saving, exist_ok=True)"
   ]
  },
  {
   "cell_type": "markdown",
   "id": "e35e7c5c",
   "metadata": {},
   "source": [
    "Initialize master equation model"
   ]
  },
  {
   "cell_type": "code",
   "execution_count": 6,
   "id": "f06bacee",
   "metadata": {},
   "outputs": [],
   "source": [
    "system_qct = TASystem(\n",
    "  species={\n",
    "    k: path_to_dtb + f\"/species/{k}.json\" for k in (\"atom\", \"molecule\")\n",
    "  },\n",
    "  rates_coeff=path_to_dtb + \"/kinetics_qct.hdf5\",\n",
    "  use_einsum=False,\n",
    "  use_factorial=True,\n",
    "  use_arrhenius=False\n",
    ")\n",
    "system_qct.update_fom_ops(T)"
   ]
  },
  {
   "cell_type": "code",
   "execution_count": 7,
   "id": "5fd28599",
   "metadata": {},
   "outputs": [],
   "source": [
    "# system_mdl = TASystem(\n",
    "#   species={\n",
    "#     k: path_to_dtb + f\"/species/{k}.json\" for k in (\"atom\", \"molecule\")\n",
    "#   },\n",
    "#   rates_coeff=..., # Path to the mean predicted rates\n",
    "#   use_einsum=False,\n",
    "#   use_factorial=True,\n",
    "#   use_arrhenius=False\n",
    "# )\n",
    "# system_mdl.update_fom_ops(T)"
   ]
  },
  {
   "cell_type": "markdown",
   "id": "e52e09a0",
   "metadata": {},
   "source": [
    "Solve isothermal heat bath simulation"
   ]
  },
  {
   "cell_type": "code",
   "execution_count": 8,
   "id": "ae53c913",
   "metadata": {},
   "outputs": [],
   "source": [
    "t = system_qct.get_tgrid(*np.sort(tlim), 500)\n",
    "n0 = system_qct.mix.get_init_sol(*mu, mu_type=\"mole\")"
   ]
  },
  {
   "cell_type": "markdown",
   "id": "43ff48b3",
   "metadata": {},
   "source": [
    "> QCT"
   ]
  },
  {
   "cell_type": "code",
   "execution_count": 9,
   "id": "ae2b1526",
   "metadata": {},
   "outputs": [],
   "source": [
    "ni_qct = system_qct.solve_fom(t, n0)[1]"
   ]
  },
  {
   "cell_type": "markdown",
   "id": "e486d703",
   "metadata": {},
   "source": [
    "> Model"
   ]
  },
  {
   "cell_type": "code",
   "execution_count": 10,
   "id": "74435955",
   "metadata": {},
   "outputs": [],
   "source": [
    "# ni_mdl = system_mdl.solve_fom(t, n0)[1]\n",
    "ni_mdl = ni_qct"
   ]
  },
  {
   "cell_type": "markdown",
   "id": "3a2a5bb0",
   "metadata": {},
   "source": [
    "Postprocessing\n",
    "> Moments of the distribution"
   ]
  },
  {
   "cell_type": "code",
   "execution_count": 11,
   "id": "d6f6b566",
   "metadata": {},
   "outputs": [],
   "source": [
    "pp.plot_mom_evolution(\n",
    "  path=path_to_saving,\n",
    "  t=t,\n",
    "  n_m={\"QCT\": ni_qct, \"Model\": ni_mdl},\n",
    "  molecule=system_qct.mix.species[\"molecule\"],\n",
    "  max_mom=2,\n",
    "  molecule_label=\"\\\\text{O$_2$}\",\n",
    "  ylim_err=None,\n",
    "  err_scale=\"log\",\n",
    "  hline=1.0,\n",
    "  tlim=tlim\n",
    ")"
   ]
  }
 ],
 "metadata": {
  "kernelspec": {
   "display_name": "sciml",
   "language": "python",
   "name": "python3"
  },
  "language_info": {
   "codemirror_mode": {
    "name": "ipython",
    "version": 3
   },
   "file_extension": ".py",
   "mimetype": "text/x-python",
   "name": "python",
   "nbconvert_exporter": "python",
   "pygments_lexer": "ipython3",
   "version": "3.8.15"
  }
 },
 "nbformat": 4,
 "nbformat_minor": 5
}
