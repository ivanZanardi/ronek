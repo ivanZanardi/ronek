{
 "cells": [
  {
   "cell_type": "markdown",
   "id": "11e7d091",
   "metadata": {},
   "source": [
    "## Accuracy Linear FOM\n",
    "\n",
    "Environment"
   ]
  },
  {
   "cell_type": "code",
   "execution_count": 1,
   "id": "2c8ff0da",
   "metadata": {},
   "outputs": [],
   "source": [
    "import sys\n",
    "sys.path.append(\"/home/zanardi/Codes/ML/RONEK/ronek/\")\n",
    "\n",
    "from ronek import env\n",
    "env.set(\n",
    "  device=\"cpu\",\n",
    "  device_idx=0,\n",
    "  nb_threads=8,\n",
    "  floatx=\"float64\"\n",
    ")"
   ]
  },
  {
   "cell_type": "markdown",
   "id": "celtic-chain",
   "metadata": {},
   "source": [
    "Import libraries"
   ]
  },
  {
   "cell_type": "code",
   "execution_count": 2,
   "id": "8dba1102",
   "metadata": {},
   "outputs": [],
   "source": [
    "import numpy as np\n",
    "import scipy as sp\n",
    "import joblib as jl\n",
    "\n",
    "from tqdm import tqdm\n",
    "from ronek import utils\n",
    "from ronek import postproc as pp\n",
    "from ronek.systems import TASystem"
   ]
  },
  {
   "cell_type": "code",
   "execution_count": 3,
   "id": "c937bec4",
   "metadata": {},
   "outputs": [],
   "source": [
    "import matplotlib as mpl\n",
    "# Use custom style\n",
    "# See: https://matplotlib.org/1.5.3/users/style_sheets.html\n",
    "path_to_styles = \"/home/zanardi/Workspace/Research/styles/matplotlib/\"\n",
    "style_name = \"paper_1column\"\n",
    "mpl.style.use(f\"{path_to_styles}/{style_name}.mplstyle\")"
   ]
  },
  {
   "cell_type": "markdown",
   "id": "alternate-creature",
   "metadata": {},
   "source": [
    "Define inputs"
   ]
  },
  {
   "cell_type": "code",
   "execution_count": 4,
   "id": "d82caec9",
   "metadata": {},
   "outputs": [],
   "source": [
    "T = 1e4\n",
    "path_to_dtb = \"/home/zanardi/Codes/ML/RONEK/ronek/examples/RVC_O3/database/\"\n",
    "path_to_data = \"/home/zanardi/Codes/ML/RONEK/run/RVC_O3/test/data/\"\n",
    "nb_samples = 1000\n",
    "nb_workers = 10"
   ]
  },
  {
   "cell_type": "markdown",
   "id": "e35e7c5c",
   "metadata": {},
   "source": [
    "Initialize isothermal master equation model"
   ]
  },
  {
   "cell_type": "code",
   "execution_count": 5,
   "id": "f06bacee",
   "metadata": {},
   "outputs": [],
   "source": [
    "system = TASystem(\n",
    "  T=T,\n",
    "  rates=path_to_dtb + \"/kinetics.hdf5\",\n",
    "  species={\n",
    "    k: path_to_dtb + f\"/species/{k}.json\" for k in (\"atom\", \"molecule\")\n",
    "  },\n",
    "  use_einsum=False,\n",
    "  use_factorial=True\n",
    ")"
   ]
  },
  {
   "cell_type": "markdown",
   "id": "7b6038bc",
   "metadata": {},
   "source": [
    "Solve linear FOM"
   ]
  },
  {
   "cell_type": "code",
   "execution_count": 6,
   "id": "a288c79f",
   "metadata": {},
   "outputs": [],
   "source": [
    "def compute_linfom_err(path, index):\n",
    "  # Load data\n",
    "  data = utils.load_case(path=path, index=index)\n",
    "  n0, t, n = [data[k] for k in (\"n0\", \"t\", \"n\")]\n",
    "  rho = data[\"mu\"][-1]\n",
    "  # Solve linear system\n",
    "  nl = system.solve_lin_fom(t, n0)\n",
    "  # Convert to mass fractions\n",
    "  w = system.mix.get_w(np.vstack(n), rho)\n",
    "  wl = system.mix.get_w(np.vstack(nl), rho)\n",
    "  # Compute error\n",
    "  err = utils.l2_relative_error(w, wl, axis=0)\n",
    "  return t, err"
   ]
  },
  {
   "cell_type": "code",
   "execution_count": null,
   "id": "65f7633b",
   "metadata": {},
   "outputs": [],
   "source": [
    "err = jl.Parallel(nb_workers)(\n",
    "  jl.delayed(compute_linfom_err)(\n",
    "    path=path_to_data,\n",
    "    index=i\n",
    "  ) for i in tqdm(\n",
    "    iterable=range(nb_samples),\n",
    "    ncols=80,\n",
    "    file=sys.stdout\n",
    "  )\n",
    ")\n",
    "t, err = list(zip(*err))\n",
    "err = np.vstack(err)"
   ]
  },
  {
   "cell_type": "markdown",
   "id": "620e046a",
   "metadata": {},
   "source": [
    "Plot relative $L^2$ error"
   ]
  },
  {
   "cell_type": "code",
   "execution_count": 9,
   "id": "6bddca54",
   "metadata": {},
   "outputs": [],
   "source": [
    "pp.plot_err_ci_evolution(\n",
    "  x=t[0],\n",
    "  mean=np.mean(err, axis=0),\n",
    "  sem=sp.stats.sem(err, axis=0),\n",
    "  size=len(err),\n",
    "  alpha=0.95,\n",
    "  xlim=None,\n",
    "  ylim=None,\n",
    "  hline=None,\n",
    "  labels=[r\"$t$ [s]\", r\"Relative $L^2$ Error\"],\n",
    "  scales=[\"log\", \"linear\"],\n",
    "  legend_loc=\"best\",\n",
    "  figname=\"./rel_err_lin_fom.pdf\",\n",
    "  save=True,\n",
    "  show=False\n",
    ")"
   ]
  }
 ],
 "metadata": {
  "kernelspec": {
   "display_name": "sciml",
   "language": "python",
   "name": "python3"
  },
  "language_info": {
   "codemirror_mode": {
    "name": "ipython",
    "version": 3
   },
   "file_extension": ".py",
   "mimetype": "text/x-python",
   "name": "python",
   "nbconvert_exporter": "python",
   "pygments_lexer": "ipython3",
   "version": "3.8.15"
  }
 },
 "nbformat": 4,
 "nbformat_minor": 5
}
