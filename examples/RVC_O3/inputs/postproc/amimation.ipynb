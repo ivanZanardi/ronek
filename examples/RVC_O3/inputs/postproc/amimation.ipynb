{
 "cells": [
  {
   "cell_type": "markdown",
   "id": "11e7d091",
   "metadata": {},
   "source": [
    "## Animation\n",
    "\n",
    "Environment"
   ]
  },
  {
   "cell_type": "code",
   "execution_count": 1,
   "id": "2c8ff0da",
   "metadata": {},
   "outputs": [],
   "source": [
    "import sys\n",
    "sys.path.append(\"/home/zanardi/Codes/ML/RONEK/ronek/\")\n",
    "\n",
    "from ronek import env\n",
    "env.set(\n",
    "  device=\"cpu\",\n",
    "  device_idx=0,\n",
    "  nb_threads=8,\n",
    "  floatx=\"float64\"\n",
    ")"
   ]
  },
  {
   "cell_type": "markdown",
   "id": "celtic-chain",
   "metadata": {},
   "source": [
    "Import libraries"
   ]
  },
  {
   "cell_type": "code",
   "execution_count": 2,
   "id": "8dba1102",
   "metadata": {},
   "outputs": [],
   "source": [
    "import os\n",
    "import numpy as np\n",
    "import dill as pickle\n",
    "\n",
    "from ronek.systems import TASystem\n",
    "from ronek.postproc import animate_dist\n",
    "from silx.io.dictdump import h5todict"
   ]
  },
  {
   "cell_type": "code",
   "execution_count": 3,
   "id": "3e6aabf3",
   "metadata": {},
   "outputs": [],
   "source": [
    "import matplotlib.pyplot as plt\n",
    "stylefile = \"/home/zanardi/Workspace/Research/styles/matplotlib/paper_1column.mplstyle\"\n",
    "plt.style.use(stylefile)"
   ]
  },
  {
   "cell_type": "markdown",
   "id": "alternate-creature",
   "metadata": {},
   "source": [
    "Inputs"
   ]
  },
  {
   "cell_type": "code",
   "execution_count": 4,
   "id": "d82caec9",
   "metadata": {},
   "outputs": [],
   "source": [
    "rom_dim = 32\n",
    "tlim = [6e-8, 1e-5]\n",
    "path_to_dtb = \"/home/zanardi/Codes/ML/RONEK/ronek/examples/RVC_O3/database/\"\n",
    "path_to_fom = \"/home/zanardi/Codes/ML/RONEK/run/RVC_O3/test/data/case_cold_T10000.p\"\n",
    "path_to_bases = \"/home/zanardi/Codes/ML/RONEK/run/RVC_O3/test/max_mom_10/cobras_bases.hdf5\"\n",
    "path_to_saving = \"./animations/\""
   ]
  },
  {
   "cell_type": "code",
   "execution_count": 5,
   "id": "5a2f2562",
   "metadata": {},
   "outputs": [],
   "source": [
    "os.makedirs(path_to_saving, exist_ok=True)"
   ]
  },
  {
   "cell_type": "markdown",
   "id": "4c6da0ca",
   "metadata": {},
   "source": [
    "Initialize isothermal master equation model"
   ]
  },
  {
   "cell_type": "code",
   "execution_count": 6,
   "id": "8a540f89",
   "metadata": {},
   "outputs": [],
   "source": [
    "system = TASystem(\n",
    "  species={\n",
    "    k: path_to_dtb + f\"/species/{k}.json\" for k in (\"atom\", \"molecule\")\n",
    "  },\n",
    "  rates_coeff=path_to_dtb + \"/kinetics.hdf5\",\n",
    "  use_einsum=False,\n",
    "  use_factorial=True,\n",
    "  use_arrhenius=True\n",
    ")"
   ]
  },
  {
   "cell_type": "markdown",
   "id": "b88154dc",
   "metadata": {},
   "source": [
    "Load FOM solution and bases"
   ]
  },
  {
   "cell_type": "code",
   "execution_count": 7,
   "id": "5dbf1811",
   "metadata": {},
   "outputs": [],
   "source": [
    "data = pickle.load(open(path_to_fom, \"rb\"))\n",
    "T, t, n0, n_fom = [data[k] for k in (\"T\", \"t\", \"n0\", \"n\")]\n",
    "si, ei = [np.argmin(np.abs(t-ti)) for ti in tlim]"
   ]
  },
  {
   "cell_type": "code",
   "execution_count": 8,
   "id": "55f43eda",
   "metadata": {},
   "outputs": [],
   "source": [
    "bases = h5todict(path_to_bases)"
   ]
  },
  {
   "cell_type": "markdown",
   "id": "5f515d32",
   "metadata": {},
   "source": [
    "ROM solution"
   ]
  },
  {
   "cell_type": "code",
   "execution_count": 9,
   "id": "cd21c98f",
   "metadata": {},
   "outputs": [],
   "source": [
    "system.update_fom_ops(T)\n",
    "system.update_rom_ops(\n",
    "  phi=bases[\"phi\"][:,:rom_dim],\n",
    "  psi=bases[\"psi\"][:,:rom_dim]\n",
    ")"
   ]
  },
  {
   "cell_type": "code",
   "execution_count": 10,
   "id": "f846d1ae",
   "metadata": {},
   "outputs": [],
   "source": [
    "sols = {\n",
    "  \"FOM\": n_fom[1][:,si:ei],\n",
    "  \"ROM\": system.solve_rom(t, n0)[1][:,si:ei]\n",
    "}"
   ]
  },
  {
   "cell_type": "markdown",
   "id": "fdc56ccd",
   "metadata": {},
   "source": [
    "Animate"
   ]
  },
  {
   "cell_type": "code",
   "execution_count": null,
   "id": "aa73ea88",
   "metadata": {},
   "outputs": [],
   "source": [
    "animate_dist(\n",
    "  path=path_to_saving,\n",
    "  t=t[si:ei],\n",
    "  n_m=sols,\n",
    "  molecule=system.mix.species[\"molecule\"],\n",
    "  markersize=1\n",
    ")"
   ]
  }
 ],
 "metadata": {
  "kernelspec": {
   "display_name": "sciml",
   "language": "python",
   "name": "python3"
  },
  "language_info": {
   "codemirror_mode": {
    "name": "ipython",
    "version": 3
   },
   "file_extension": ".py",
   "mimetype": "text/x-python",
   "name": "python",
   "nbconvert_exporter": "python",
   "pygments_lexer": "ipython3",
   "version": "3.8.15"
  }
 },
 "nbformat": 4,
 "nbformat_minor": 5
}
