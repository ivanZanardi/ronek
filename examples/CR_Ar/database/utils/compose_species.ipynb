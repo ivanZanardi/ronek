{
 "cells": [
  {
   "cell_type": "markdown",
   "id": "d3878168",
   "metadata": {},
   "source": [
    "### Collisional-radiative model for Argon Plasma\n",
    "#### Species definition\n",
    "See: https://doi.org/10.1063/1.3585688"
   ]
  },
  {
   "cell_type": "code",
   "execution_count": 1,
   "id": "a1ba1c77",
   "metadata": {},
   "outputs": [],
   "source": [
    "import os\n",
    "import json\n",
    "import numpy as np"
   ]
  },
  {
   "cell_type": "code",
   "execution_count": 2,
   "id": "27f67bc8",
   "metadata": {},
   "outputs": [],
   "source": [
    "# Constants\n",
    "from scipy.constants import physical_constants as pc\n",
    "\n",
    "UE   = pc[\"elementary charge\"][0]\n",
    "UMME = pc[\"electron molar mass\"][0]"
   ]
  },
  {
   "cell_type": "markdown",
   "id": "21111d8a",
   "metadata": {},
   "source": [
    "Inputs"
   ]
  },
  {
   "cell_type": "code",
   "execution_count": 3,
   "id": "d1d709e8-d714-466b-aa2f-bfd235333a83",
   "metadata": {},
   "outputs": [],
   "source": [
    "path_to_dtb = \"/home/zanardi/Codes/ML/RONEK/run/Argon/argon_cr/data\""
   ]
  },
  {
   "cell_type": "markdown",
   "id": "2427b61f",
   "metadata": {},
   "source": [
    "Read levels"
   ]
  },
  {
   "cell_type": "code",
   "execution_count": 4,
   "id": "7fa29e71",
   "metadata": {},
   "outputs": [],
   "source": [
    "# Save path\n",
    "out_path = \"./../species\"\n",
    "os.makedirs(out_path, exist_ok=True)"
   ]
  },
  {
   "cell_type": "markdown",
   "id": "01197916",
   "metadata": {},
   "source": [
    "Species\n",
    "> Electron"
   ]
  },
  {
   "cell_type": "code",
   "execution_count": 5,
   "id": "3a315729",
   "metadata": {},
   "outputs": [],
   "source": [
    "electron = {\n",
    "  \"name\": \"em\",\n",
    "  \"M\": UMME,\n",
    "  \"Z\": -1,      # Charge number\n",
    "  \"Hf\": 0.0,\n",
    "  \"lev\": {\n",
    "    \"g\": [2.0], # Electron spin contribution\n",
    "    \"E\": [0.0]\n",
    "  },\n",
    "  \"nb_comp\": 1\n",
    "}"
   ]
  },
  {
   "cell_type": "code",
   "execution_count": 6,
   "id": "769edad8",
   "metadata": {},
   "outputs": [],
   "source": [
    "with open(out_path+\"/em.json\", \"w\") as file:\n",
    "  json.dump(electron, file, indent=2)"
   ]
  },
  {
   "cell_type": "markdown",
   "id": "5d3e3535",
   "metadata": {},
   "source": [
    "> Argon"
   ]
  },
  {
   "cell_type": "code",
   "execution_count": 7,
   "id": "8eacb16a",
   "metadata": {},
   "outputs": [],
   "source": [
    "# Levels\n",
    "g, E = np.loadtxt(path_to_dtb+\"/Ei_Ar\", skiprows=1).T\n",
    "E *= UE\n",
    "# Angular momentum\n",
    "jc = np.loadtxt(path_to_dtb+\"/jc\")"
   ]
  },
  {
   "cell_type": "code",
   "execution_count": 8,
   "id": "206214d1",
   "metadata": {},
   "outputs": [],
   "source": [
    "argon = {\n",
    "  \"name\": \"Ar\",\n",
    "  \"M\": 39.948e-3,\n",
    "  \"Z\": 0,\n",
    "  \"Hf\": 0.0,\n",
    "  \"lev\": {\n",
    "    \"g\": g.tolist(),\n",
    "    \"E\": E.tolist(),\n",
    "    \"jc\": jc.tolist()\n",
    "  },\n",
    "  \"nb_comp\": len(g)\n",
    "}"
   ]
  },
  {
   "cell_type": "code",
   "execution_count": 9,
   "id": "9a40206a",
   "metadata": {},
   "outputs": [],
   "source": [
    "with open(out_path+\"/Ar.json\", \"w\") as file:\n",
    "  json.dump(argon, file, indent=2)"
   ]
  },
  {
   "cell_type": "markdown",
   "id": "e029a062",
   "metadata": {},
   "source": [
    "> Argon Ion"
   ]
  },
  {
   "cell_type": "code",
   "execution_count": 10,
   "id": "81d6d32d",
   "metadata": {},
   "outputs": [],
   "source": [
    "g, E = np.loadtxt(path_to_dtb+\"/Ei_Arp\", skiprows=1).T\n",
    "E *= UE"
   ]
  },
  {
   "cell_type": "code",
   "execution_count": 11,
   "id": "1a073bf6",
   "metadata": {},
   "outputs": [],
   "source": [
    "argon_ion = {\n",
    "  \"name\": \"Arp\",\n",
    "  \"M\": argon[\"M\"] - UMME,\n",
    "  \"Z\": 1,\n",
    "  \"Hf\": 0.0,\n",
    "  \"lev\": {\n",
    "    \"g\": g.tolist(),\n",
    "    \"E\": E.tolist(),\n",
    "    \"jc\": [1.5, 0.5]\n",
    "  },\n",
    "  \"nb_comp\": 2\n",
    "}"
   ]
  },
  {
   "cell_type": "code",
   "execution_count": 12,
   "id": "645513e0",
   "metadata": {},
   "outputs": [],
   "source": [
    "with open(out_path+\"/Arp.json\", \"w\") as file:\n",
    "  json.dump(argon_ion, file, indent=2)"
   ]
  }
 ],
 "metadata": {
  "kernelspec": {
   "display_name": "sciml",
   "language": "python",
   "name": "python3"
  },
  "language_info": {
   "codemirror_mode": {
    "name": "ipython",
    "version": 3
   },
   "file_extension": ".py",
   "mimetype": "text/x-python",
   "name": "python",
   "nbconvert_exporter": "python",
   "pygments_lexer": "ipython3",
   "version": "3.8.15"
  }
 },
 "nbformat": 4,
 "nbformat_minor": 5
}
