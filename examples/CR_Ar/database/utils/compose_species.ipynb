{
 "cells": [
  {
   "cell_type": "markdown",
   "id": "d3878168",
   "metadata": {},
   "source": [
    "### Collisional-radiative model for Argon Plasma\n",
    "#### Species definition\n",
    "See: https://doi.org/10.1063/1.3585688"
   ]
  },
  {
   "cell_type": "code",
   "execution_count": 1,
   "id": "a1ba1c77",
   "metadata": {},
   "outputs": [],
   "source": [
    "import os\n",
    "import json\n",
    "import numpy as np"
   ]
  },
  {
   "cell_type": "code",
   "execution_count": 2,
   "id": "f3bb5b5d",
   "metadata": {},
   "outputs": [],
   "source": [
    "from scipy import constants\n",
    "\n",
    "UNA = constants.Avogadro\n",
    "eV_to_J = constants.eV"
   ]
  },
  {
   "cell_type": "markdown",
   "id": "21111d8a",
   "metadata": {},
   "source": [
    "Inputs"
   ]
  },
  {
   "cell_type": "code",
   "execution_count": 3,
   "id": "d1d709e8-d714-466b-aa2f-bfd235333a83",
   "metadata": {},
   "outputs": [],
   "source": [
    "path_to_dtb = \"/home/zanardi/Codes/ML/RONEK/run/Argon/argon_cr/data\"\n",
    "# Molar masses [kg mol]\n",
    "mm_e = 5.4858e-7\n",
    "mm_Ar = 39.948e-3\n",
    "mm_Arp = mm_Ar - mm_e"
   ]
  },
  {
   "cell_type": "markdown",
   "id": "2427b61f",
   "metadata": {},
   "source": [
    "Read levels"
   ]
  },
  {
   "cell_type": "code",
   "execution_count": 4,
   "id": "7fa29e71",
   "metadata": {},
   "outputs": [],
   "source": [
    "# Save path\n",
    "out_path = \"./../species\"\n",
    "os.makedirs(out_path, exist_ok=True)"
   ]
  },
  {
   "cell_type": "markdown",
   "id": "01197916",
   "metadata": {},
   "source": [
    "Species\n",
    "> Electron"
   ]
  },
  {
   "cell_type": "code",
   "execution_count": 5,
   "id": "3a315729",
   "metadata": {},
   "outputs": [],
   "source": [
    "electron = {\n",
    "  \"name\": \"e-\",\n",
    "  \"m\": mm_e / UNA,\n",
    "  \"charge\": -1,\n",
    "  \"e_f\": 0.0,\n",
    "  \"lev\": {\n",
    "    \"g\": [2.0], # Include spin of electron\n",
    "    \"e\": [0.0]\n",
    "  },\n",
    "  \"nb_lev\": 1\n",
    "}"
   ]
  },
  {
   "cell_type": "code",
   "execution_count": 6,
   "id": "769edad8",
   "metadata": {},
   "outputs": [],
   "source": [
    "with open(out_path+\"/em.json\", \"w\") as file:\n",
    "  json.dump(electron, file, indent=2)"
   ]
  },
  {
   "cell_type": "markdown",
   "id": "5d3e3535",
   "metadata": {},
   "source": [
    "> Argon"
   ]
  },
  {
   "cell_type": "code",
   "execution_count": 7,
   "id": "8eacb16a",
   "metadata": {},
   "outputs": [],
   "source": [
    "# Levels\n",
    "g, e = np.loadtxt(path_to_dtb+\"/Ei_Ar\", skiprows=1).T\n",
    "e *= eV_to_J\n",
    "# Angular momentum\n",
    "jc = np.loadtxt(path_to_dtb+\"/jc\")"
   ]
  },
  {
   "cell_type": "code",
   "execution_count": 8,
   "id": "206214d1",
   "metadata": {},
   "outputs": [],
   "source": [
    "argon = {\n",
    "  \"name\": \"Ar\",\n",
    "  \"m\": mm_Ar / UNA,\n",
    "  \"charge\": 0,\n",
    "  \"e_f\": 0.0,\n",
    "  \"lev\": {\n",
    "    \"g\": g.tolist(),\n",
    "    \"e\": e.tolist(),\n",
    "    \"jc\": jc.tolist()\n",
    "  },\n",
    "  \"nb_lev\": len(g)\n",
    "}"
   ]
  },
  {
   "cell_type": "code",
   "execution_count": 9,
   "id": "9a40206a",
   "metadata": {},
   "outputs": [],
   "source": [
    "with open(out_path+\"/Ar.json\", \"w\") as file:\n",
    "  json.dump(argon, file, indent=2)"
   ]
  },
  {
   "cell_type": "markdown",
   "id": "e029a062",
   "metadata": {},
   "source": [
    "> Argon Ion"
   ]
  },
  {
   "cell_type": "code",
   "execution_count": 10,
   "id": "81d6d32d",
   "metadata": {},
   "outputs": [],
   "source": [
    "g, e = np.loadtxt(path_to_dtb+\"/Ei_Arp\", skiprows=1).T\n",
    "e *= eV_to_J"
   ]
  },
  {
   "cell_type": "code",
   "execution_count": 11,
   "id": "1a073bf6",
   "metadata": {},
   "outputs": [],
   "source": [
    "argon_ion = {\n",
    "  \"name\": \"Ar+\",\n",
    "  \"m\": mm_Arp / UNA,\n",
    "  \"charge\": 1,\n",
    "  \"e_f\": 0.0,\n",
    "  \"lev\": {\n",
    "    \"g\": g.tolist(),\n",
    "    \"e\": e.tolist(),\n",
    "    \"jc\": [1.5, 0.5]\n",
    "  },\n",
    "  \"nb_lev\": 2\n",
    "}"
   ]
  },
  {
   "cell_type": "code",
   "execution_count": 12,
   "id": "645513e0",
   "metadata": {},
   "outputs": [],
   "source": [
    "with open(out_path+\"/Arp.json\", \"w\") as file:\n",
    "  json.dump(argon_ion, file, indent=2)"
   ]
  }
 ],
 "metadata": {
  "kernelspec": {
   "display_name": "sciml",
   "language": "python",
   "name": "python3"
  },
  "language_info": {
   "codemirror_mode": {
    "name": "ipython",
    "version": 3
   },
   "file_extension": ".py",
   "mimetype": "text/x-python",
   "name": "python",
   "nbconvert_exporter": "python",
   "pygments_lexer": "ipython3",
   "version": "3.8.15"
  }
 },
 "nbformat": 4,
 "nbformat_minor": 5
}
