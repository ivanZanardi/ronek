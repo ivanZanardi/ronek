{
 "cells": [
  {
   "cell_type": "markdown",
   "id": "3c2ace68",
   "metadata": {},
   "source": [
    "### Collisional-radiative model for Argon Plasma\n",
    "#### Kinetics loading\n",
    "See: https://doi.org/10.1063/1.3585688"
   ]
  },
  {
   "cell_type": "code",
   "execution_count": 1,
   "id": "a1ba1c77",
   "metadata": {},
   "outputs": [],
   "source": [
    "import os\n",
    "import json\n",
    "import numpy as np\n",
    "import dill as pickle"
   ]
  },
  {
   "cell_type": "markdown",
   "id": "21111d8a",
   "metadata": {},
   "source": [
    "Inputs"
   ]
  },
  {
   "cell_type": "code",
   "execution_count": 2,
   "id": "dab0a1be",
   "metadata": {},
   "outputs": [],
   "source": [
    "path_to_species = \"./../species\"\n",
    "path_to_dtb = \"/home/zanardi/Codes/ML/RONEK/run/Argon/argon_cr/data\"\n",
    "T_min = 250"
   ]
  },
  {
   "cell_type": "code",
   "execution_count": 3,
   "id": "7fa29e71",
   "metadata": {},
   "outputs": [],
   "source": [
    "# Save path\n",
    "out_path = \"./../rates/\"\n",
    "os.makedirs(out_path, exist_ok=True)"
   ]
  },
  {
   "cell_type": "markdown",
   "id": "5ad7b9f1",
   "metadata": {},
   "source": [
    "Read species"
   ]
  },
  {
   "cell_type": "code",
   "execution_count": 4,
   "id": "90e0855a",
   "metadata": {},
   "outputs": [],
   "source": [
    "species = {}\n",
    "for filename in os.listdir(path_to_species):\n",
    "  filename = path_to_species + \"/\" + filename\n",
    "  with open(filename, \"r\") as file:\n",
    "    ispecies = json.load(file)\n",
    "  species[ispecies[\"name\"]] = ispecies"
   ]
  },
  {
   "cell_type": "markdown",
   "id": "d8f11b06",
   "metadata": {},
   "source": [
    "Read temperature grid"
   ]
  },
  {
   "cell_type": "code",
   "execution_count": 5,
   "id": "fa2288cd",
   "metadata": {},
   "outputs": [],
   "source": [
    "T_full = np.loadtxt(path_to_dtb+\"/T\", skiprows=4)\n",
    "indices = np.where(T_full>T_min)[0]\n",
    "T = T_full[indices]"
   ]
  },
  {
   "cell_type": "markdown",
   "id": "b9a59dce",
   "metadata": {},
   "source": [
    "Dimensions"
   ]
  },
  {
   "cell_type": "code",
   "execution_count": 6,
   "id": "4343ee07",
   "metadata": {},
   "outputs": [],
   "source": [
    "nb_pts = len(indices)\n",
    "nb_comp_Ar = species[\"Ar\"][\"nb_comp\"]\n",
    "nb_comp_Arp = species[\"Arp\"][\"nb_comp\"]"
   ]
  },
  {
   "cell_type": "markdown",
   "id": "cba92dfb",
   "metadata": {},
   "source": [
    "**Kinetics**"
   ]
  },
  {
   "cell_type": "code",
   "execution_count": 7,
   "id": "84d471c7",
   "metadata": {},
   "outputs": [],
   "source": [
    "kin = {\"T\": T}"
   ]
  },
  {
   "cell_type": "markdown",
   "id": "acaad4c1",
   "metadata": {},
   "source": [
    "- Excitation by electron impact (`EXe`):\n",
    "$$\\quad \\text{Ar}(i) + \\text{e}^- \\xrightleftharpoons[F_{ji}]{C_{ij}} \\text{Ar}(j) + \\text{e}^-; \\quad j > i$$\n",
    "- Excitation by heavy-particle impact (`EXh`):\n",
    "$$\\quad \\text{Ar}(i) + \\text{Ar}(1) \\xrightleftharpoons[L_{ji}]{K_{ij}} \\text{Ar}(j) + \\text{Ar}(1); \\quad j > i$$"
   ]
  },
  {
   "cell_type": "code",
   "execution_count": 8,
   "id": "5845c7f7",
   "metadata": {},
   "outputs": [],
   "source": [
    "def read_exc(name):\n",
    "  X = np.zeros((nb_comp_Ar,1,nb_comp_Ar,1,nb_pts))\n",
    "  for i in range(nb_comp_Ar):\n",
    "    for j in range(i+1,nb_comp_Ar):\n",
    "      X[i,0,j,0] = np.loadtxt(path_to_dtb+f\"/{name}{i}_{j}\")[indices]\n",
    "  return X"
   ]
  },
  {
   "cell_type": "code",
   "execution_count": 9,
   "id": "688421e5",
   "metadata": {},
   "outputs": [],
   "source": [
    "kin[\"EXe\"] = {\n",
    "  \"values\": read_exc(\"C\"),\n",
    "  \"equation\": \"Ar(*)+em=Ar(*)+em\"\n",
    "}\n",
    "kin[\"EXh\"] = {\n",
    "  \"values\": read_exc(\"K\"),\n",
    "  \"equation\": \"Ar(*)+Ar(0)=Ar(*)+Ar(0)\"\n",
    "}\n",
    "# Correction factor applied to the rate from the ground state (i=0)\n",
    "# See: M. G. Kapper's PhD thesis (2009)\n",
    "kin[\"EXh\"][\"values\"][0,0,:,0] *= 0.085"
   ]
  },
  {
   "cell_type": "markdown",
   "id": "c408ca3b",
   "metadata": {},
   "source": [
    "- Ionization by electron impact (`Ie`)\n",
    "$$\\quad \\text{Ar}(i) + \\text{e}^- \\xrightleftharpoons[O_{ji}]{S_{ij}} \\text{Ar}^+(j) + \\text{e}^- + \\text{e}^-$$\n",
    "- Ionization by heavy-particle impact (`Ih`)\n",
    "$$\\quad \\text{Ar}(i) + \\text{Ar}(1) \\xrightleftharpoons[W_{ji}]{V_{ij}} \\text{Ar}^+(j) + \\text{e}^- + \\text{Ar}(1)$$"
   ]
  },
  {
   "cell_type": "code",
   "execution_count": 10,
   "id": "bbe8d8f5",
   "metadata": {},
   "outputs": [],
   "source": [
    "def read_ion(name):\n",
    "  X = np.zeros((nb_comp_Ar,1,nb_comp_Arp,1,1,nb_pts))\n",
    "  for i in range(nb_comp_Ar):\n",
    "    found = False\n",
    "    jc_i = species[\"Ar\"][\"lev\"][\"jc\"][i]\n",
    "    for j in range(nb_comp_Arp):\n",
    "      jc_j = species[\"Arp\"][\"lev\"][\"jc\"][j]\n",
    "      # Ar+ and Ar_i must have the same value for the core angular momentum\n",
    "      if (jc_i == jc_j):\n",
    "        found = True\n",
    "        X[i,0,j,0,0] = np.loadtxt(path_to_dtb+f\"/{name}{i}\")[indices]\n",
    "        break\n",
    "    if (not found):\n",
    "      raise ValueError(\"Ionization rate not found! Check 'jc' values.\")\n",
    "  return X"
   ]
  },
  {
   "cell_type": "code",
   "execution_count": 11,
   "id": "44f27a2f",
   "metadata": {},
   "outputs": [],
   "source": [
    "kin[\"Ie\"] = {\n",
    "  \"values\": read_ion(\"S\"),\n",
    "  \"equation\": \"Ar(*)+em=Arp(*)+em+em\"\n",
    "}\n",
    "kin[\"Ih\"] = {\n",
    "  \"values\": read_ion(\"V\"),\n",
    "  \"equation\": \"Ar(*)+Ar(0)=Arp(*)+em+Ar(0)\"\n",
    "}"
   ]
  },
  {
   "cell_type": "markdown",
   "id": "159b8de6",
   "metadata": {},
   "source": [
    "- Electron-neutral collision rate (First moment)"
   ]
  },
  {
   "cell_type": "code",
   "execution_count": 12,
   "id": "c6e980e0",
   "metadata": {},
   "outputs": [],
   "source": [
    "kin[\"EN\"] = {\n",
    "  \"values\": np.loadtxt(path_to_dtb+\"/ken\")[indices],\n",
    "  \"equation\": None,\n",
    "  # Curve fit model\n",
    "  # > See: Capitelli et al., https://doi.org/10.1007/978-1-4419-8172-1, Eq. 11.3\n",
    "  \"Q11_fit\": np.array([\n",
    "    +8.8972699e+0,\n",
    "    +1.5224377e+0,\n",
    "    +2.4749525e+0,\n",
    "    -2.0999602e+0,\n",
    "    -1.0000000e+0,\n",
    "    +0.0000000e+0,\n",
    "    +2.2908023e+0,\n",
    "    +1.0598130e+1,\n",
    "    -9.5311431e-1,\n",
    "    +1.4563107e+1\n",
    "  ])\n",
    "}\n",
    "kin[\"EI\"] = {\n",
    "  \"values\": None,\n",
    "  \"equation\": None,\n",
    "  # Curve fit model\n",
    "  # > See: Magin's PhD thesis, ULB, 2004\n",
    "  \"Q11_fit\": np.array([\n",
    "    -1.67070199e-4,\n",
    "    +4.87662165e-3,\n",
    "    -6.34929831e-2,\n",
    "    +5.49816993e-1,\n",
    "    -7.91157696e-1\n",
    "  ])\n",
    "}"
   ]
  },
  {
   "cell_type": "markdown",
   "id": "37b850b8",
   "metadata": {},
   "source": [
    "**Radiation**"
   ]
  },
  {
   "cell_type": "code",
   "execution_count": 13,
   "id": "b6293884",
   "metadata": {},
   "outputs": [],
   "source": [
    "rad = {\"T\": T}"
   ]
  },
  {
   "cell_type": "markdown",
   "id": "4a433e14",
   "metadata": {},
   "source": [
    "Radiation absorption is taken into account via the use of escape $\\Lambda_{ij}$ factors that can take values between 0 (optically thick plasma) and 1 (optically thin plasma). An optically thin plasma is considered here ($\\Lambda_{ij}=1$).\n",
    "- Spontaneous emission (bound-bound): $$\\quad \\text{Ar}(i) + h\\nu_{ij} \\xrightleftharpoons[\\Lambda_{ij}A_{ij}]{(1-\\Lambda_{ij})A_{ij}} \\text{Ar}(j)$$"
   ]
  },
  {
   "cell_type": "code",
   "execution_count": 14,
   "id": "8d19cc86",
   "metadata": {},
   "outputs": [],
   "source": [
    "rad[\"BB\"] =  {\n",
    "  \"values\": np.loadtxt(path_to_dtb+\"/A\"),\n",
    "  \"equation\": \"Ar(*)=Ar(*)\"\n",
    "}"
   ]
  },
  {
   "cell_type": "markdown",
   "id": "ffaa9bec",
   "metadata": {},
   "source": [
    "- Photo-ionization (bound-free and free-bound):\n",
    "$$\\quad \\text{Ar}(i) + h\\nu_{ij} \\xrightleftharpoons[\\Lambda_{ij}R_{ij}]{(1-\\Lambda_{ij})R_{ij}} \\text{Ar}^+(j) + \\text{e}^-$$"
   ]
  },
  {
   "cell_type": "code",
   "execution_count": 15,
   "id": "20386ade",
   "metadata": {},
   "outputs": [],
   "source": [
    "rad[\"PI\"] =  {\n",
    "  \"values\": read_ion(\"R\"),\n",
    "  \"equation\": \"Ar(*)=Arp(*)+em\"\n",
    "}\n",
    "# First moment\n",
    "rad[\"PIp\"] =  {\n",
    "  \"values\": read_ion(\"Rp\"),\n",
    "  \"equation\": \"Ar(*)=Arp(*)+em\"\n",
    "}"
   ]
  },
  {
   "cell_type": "markdown",
   "id": "823872a0",
   "metadata": {},
   "source": [
    "Save raw rates"
   ]
  },
  {
   "cell_type": "code",
   "execution_count": 16,
   "id": "5f3c772f",
   "metadata": {},
   "outputs": [],
   "source": [
    "pickle.dump(kin, open(out_path + \"/kin_raw.p\", \"wb\"))\n",
    "pickle.dump(rad, open(out_path + \"/rad_raw.p\", \"wb\"))"
   ]
  }
 ],
 "metadata": {
  "kernelspec": {
   "display_name": "sciml",
   "language": "python",
   "name": "python3"
  },
  "language_info": {
   "codemirror_mode": {
    "name": "ipython",
    "version": 3
   },
   "file_extension": ".py",
   "mimetype": "text/x-python",
   "name": "python",
   "nbconvert_exporter": "python",
   "pygments_lexer": "ipython3",
   "version": "3.8.15"
  }
 },
 "nbformat": 4,
 "nbformat_minor": 5
}
