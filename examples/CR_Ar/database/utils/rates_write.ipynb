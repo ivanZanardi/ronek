{
 "cells": [
  {
   "cell_type": "markdown",
   "id": "3c2ace68",
   "metadata": {},
   "source": [
    "### Collisional-radiative model for Argon Plasma\n",
    "#### Rates reading\n",
    "See: https://doi.org/10.1063/1.3585688"
   ]
  },
  {
   "cell_type": "code",
   "execution_count": 1,
   "id": "a1ba1c77",
   "metadata": {},
   "outputs": [],
   "source": [
    "import os\n",
    "import sys\n",
    "import json\n",
    "import tqdm\n",
    "import numpy as np\n",
    "import dill as pickle"
   ]
  },
  {
   "cell_type": "code",
   "execution_count": 2,
   "id": "eb236bf1",
   "metadata": {},
   "outputs": [],
   "source": [
    "import tensorflow as tf"
   ]
  },
  {
   "cell_type": "code",
   "execution_count": 3,
   "id": "cead3ae8",
   "metadata": {},
   "outputs": [],
   "source": [
    "sys.path.append(\"/home/zanardi/Codes/ML/RONEK/ronek/\")\n",
    "from ronek.plasmas import chem_eq"
   ]
  },
  {
   "cell_type": "markdown",
   "id": "21111d8a",
   "metadata": {},
   "source": [
    "Inputs"
   ]
  },
  {
   "cell_type": "code",
   "execution_count": 4,
   "id": "dab0a1be",
   "metadata": {},
   "outputs": [],
   "source": [
    "path_to_kin = \"./../rates/kin_fit.p\""
   ]
  },
  {
   "cell_type": "code",
   "execution_count": 5,
   "id": "7fa29e71",
   "metadata": {},
   "outputs": [],
   "source": [
    "# Save path\n",
    "out_path = \"./plato/\"\n",
    "os.makedirs(out_path, exist_ok=True)"
   ]
  },
  {
   "cell_type": "markdown",
   "id": "baf62dbe",
   "metadata": {},
   "source": [
    "Load fit rates"
   ]
  },
  {
   "cell_type": "code",
   "execution_count": 6,
   "id": "560b28d5",
   "metadata": {},
   "outputs": [],
   "source": [
    "kin = pickle.load(open(path_to_kin, \"rb\"))"
   ]
  },
  {
   "cell_type": "markdown",
   "id": "db072b57",
   "metadata": {},
   "source": [
    "Write rates"
   ]
  },
  {
   "cell_type": "code",
   "execution_count": 7,
   "id": "425f79ba",
   "metadata": {},
   "outputs": [],
   "source": [
    "ARR_PARAM = (\"A\", \"beta\", \"Ta\")\n",
    "\n",
    "def write_rates(reaction):\n",
    "  lines = \"\"\n",
    "  for indices in tqdm.tqdm(\n",
    "    iterable=get_indices(reaction),\n",
    "    desc=\"> Process '{}'\".format(reaction[\"plato_id\"]),\n",
    "    ncols=80\n",
    "  ):\n",
    "    lines += write_rates_line(reaction, indices)\n",
    "  return lines\n",
    "\n",
    "def get_indices(reaction):\n",
    "  indices = np.where(reaction[\"values\"][\"A\"] > 0.0)\n",
    "  indices = np.stack(indices,-1).tolist()\n",
    "  return indices\n",
    "\n",
    "def write_rates_line(reaction, indices):\n",
    "  line = \"\"\n",
    "  shape = reaction[\"values\"][\"A\"].shape\n",
    "  # Write species\n",
    "  s = 0\n",
    "  for side in (\"reactants\", \"products\"):\n",
    "    if (side == \"products\"):\n",
    "      line = line[:-1] + \"=\"\n",
    "    for specie in reaction[\"param\"][side]:\n",
    "      isp = \"\"\n",
    "      stoyk_coeff, name, level = specie\n",
    "      for _ in range(stoyk_coeff):\n",
    "        isp += name\n",
    "        if (shape[s] > 1):\n",
    "          isp += f\"({indices[s]+1})\"\n",
    "        else:\n",
    "          if (name != \"em\"):\n",
    "            isp += f\"({level+1})\"\n",
    "        isp += \"+\"\n",
    "      s += 1\n",
    "      line += isp[:-1] + \"+\"\n",
    "  line = line[:-1]\n",
    "  # Write rate parameters\n",
    "  line += \":\" + write_rate_coeff(reaction, indices)\n",
    "  # Write process\n",
    "  line += \",%d\" % reaction[\"plato_id\"]\n",
    "  # Return line\n",
    "  return line + \"\\n\"\n",
    "\n",
    "def write_rate_coeff(reaction, indices):\n",
    "  string = \"\"\n",
    "  for p in ARR_PARAM:\n",
    "    value = reaction[\"values\"][p][tuple(indices)]\n",
    "    value = 0 if (value < 1e-99) else value\n",
    "    string += \"%.8E,\" % value\n",
    "  return string[:-1]"
   ]
  },
  {
   "cell_type": "code",
   "execution_count": null,
   "id": "8ee08001",
   "metadata": {},
   "outputs": [],
   "source": [
    "text = \"Units=m^3/s\\n\"\n",
    "for k in (\"EXe\", \"EXh\", \"Ie\", \"Ih\"):\n",
    "  kin[k][\"param\"] = chem_eq.get_param(kin[k][\"equation\"])\n",
    "  text += write_rates(kin[k])\n",
    "with open(out_path + \"/argon_kapper\", 'w') as f:\n",
    "  f.write(text)"
   ]
  },
  {
   "cell_type": "code",
   "execution_count": 13,
   "id": "532473a4",
   "metadata": {},
   "outputs": [],
   "source": [
    "Q11_fit = kin[\"EN\"][\"Q11_fit\"].reshape(1,-1)\n",
    "np.savetxt(out_path + \"/Q11_em_Ar\", Q11_fit, fmt=\"%.10e\")"
   ]
  }
 ],
 "metadata": {
  "kernelspec": {
   "display_name": "sciml",
   "language": "python",
   "name": "python3"
  },
  "language_info": {
   "codemirror_mode": {
    "name": "ipython",
    "version": 3
   },
   "file_extension": ".py",
   "mimetype": "text/x-python",
   "name": "python",
   "nbconvert_exporter": "python",
   "pygments_lexer": "ipython3",
   "version": "3.8.15"
  }
 },
 "nbformat": 4,
 "nbformat_minor": 5
}
