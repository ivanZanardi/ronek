{
 "cells": [
  {
   "cell_type": "markdown",
   "id": "3a8068d6",
   "metadata": {},
   "source": [
    "### Collisional-radiative model for Argon Plasma\n",
    "#### Kinetics fitting\n",
    "See: https://doi.org/10.1063/1.3585688"
   ]
  },
  {
   "cell_type": "code",
   "execution_count": 1,
   "id": "a1ba1c77",
   "metadata": {},
   "outputs": [],
   "source": [
    "import os\n",
    "import copy\n",
    "import numpy as np\n",
    "import dill as pickle\n",
    "import matplotlib.pyplot as plt\n",
    "\n",
    "from scipy.optimize import curve_fit"
   ]
  },
  {
   "cell_type": "markdown",
   "id": "21111d8a",
   "metadata": {},
   "source": [
    "Inputs"
   ]
  },
  {
   "cell_type": "code",
   "execution_count": 2,
   "id": "dab0a1be",
   "metadata": {},
   "outputs": [],
   "source": [
    "path_to_kin = \"./../rates/kin_raw.p\"\n",
    "path_to_rad = \"./../rates/rad_raw.p\""
   ]
  },
  {
   "cell_type": "code",
   "execution_count": 3,
   "id": "7fa29e71",
   "metadata": {},
   "outputs": [],
   "source": [
    "# Save path\n",
    "out_path = \"./../rates/\"\n",
    "os.makedirs(out_path, exist_ok=True)"
   ]
  },
  {
   "cell_type": "markdown",
   "id": "35a577e2",
   "metadata": {},
   "source": [
    "Fit functions and parameters"
   ]
  },
  {
   "cell_type": "code",
   "execution_count": 4,
   "id": "ec63af40",
   "metadata": {},
   "outputs": [],
   "source": [
    "ARR_PARAM = (\"A\", \"beta\", \"Ta\")\n",
    "\n",
    "# Arrhenius law - Linear\n",
    "def fun(T, *args):\n",
    "  A, beta, Ta = args\n",
    "  return A * np.exp(beta*np.log(T) - Ta/T)\n",
    "\n",
    "# Arrhenius law - Log\n",
    "def fun_ln(T, *args):\n",
    "  logA, beta, Ta = args\n",
    "  return logA + beta*np.log(T) - Ta/T\n",
    "\n",
    "# Arrhenius law Jacobian - Log\n",
    "def jac_ln(T, *args):\n",
    "  return np.vstack([np.ones_like(T), np.log(T), -1/T]).T\n",
    "\n",
    "# Curve fit arguments\n",
    "cfit_args = {\n",
    "  \"f\": fun_ln,\n",
    "  \"p0\": [-20, 0, 1e3],\n",
    "  \"method\": \"trf\",\n",
    "  \"jac\": jac_ln,\n",
    "  \"bounds\": (\n",
    "    [-np.inf, -np.inf,   0], # Lower bounds\n",
    "    [     -5,  np.inf, 1e6]  # Upper bounds\n",
    "  )\n",
    "}\n",
    "\n",
    "# Fitting functions\n",
    "def fit_rate(T, k):\n",
    "  indices = k > 0\n",
    "  T = T[indices]\n",
    "  k = np.log(k[indices])\n",
    "  if (len(T) < 4):\n",
    "    param = np.zeros((3,))\n",
    "  else:\n",
    "    param = curve_fit(\n",
    "      xdata=T,\n",
    "      ydata=k,\n",
    "      **cfit_args\n",
    "    )[0]\n",
    "    param[0] = np.exp(param[0])\n",
    "  return param\n",
    "\n",
    "def fit_rates(T, rates):\n",
    "  shape = rates.shape[:-1]\n",
    "  rates = rates.reshape(-1, len(T))\n",
    "  param = np.stack([fit_rate(T, k) for k in rates], 1)\n",
    "  param = {p: param[i].reshape(shape) for i, p in enumerate(ARR_PARAM)}\n",
    "  return param"
   ]
  },
  {
   "cell_type": "markdown",
   "id": "cb7543be",
   "metadata": {},
   "source": [
    "**Kinetics**"
   ]
  },
  {
   "cell_type": "code",
   "execution_count": 5,
   "id": "f75dae27",
   "metadata": {},
   "outputs": [],
   "source": [
    "kin_raw = pickle.load(open(path_to_kin, \"rb\"))\n",
    "T = kin_raw[\"T\"]"
   ]
  },
  {
   "cell_type": "code",
   "execution_count": 6,
   "id": "13798581",
   "metadata": {},
   "outputs": [],
   "source": [
    "kin_fit = copy.deepcopy(kin_raw)\n",
    "for (name, rates) in kin_raw.items():\n",
    "  if (name not in (\"T\", \"EN\", \"EI\")):\n",
    "    kin_fit[name][\"values\"] = fit_rates(T, rates[\"values\"])"
   ]
  },
  {
   "cell_type": "markdown",
   "id": "a15016c9",
   "metadata": {},
   "source": [
    "**Radiation**"
   ]
  },
  {
   "cell_type": "code",
   "execution_count": 7,
   "id": "4941ea16",
   "metadata": {},
   "outputs": [],
   "source": [
    "rad_raw = pickle.load(open(path_to_rad, \"rb\"))\n",
    "T = rad_raw[\"T\"]"
   ]
  },
  {
   "cell_type": "code",
   "execution_count": 8,
   "id": "af818274",
   "metadata": {},
   "outputs": [],
   "source": [
    "rad_fit = copy.deepcopy(rad_raw)\n",
    "rad_fit[\"PI\"][\"values\"] = fit_rates(T, rad_raw[\"PI\"][\"values\"])"
   ]
  },
  {
   "cell_type": "markdown",
   "id": "49b06411",
   "metadata": {},
   "source": [
    "Compare fit rates"
   ]
  },
  {
   "cell_type": "code",
   "execution_count": 9,
   "id": "7be9d394",
   "metadata": {},
   "outputs": [],
   "source": [
    "FIT_RATES = (\"PI\", \"EXe\", \"EXh\", \"Ie\", \"Ih\")"
   ]
  },
  {
   "cell_type": "code",
   "execution_count": 10,
   "id": "adcd6899",
   "metadata": {},
   "outputs": [],
   "source": [
    "def pick_rate():\n",
    "  name = np.random.choice(FIT_RATES)\n",
    "  dtb = rad_fit if (name == \"PI\") else kin_fit\n",
    "  size = dtb[name][\"values\"][\"A\"].size\n",
    "  rate = 0.0\n",
    "  while rate == 0.0:\n",
    "    i = np.random.choice(size)\n",
    "    rate = dtb[name][\"values\"][\"A\"].reshape(-1)[i]\n",
    "  return name, i\n",
    "\n",
    "def compute_rates(name, i):\n",
    "  dtb_fit = rad_fit if (name == \"PI\") else kin_fit\n",
    "  dtb_raw = rad_raw if (name == \"PI\") else kin_raw\n",
    "  param = [dtb_fit[name][\"values\"][p].reshape(-1)[i] for p in ARR_PARAM]\n",
    "  k_fit = fun(T, *param)\n",
    "  k_raw = dtb_raw[name][\"values\"].reshape(-1, len(T))[i]\n",
    "  return k_fit, k_raw"
   ]
  },
  {
   "cell_type": "code",
   "execution_count": null,
   "id": "f1b6d56b",
   "metadata": {},
   "outputs": [],
   "source": [
    "for i in range(20):\n",
    "  name, i = pick_rate()\n",
    "  k_fit, k_raw = compute_rates(name, i)\n",
    "  plt.plot(T, k_fit, label=\"Fit\")\n",
    "  plt.plot(T, k_raw, label=\"Raw\")\n",
    "  plt.title(f\"{name}, i = {i} - Linear\")\n",
    "  plt.legend()\n",
    "  plt.show()\n",
    "  plt.close()\n",
    "  plt.semilogy(T, k_fit, label=\"Fit\")\n",
    "  plt.semilogy(T, k_raw, label=\"Raw\")\n",
    "  plt.title(f\"{name}, i = {i} - Log\")\n",
    "  plt.legend()\n",
    "  plt.show()\n",
    "  plt.close()"
   ]
  },
  {
   "cell_type": "markdown",
   "id": "f089472e",
   "metadata": {},
   "source": [
    "Save fit rates"
   ]
  },
  {
   "cell_type": "code",
   "execution_count": 12,
   "id": "542fa3d2",
   "metadata": {},
   "outputs": [],
   "source": [
    "pickle.dump(kin_fit, open(out_path + \"/kin_fit.p\", \"wb\"))\n",
    "pickle.dump(rad_fit, open(out_path + \"/rad_fit.p\", \"wb\"))"
   ]
  }
 ],
 "metadata": {
  "kernelspec": {
   "display_name": "sciml",
   "language": "python",
   "name": "python3"
  },
  "language_info": {
   "codemirror_mode": {
    "name": "ipython",
    "version": 3
   },
   "file_extension": ".py",
   "mimetype": "text/x-python",
   "name": "python",
   "nbconvert_exporter": "python",
   "pygments_lexer": "ipython3",
   "version": "3.8.15"
  }
 },
 "nbformat": 4,
 "nbformat_minor": 5
}
