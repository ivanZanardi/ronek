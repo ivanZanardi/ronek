{
 "cells": [
  {
   "cell_type": "markdown",
   "id": "3c2ace68",
   "metadata": {},
   "source": [
    "### Collisional-radiative model for Argon Plasma\n",
    "#### Kinetics loading\n",
    "See: https://doi.org/10.1063/1.3585688"
   ]
  },
  {
   "cell_type": "code",
   "execution_count": 1,
   "id": "a1ba1c77",
   "metadata": {},
   "outputs": [],
   "source": [
    "import os\n",
    "import json\n",
    "import numpy as np\n",
    "\n",
    "from silx.io.dictdump import dicttoh5"
   ]
  },
  {
   "cell_type": "markdown",
   "id": "21111d8a",
   "metadata": {},
   "source": [
    "Inputs"
   ]
  },
  {
   "cell_type": "code",
   "execution_count": 2,
   "id": "dab0a1be",
   "metadata": {},
   "outputs": [],
   "source": [
    "path_to_species = \"./../species\"\n",
    "path_to_dtb = \"/home/zanardi/Codes/ML/RONEK/run/Argon/argon_cr/data\"\n",
    "Tmin = 200"
   ]
  },
  {
   "cell_type": "code",
   "execution_count": 3,
   "id": "7fa29e71",
   "metadata": {},
   "outputs": [],
   "source": [
    "# Save path\n",
    "out_path = \"./../kinetics/\"\n",
    "os.makedirs(out_path, exist_ok=True)"
   ]
  },
  {
   "cell_type": "markdown",
   "id": "5ad7b9f1",
   "metadata": {},
   "source": [
    "Read species"
   ]
  },
  {
   "cell_type": "code",
   "execution_count": 4,
   "id": "90e0855a",
   "metadata": {},
   "outputs": [],
   "source": [
    "species = {}\n",
    "for filename in os.listdir(path_to_species):\n",
    "  filename = path_to_species + \"/\" + filename\n",
    "  with open(filename, \"r\") as file:\n",
    "    ispecies = json.load(file)\n",
    "  species[ispecies[\"name\"]] = ispecies"
   ]
  },
  {
   "cell_type": "markdown",
   "id": "d8f11b06",
   "metadata": {},
   "source": [
    "Read temperature grid"
   ]
  },
  {
   "cell_type": "code",
   "execution_count": 5,
   "id": "fa2288cd",
   "metadata": {},
   "outputs": [],
   "source": [
    "Tall = np.loadtxt(path_to_dtb+\"/T\", skiprows=4)\n",
    "indices = np.where(Tall>Tmin)[0]\n",
    "T = Tall[indices]"
   ]
  },
  {
   "cell_type": "markdown",
   "id": "b9a59dce",
   "metadata": {},
   "source": [
    "Dimensions"
   ]
  },
  {
   "cell_type": "code",
   "execution_count": 6,
   "id": "4343ee07",
   "metadata": {},
   "outputs": [],
   "source": [
    "nb_pts = len(indices)\n",
    "nb_lev_Ar = species[\"Ar\"][\"nb_lev\"]\n",
    "nb_lev_Arp = species[\"Ar+\"][\"nb_lev\"]"
   ]
  },
  {
   "cell_type": "markdown",
   "id": "546b7332",
   "metadata": {},
   "source": [
    "Read rates"
   ]
  },
  {
   "cell_type": "code",
   "execution_count": 7,
   "id": "e7e57dcc",
   "metadata": {},
   "outputs": [],
   "source": [
    "rates = {\"T\": T}"
   ]
  },
  {
   "cell_type": "markdown",
   "id": "acaad4c1",
   "metadata": {},
   "source": [
    "**Excitation**\n",
    "\n",
    "- Electron impact excitation:\n",
    "$$\\quad \\text{Ar}(i) + \\text{e}^- \\xrightleftharpoons[F_{ji}]{C_{ij}} \\text{Ar}(j) + \\text{e}^-; \\quad j > i$$\n",
    "- Heavy-particle impact excitation:\n",
    "$$\\quad \\text{Ar}(i) + \\text{Ar}(1) \\xrightleftharpoons[L_{ji}]{K_{ij}} \\text{Ar}(j) + \\text{Ar}(1); \\quad j > i$$"
   ]
  },
  {
   "cell_type": "code",
   "execution_count": 8,
   "id": "5845c7f7",
   "metadata": {},
   "outputs": [],
   "source": [
    "def read_exc(name):\n",
    "  X = np.zeros((nb_lev_Ar,1,nb_lev_Ar,1,nb_pts))\n",
    "  for i in range(nb_lev_Ar):\n",
    "    for j in range(i+1,nb_lev_Ar):\n",
    "      X[i,0,j,0] = np.loadtxt(path_to_dtb+f\"/{name}{i}_{j}\")[indices]\n",
    "  return X"
   ]
  },
  {
   "cell_type": "code",
   "execution_count": 9,
   "id": "d3cb62c7",
   "metadata": {},
   "outputs": [],
   "source": [
    "for name in (\"C\", \"K\"):\n",
    "  rates[name] = read_exc(name)\n",
    "# Correction factor applied to the rate from the ground state (i=0)\n",
    "# See: M. G. Kapper's PhD thesis (2009)\n",
    "rates[\"K\"][0,0,:,0] *= 0.085"
   ]
  },
  {
   "cell_type": "markdown",
   "id": "c408ca3b",
   "metadata": {},
   "source": [
    "**Ionization**\n",
    "\n",
    "- Electron impact ionization:\n",
    "$$\\quad \\text{Ar}(i) + \\text{e}^- \\xrightleftharpoons[O_{ji}]{S_{ij}} \\text{Ar}^+(j) + \\text{e}^- + \\text{e}^-$$\n",
    "- Heavy-particle impact ionization:\n",
    "$$\\quad \\text{Ar}(i) + \\text{Ar}(1) \\xrightleftharpoons[W_{ji}]{V_{ij}} \\text{Ar}^+(j) + \\text{e}^- + \\text{Ar}(1)$$"
   ]
  },
  {
   "cell_type": "code",
   "execution_count": 10,
   "id": "bbe8d8f5",
   "metadata": {},
   "outputs": [],
   "source": [
    "def read_ion(name):\n",
    "  X = np.zeros((nb_lev_Ar,1,nb_lev_Arp,1,1,nb_pts))\n",
    "  for i in range(nb_lev_Ar):\n",
    "    found = False\n",
    "    jc_i = species[\"Ar\"][\"lev\"][\"jc\"][i]\n",
    "    for j in range(nb_lev_Arp):\n",
    "      jc_j = species[\"Ar+\"][\"lev\"][\"jc\"][j]\n",
    "      # Ar+ and Ar_i must have the same value for the core angular momentum\n",
    "      if (jc_i == jc_j):\n",
    "        found = True\n",
    "        X[i,0,j,0,0] = np.loadtxt(path_to_dtb+f\"/{name}{i}\")[indices]\n",
    "        break\n",
    "    if (not found):\n",
    "      raise ValueError(\"Ionization rate not found! Check 'jc' values.\")\n",
    "  return X"
   ]
  },
  {
   "cell_type": "code",
   "execution_count": 11,
   "id": "44f27a2f",
   "metadata": {},
   "outputs": [],
   "source": [
    "for name in (\"S\", \"V\"):\n",
    "  rates[name] = read_ion(name)"
   ]
  },
  {
   "cell_type": "markdown",
   "id": "4a433e14",
   "metadata": {},
   "source": [
    "**Radiation**\n",
    "\n",
    "Radiation absorption is taken into account via the use of escape $\\Lambda_{ij}$ factors that can take values between 0 (optically thick plasma) and 1 (optically thin plasma). An optically thin plasma is considered here ($\\Lambda_{ij}=1$).\n",
    "- Spontaneous emission (bound-bound): $$\\quad \\text{Ar}(i) + h\\nu_{ij} \\xrightleftharpoons[\\Lambda_{ij}A_{ij}]{(1-\\Lambda_{ij})A_{ij}} \\text{Ar}(j)$$"
   ]
  },
  {
   "cell_type": "code",
   "execution_count": 12,
   "id": "8d19cc86",
   "metadata": {},
   "outputs": [],
   "source": [
    "rates[\"A\"] = np.loadtxt(path_to_dtb+\"/A\")"
   ]
  },
  {
   "cell_type": "markdown",
   "id": "ffaa9bec",
   "metadata": {},
   "source": [
    "- Photo-ionization (bound-free and free-bound):\n",
    "$$\\quad \\text{Ar}(i) + h\\nu_{ij} \\xrightleftharpoons[\\Lambda_{ij}R_{ij}]{(1-\\Lambda_{ij})R_{ij}} \\text{Ar}^+(j) + \\text{e}^-$$"
   ]
  },
  {
   "cell_type": "code",
   "execution_count": 13,
   "id": "20386ade",
   "metadata": {},
   "outputs": [],
   "source": [
    "for name in (\"R\", \"Rp\"):\n",
    "  rates[name] = read_ion(name)"
   ]
  },
  {
   "cell_type": "markdown",
   "id": "159b8de6",
   "metadata": {},
   "source": [
    "**First moments**\n",
    "- Electron-neutral collision rate"
   ]
  },
  {
   "cell_type": "code",
   "execution_count": 14,
   "id": "c6e980e0",
   "metadata": {},
   "outputs": [],
   "source": [
    "rates[\"ken\"] = np.loadtxt(path_to_dtb+\"/ken\")[indices]"
   ]
  },
  {
   "cell_type": "markdown",
   "id": "823872a0",
   "metadata": {},
   "source": [
    "Save raw rates"
   ]
  },
  {
   "cell_type": "code",
   "execution_count": 15,
   "id": "5f3c772f",
   "metadata": {},
   "outputs": [],
   "source": [
    "dicttoh5(rates, out_path + \"/rates_raw.hdf5\")"
   ]
  }
 ],
 "metadata": {
  "kernelspec": {
   "display_name": "sciml",
   "language": "python",
   "name": "python3"
  },
  "language_info": {
   "codemirror_mode": {
    "name": "ipython",
    "version": 3
   },
   "file_extension": ".py",
   "mimetype": "text/x-python",
   "name": "python",
   "nbconvert_exporter": "python",
   "pygments_lexer": "ipython3",
   "version": "3.8.15"
  }
 },
 "nbformat": 4,
 "nbformat_minor": 5
}
