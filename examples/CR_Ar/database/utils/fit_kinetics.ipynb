{
 "cells": [
  {
   "cell_type": "markdown",
   "id": "3a8068d6",
   "metadata": {},
   "source": [
    "### Collisional-radiative model for Argon Plasma\n",
    "#### Kinetics fitting\n",
    "See: https://doi.org/10.1063/1.3585688"
   ]
  },
  {
   "cell_type": "code",
   "execution_count": 1,
   "id": "a1ba1c77",
   "metadata": {},
   "outputs": [],
   "source": [
    "import os\n",
    "import copy\n",
    "import numpy as np\n",
    "import matplotlib.pyplot as plt\n",
    "\n",
    "from scipy.optimize import curve_fit\n",
    "from silx.io.dictdump import dicttoh5, h5todict"
   ]
  },
  {
   "cell_type": "markdown",
   "id": "21111d8a",
   "metadata": {},
   "source": [
    "Inputs"
   ]
  },
  {
   "cell_type": "code",
   "execution_count": 2,
   "id": "dab0a1be",
   "metadata": {},
   "outputs": [],
   "source": [
    "path_to_rates = \"./../kinetics/rates_raw.hdf5\""
   ]
  },
  {
   "cell_type": "code",
   "execution_count": 3,
   "id": "7fa29e71",
   "metadata": {},
   "outputs": [],
   "source": [
    "# Save path\n",
    "out_path = \"./../kinetics/\"\n",
    "os.makedirs(out_path, exist_ok=True)"
   ]
  },
  {
   "cell_type": "markdown",
   "id": "35a577e2",
   "metadata": {},
   "source": [
    "Fit functions and parameters"
   ]
  },
  {
   "cell_type": "code",
   "execution_count": 4,
   "id": "ec63af40",
   "metadata": {},
   "outputs": [],
   "source": [
    "ARR_PARAM = (\"A\", \"beta\", \"Ta\")\n",
    "\n",
    "# Arrhenius law - Linear\n",
    "def fun(T, *args):\n",
    "  A, beta, Ta = args\n",
    "  return A * np.exp(beta*np.log(T) - Ta/T)\n",
    "\n",
    "# Arrhenius law - Log\n",
    "def fun_ln(T, *args):\n",
    "  logA, beta, Ta = args\n",
    "  return logA + beta*np.log(T) - Ta/T\n",
    "\n",
    "# Arrhenius law Jacobian - Log\n",
    "def jac_ln(T, *args):\n",
    "  return np.vstack([np.ones_like(T), np.log(T), -1/T]).T\n",
    "\n",
    "# Curve fit arguments\n",
    "cfit_args = {\n",
    "  \"f\": fun_ln,\n",
    "  \"p0\": [-20, 0, 1e3],\n",
    "  \"method\": \"trf\",\n",
    "  \"jac\": jac_ln,\n",
    "  \"bounds\": (\n",
    "    [-np.inf, -np.inf,   0], # Lower bounds\n",
    "    [     -5,  np.inf, 1e6]  # Upper bounds\n",
    "  )\n",
    "}\n",
    "\n",
    "# Fitting function\n",
    "def fit_rate(T, k):\n",
    "  indices = k > 0\n",
    "  T = T[indices]\n",
    "  k = np.log(k[indices])\n",
    "  if (len(T) < 4):\n",
    "    param = np.zeros((3,))\n",
    "  else:\n",
    "    param = curve_fit(\n",
    "      xdata=T,\n",
    "      ydata=k,\n",
    "      **cfit_args\n",
    "    )[0]\n",
    "    param[0] = np.exp(param[0])\n",
    "  return param"
   ]
  },
  {
   "cell_type": "code",
   "execution_count": 5,
   "id": "f75dae27",
   "metadata": {},
   "outputs": [],
   "source": [
    "rates_raw = h5todict(path_to_rates)\n",
    "T = rates_raw[\"T\"]"
   ]
  },
  {
   "cell_type": "code",
   "execution_count": 6,
   "id": "13798581",
   "metadata": {},
   "outputs": [],
   "source": [
    "rates_fit = copy.deepcopy(rates_raw)\n",
    "for (name, rates) in rates_raw.items():\n",
    "  if (name not in (\"T\", \"A\", \"Rp\", \"ken\")):\n",
    "    shape = rates.shape[:-1]\n",
    "    rates = rates.reshape(-1, len(T))\n",
    "    param = np.stack([fit_rate(T, k) for k in rates], 1)\n",
    "    param = {p: param[i].reshape(shape) for i, p in enumerate(ARR_PARAM)}\n",
    "    rates_fit[name] = param"
   ]
  },
  {
   "cell_type": "markdown",
   "id": "49b06411",
   "metadata": {},
   "source": [
    "Compare fit rates"
   ]
  },
  {
   "cell_type": "code",
   "execution_count": 7,
   "id": "7be9d394",
   "metadata": {},
   "outputs": [],
   "source": [
    "FIT_RATES = (\"C\", \"K\", \"R\", \"S\", \"V\")"
   ]
  },
  {
   "cell_type": "code",
   "execution_count": 8,
   "id": "adcd6899",
   "metadata": {},
   "outputs": [],
   "source": [
    "def pick_rate():\n",
    "  name = np.random.choice(FIT_RATES)\n",
    "  size = rates_fit[name][\"A\"].size\n",
    "  rate = 0.0\n",
    "  while rate == 0.0:\n",
    "    i = np.random.choice(size)\n",
    "    rate = rates_fit[name][\"A\"].reshape(-1)[i]\n",
    "  return name, i\n",
    "\n",
    "def compute_rates(name, i):\n",
    "  param = [rates_fit[name][p].reshape(-1)[i] for p in ARR_PARAM]\n",
    "  k_fit = fun(T, *param)\n",
    "  k_raw = rates_raw[name].reshape(-1, len(T))[i]\n",
    "  return k_fit, k_raw"
   ]
  },
  {
   "cell_type": "code",
   "execution_count": null,
   "id": "f1b6d56b",
   "metadata": {},
   "outputs": [],
   "source": [
    "for i in range(20):\n",
    "  name, i = pick_rate()\n",
    "  k_fit, k_raw = compute_rates(name, i)\n",
    "  plt.plot(T, k_fit, label=\"Fit\")\n",
    "  plt.plot(T, k_raw, label=\"Raw\")\n",
    "  plt.title(f\"{name}, i = {i} - Linear\")\n",
    "  plt.legend()\n",
    "  plt.show()\n",
    "  plt.close()\n",
    "  plt.semilogy(T, k_fit, label=\"Fit\")\n",
    "  plt.semilogy(T, k_raw, label=\"Raw\")\n",
    "  plt.title(f\"{name}, i = {i} - Log\")\n",
    "  plt.legend()\n",
    "  plt.show()\n",
    "  plt.close()"
   ]
  },
  {
   "cell_type": "markdown",
   "id": "f089472e",
   "metadata": {},
   "source": [
    "Save fit rates"
   ]
  },
  {
   "cell_type": "code",
   "execution_count": 10,
   "id": "542fa3d2",
   "metadata": {},
   "outputs": [],
   "source": [
    "dicttoh5(rates_fit, out_path + \"/rates_fit.hdf5\")"
   ]
  }
 ],
 "metadata": {
  "kernelspec": {
   "display_name": "sciml",
   "language": "python",
   "name": "python3"
  },
  "language_info": {
   "codemirror_mode": {
    "name": "ipython",
    "version": 3
   },
   "file_extension": ".py",
   "mimetype": "text/x-python",
   "name": "python",
   "nbconvert_exporter": "python",
   "pygments_lexer": "ipython3",
   "version": "3.8.15"
  }
 },
 "nbformat": 4,
 "nbformat_minor": 5
}
