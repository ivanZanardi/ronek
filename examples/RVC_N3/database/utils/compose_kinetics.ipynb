{
 "cells": [
  {
   "cell_type": "code",
   "execution_count": 1,
   "id": "a1ba1c77",
   "metadata": {},
   "outputs": [],
   "source": [
    "import os\n",
    "import numpy as np\n",
    "\n",
    "from silx.io.dictdump import h5todict, dicttoh5"
   ]
  },
  {
   "cell_type": "code",
   "execution_count": 2,
   "id": "6511bd45",
   "metadata": {},
   "outputs": [],
   "source": [
    "cm3_to_m3 = 1e-6\n",
    "ARR_PARAM = (\"A\", \"beta\", \"Ta\")"
   ]
  },
  {
   "cell_type": "markdown",
   "id": "21111d8a",
   "metadata": {},
   "source": [
    "Inputs"
   ]
  },
  {
   "cell_type": "code",
   "execution_count": null,
   "id": "d1d709e8-d714-466b-aa2f-bfd235333a83",
   "metadata": {},
   "outputs": [],
   "source": [
    "T = None\n",
    "use_arrhenius = True\n",
    "nb_lev = 9390\n",
    "kin_file = \"/home/zanardi/Workspace/AirDatabase/HDF5/QCT/Orig/N3_NASA_ORIG.hdf5\"\n",
    "arr_fit = \"Arrhenius_T7500_T30000\""
   ]
  },
  {
   "cell_type": "code",
   "execution_count": 4,
   "id": "7fa29e71",
   "metadata": {},
   "outputs": [],
   "source": [
    "# Save path\n",
    "out_path = \"./../\"\n",
    "os.makedirs(out_path, exist_ok=True)"
   ]
  },
  {
   "cell_type": "markdown",
   "id": "79b7103e",
   "metadata": {},
   "source": [
    "Kinetics database"
   ]
  },
  {
   "cell_type": "code",
   "execution_count": 5,
   "id": "7253279d",
   "metadata": {},
   "outputs": [],
   "source": [
    "kin_dtb = {}\n",
    "kinetics = h5todict(kin_file)"
   ]
  },
  {
   "cell_type": "markdown",
   "id": "7e69b267",
   "metadata": {},
   "source": [
    "> Molecule - Atom collisions"
   ]
  },
  {
   "cell_type": "code",
   "execution_count": 6,
   "id": "ab3b3257",
   "metadata": {},
   "outputs": [],
   "source": [
    "kin_dtb[\"m-a\"] = {}"
   ]
  },
  {
   "cell_type": "code",
   "execution_count": null,
   "id": "a2d1367f",
   "metadata": {},
   "outputs": [],
   "source": [
    "if use_arrhenius:\n",
    "\n",
    "  for (k, rates) in kinetics[arr_fit].items():\n",
    "    if (k == \"Diss\"):\n",
    "      p = \"d\"\n",
    "      shape = (nb_lev,1,1,1,1)\n",
    "    elif (k == \"Inel\"):\n",
    "      p = \"e\"\n",
    "      shape = (nb_lev,1,nb_lev,1)\n",
    "      # Remove endothermic processes\n",
    "      triu_i = np.triu_indices(nb_lev)\n",
    "      for k1 in ARR_PARAM:\n",
    "        rates[k1][triu_i[0],triu_i[1]] = 0.0\n",
    "    else:\n",
    "      continue\n",
    "    # Reshape and rescale\n",
    "    for k1 in ARR_PARAM:\n",
    "      rates[k1] = rates[k1].reshape(shape)\n",
    "    rates[\"A\"] = rates[\"A\"] * cm3_to_m3\n",
    "    # Store\n",
    "    kin_dtb[\"m-a\"][p] = rates\n",
    "\n",
    "else:\n",
    "\n",
    "  for Ti in T:\n",
    "    T_str = str(int(Ti))\n",
    "    ma_dtb = kinetics[f\"T_{T_str}_{T_str}\"][\"Rates\"]\n",
    "    # Loop over processes\n",
    "    for (k, rates) in ma_dtb.items():\n",
    "      if (k == \"Diss\"):\n",
    "        p = \"d\"\n",
    "        shape = (nb_lev,1,1,1,1)\n",
    "      elif (k == \"Inel\"):\n",
    "        p = \"e\"\n",
    "        shape = (nb_lev,1,nb_lev,1)\n",
    "        # Remove endothermic processes\n",
    "        triu_i = np.triu_indices(nb_lev)\n",
    "        rates[triu_i[0],triu_i[1]] = 0.0\n",
    "      else:\n",
    "        continue\n",
    "      # Reshape and rescale\n",
    "      rates = rates.reshape(shape) * cm3_to_m3\n",
    "      # Store\n",
    "      if (p not in kin_dtb[\"m-a\"]):\n",
    "        kin_dtb[\"m-a\"][p] = {}\n",
    "      kin_dtb[\"m-a\"][p][T_str] = rates"
   ]
  },
  {
   "cell_type": "markdown",
   "id": "17170886",
   "metadata": {},
   "source": [
    "> Save database"
   ]
  },
  {
   "cell_type": "code",
   "execution_count": 8,
   "id": "c657093f",
   "metadata": {},
   "outputs": [],
   "source": [
    "dicttoh5(kin_dtb, out_path + \"/kinetics.hdf5\")"
   ]
  }
 ],
 "metadata": {
  "kernelspec": {
   "display_name": "sciml",
   "language": "python",
   "name": "python3"
  },
  "language_info": {
   "codemirror_mode": {
    "name": "ipython",
    "version": 3
   },
   "file_extension": ".py",
   "mimetype": "text/x-python",
   "name": "python",
   "nbconvert_exporter": "python",
   "pygments_lexer": "ipython3",
   "version": "3.8.15"
  }
 },
 "nbformat": 4,
 "nbformat_minor": 5
}
