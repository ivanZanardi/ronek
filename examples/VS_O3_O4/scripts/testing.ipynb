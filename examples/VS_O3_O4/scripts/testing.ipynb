{
 "cells": [
  {
   "cell_type": "markdown",
   "id": "11e7d091",
   "metadata": {},
   "source": [
    "Environment"
   ]
  },
  {
   "cell_type": "code",
   "execution_count": null,
   "id": "2c8ff0da",
   "metadata": {},
   "outputs": [],
   "source": [
    "import os\n",
    "import sys\n",
    "import importlib\n",
    "if (importlib.util.find_spec(\"ronek\") is None):\n",
    "  sys.path.append(\"./../../../\")\n",
    "\n",
    "from ronek import env\n",
    "env.set(\n",
    "  device=\"cpu\",\n",
    "  device_idx=0,\n",
    "  nb_threads=8,\n",
    "  floatx=\"float64\"\n",
    ")"
   ]
  },
  {
   "cell_type": "markdown",
   "id": "celtic-chain",
   "metadata": {},
   "source": [
    "Import libraries"
   ]
  },
  {
   "cell_type": "code",
   "execution_count": null,
   "id": "8dba1102",
   "metadata": {},
   "outputs": [],
   "source": [
    "import torch\n",
    "import numpy as np\n",
    "\n",
    "from utils import *\n",
    "\n",
    "from ronek import const\n",
    "from ronek.systems import TAFASystem\n",
    "from matplotlib import pyplot as plt\n",
    "from silx.io.dictdump import h5todict"
   ]
  },
  {
   "cell_type": "markdown",
   "id": "alternate-creature",
   "metadata": {},
   "source": [
    "Define inputs"
   ]
  },
  {
   "cell_type": "code",
   "execution_count": null,
   "id": "767ad139",
   "metadata": {},
   "outputs": [],
   "source": [
    "# System\n",
    "T = 1e4\n",
    "ic = {\n",
    "  \"cold\": [5e2, 1e3, 5e-2],\n",
    "  \"hot\":  [3e3, 1e3, 5e-2]\n",
    "}\n",
    "tgrid = {\n",
    "  \"lim\": [1e-12, 1e-3],\n",
    "  \"pts\": 500\n",
    "}\n",
    "rom_dims = list(range(8,15,2))\n",
    "# Paths\n",
    "paths = {\n",
    "  \"dtb\": \"./../database/\",\n",
    "  \"data\": \"./data/\"\n",
    "}\n",
    "# Plotting\n",
    "saving = True\n",
    "showing = False"
   ]
  },
  {
   "cell_type": "markdown",
   "id": "4c6da0ca",
   "metadata": {},
   "source": [
    "Initialize isothermal master equation model"
   ]
  },
  {
   "cell_type": "code",
   "execution_count": null,
   "id": "8a540f89",
   "metadata": {},
   "outputs": [],
   "source": [
    "model = TAFASystem(\n",
    "  rates=paths[\"dtb\"] + \"/kinetics.hdf5\",\n",
    "  species={\n",
    "    k: paths[\"dtb\"] + f\"/species/{k}.json\" for k in (\"atom\", \"molecule\")\n",
    "  },\n",
    "  use_einsum=False\n",
    ")\n",
    "model.update_fom_ops(T)"
   ]
  },
  {
   "cell_type": "markdown",
   "id": "25a407b1",
   "metadata": {},
   "source": [
    "> Molecule's levels"
   ]
  },
  {
   "cell_type": "code",
   "execution_count": null,
   "id": "8789aae1",
   "metadata": {},
   "outputs": [],
   "source": [
    "gi = model.species[\"molecule\"].lev[\"g\"]\n",
    "ei = model.species[\"molecule\"].lev['e'] / const.eV_to_J"
   ]
  },
  {
   "cell_type": "markdown",
   "id": "b2ae8c12",
   "metadata": {},
   "source": [
    "Balanced POD"
   ]
  },
  {
   "cell_type": "code",
   "execution_count": null,
   "id": "9e00f719",
   "metadata": {},
   "outputs": [],
   "source": [
    "os.makedirs(paths[\"data\"]+\"/figs/bases/\", exist_ok=True)"
   ]
  },
  {
   "cell_type": "code",
   "execution_count": null,
   "id": "11be0f63",
   "metadata": {},
   "outputs": [],
   "source": [
    "bases = h5todict(paths[\"data\"]+\"/bases.hdf5\")\n",
    "s, phi, psi = [bases[k].real for k in (\"s\", \"phi\", \"psi\")]"
   ]
  },
  {
   "cell_type": "code",
   "execution_count": null,
   "id": "c6becc3c",
   "metadata": {},
   "outputs": [],
   "source": [
    "# Cumulative energy\n",
    "cs = 1.0 / np.sum(s**2)\n",
    "cs *= np.cumsum(s**2)\n",
    "# Number of principal components\n",
    "eps = 1e-5\n",
    "rom_dim = np.where(cs > 1-eps)[0][0]+1\n",
    "rom_dim"
   ]
  },
  {
   "cell_type": "code",
   "execution_count": null,
   "id": "5f4b3319",
   "metadata": {},
   "outputs": [],
   "source": [
    "pltt.cum_energy(\n",
    "  cs[:rom_dims[-1]],\n",
    "  figname=paths[\"data\"]+\"/figs/bases/cum_en.png\",\n",
    "  save=saving,\n",
    "  show=showing\n",
    ")"
   ]
  },
  {
   "cell_type": "code",
   "execution_count": null,
   "id": "bccdbe34",
   "metadata": {},
   "outputs": [],
   "source": [
    "for i in range(rom_dims[-1]):\n",
    "  nb = str(i+1)\n",
    "  for (name, basis) in ((\"phi\", phi), (\"psi\", psi)):\n",
    "    pltt.dist_2d(\n",
    "      x=ei,\n",
    "      y=basis[:,i],\n",
    "      labels=[r\"$\\epsilon_i$ [eV]\", r\"$\\%s_{%s}$\" % (name, nb)],\n",
    "      scales=[\"linear\", \"linear\"],\n",
    "      figname=paths[\"data\"] + f\"/figs/bases/{name}_{nb.zfill(2)}.png\",\n",
    "      save=saving,\n",
    "      show=showing\n",
    "    )"
   ]
  },
  {
   "cell_type": "markdown",
   "id": "0fa33b96",
   "metadata": {},
   "source": [
    "FOM and ROM solutions"
   ]
  },
  {
   "cell_type": "code",
   "execution_count": null,
   "id": "b98a65dd",
   "metadata": {},
   "outputs": [],
   "source": [
    "t = get_tgrid(tgrid[\"lim\"], tgrid[\"pts\"])\n",
    "i = np.argwhere(t >= 1e-9)[0][0]\n",
    "j = np.argwhere(t >= 1e-3)[0][0]"
   ]
  },
  {
   "cell_type": "code",
   "execution_count": null,
   "id": "c2132434",
   "metadata": {},
   "outputs": [],
   "source": [
    "for (name, (T, p, Xa)) in ic.items():\n",
    "  y0 = get_y0(model, T, p, Xa)\n",
    "  yfom = solve_fom(model, t, *y0)\n",
    "  for r in rom_dims:\n",
    "    yrom = solve_rom(model, t, *y0, phi, psi, r)\n",
    "    # Postprocessing\n",
    "    path = paths[\"data\"]+f\"/figs/sol/{name}_r{r}/\"\n",
    "    os.makedirs(path, exist_ok=True)\n",
    "    plot_moments(\n",
    "      path,\n",
    "      t[i:j],\n",
    "      yfom[1][:,i:j],\n",
    "      yrom[1][:,i:j],\n",
    "      ei.reshape(-1,1),\n",
    "      max_mom=11\n",
    "    )"
   ]
  },
  {
   "cell_type": "code",
   "execution_count": null,
   "id": "cb10aabc",
   "metadata": {},
   "outputs": [],
   "source": []
  },
  {
   "cell_type": "code",
   "execution_count": null,
   "id": "3b2a2dbb",
   "metadata": {},
   "outputs": [],
   "source": []
  },
  {
   "cell_type": "code",
   "execution_count": null,
   "id": "ceb2703a",
   "metadata": {},
   "outputs": [],
   "source": []
  },
  {
   "cell_type": "code",
   "execution_count": null,
   "id": "d8629659",
   "metadata": {},
   "outputs": [],
   "source": [
    "def get_tgrid(t_lim, num):\n",
    "  t = np.geomspace(*t_lim, num=num-1)\n",
    "  t = np.insert(t, 0, 0.0)\n",
    "  return t\n",
    "\n",
    "def get_y0(T, p, Xa):\n",
    "  n = p / (const.UKB * T)\n",
    "  na = np.array([n * Xa]).reshape(-1)\n",
    "  qm = sp_mol.q_int(T)\n",
    "  nm = n * (1-Xa) * qm / np.sum(qm)\n",
    "  return na, nm\n",
    "\n",
    "def compute_fom(t, na_0, nm_0):\n",
    "  y0 = np.concatenate([na_0, nm_0])\n",
    "  y = model.solve(t, y0, ops=model.fom_ops, rtol=1e-7, atol=0.0)\n",
    "  return y[:1], y[1:]\n",
    "\n",
    "def compute_rom(t, na_0, nm_0, r=5):\n",
    "  # Update operators\n",
    "  model.set_basis(phi=phi[:,:r], psi=psi[:,:r])\n",
    "  model.update_rom_ops()\n",
    "  # Solve\n",
    "  y0 = np.concatenate([na_0, model.psi.T @ nm_0])\n",
    "  y = model.solve(t, y0, ops=model.rom_ops, rtol=1e-7, atol=0.0)\n",
    "  return y[:1], model.phi @ y[1:]"
   ]
  },
  {
   "cell_type": "code",
   "execution_count": null,
   "id": "47aae999",
   "metadata": {},
   "outputs": [],
   "source": [
    "t = np.geomspace(1e-12, 1e-3, num=199)\n",
    "t = np.insert(t, 0, 0.0)"
   ]
  },
  {
   "cell_type": "code",
   "execution_count": null,
   "id": "40dfc3c9",
   "metadata": {},
   "outputs": [],
   "source": [
    "n_0 = ic[\"p\"] / (const.UKB * ic[\"T\"])\n",
    "na_0 = np.array([n_0 * ic[\"Xa\"]]).reshape(-1)\n",
    "qm_0 = sp_mol.q_int(ic[\"T\"])\n",
    "nm_0 = n_0 * (1.0-ic[\"Xa\"]) * qm_0 / np.sum(qm_0)"
   ]
  },
  {
   "cell_type": "code",
   "execution_count": null,
   "id": "773ca8ee",
   "metadata": {},
   "outputs": [],
   "source": [
    "y0 = np.concatenate([na_0, nm_0])\n",
    "yf = model.solve(t, y0, ops=model.fom_ops, rtol=1e-7, atol=0.0)\n",
    "na, nm = yf[:1], yf[1:]"
   ]
  },
  {
   "cell_type": "code",
   "execution_count": null,
   "id": "8b695309",
   "metadata": {},
   "outputs": [],
   "source": [
    "s[:5]"
   ]
  },
  {
   "cell_type": "code",
   "execution_count": null,
   "id": "bac3f3c6",
   "metadata": {},
   "outputs": [],
   "source": [
    "phi[:,:5].imag"
   ]
  },
  {
   "cell_type": "markdown",
   "id": "5dbc5ad8",
   "metadata": {},
   "source": [
    "ROM Model - Testing"
   ]
  },
  {
   "cell_type": "code",
   "execution_count": null,
   "id": "66801a0b",
   "metadata": {},
   "outputs": [],
   "source": [
    "rom_dim = 10"
   ]
  },
  {
   "cell_type": "code",
   "execution_count": null,
   "id": "fa9f5603",
   "metadata": {},
   "outputs": [],
   "source": [
    "model.set_basis(phi=phi[:,:rom_dim], psi=psi[:,:rom_dim])\n",
    "model.update_rom_ops()"
   ]
  },
  {
   "cell_type": "code",
   "execution_count": null,
   "id": "f08ab4fb",
   "metadata": {},
   "outputs": [],
   "source": [
    "model.psi.T @ nm_0"
   ]
  },
  {
   "cell_type": "code",
   "execution_count": null,
   "id": "c74bd91d",
   "metadata": {},
   "outputs": [],
   "source": [
    "y0 = np.concatenate([na_0, model.psi.T @ nm_0])\n",
    "yr = model.solve(t, y0, ops=model.rom_ops, rtol=1e-7, atol=0.0)\n",
    "na_pred = yr[:1]\n",
    "nm_pred = model.phi @ yr[1:]"
   ]
  },
  {
   "cell_type": "markdown",
   "id": "cf24530b",
   "metadata": {},
   "source": [
    "FOM vs. ROM"
   ]
  },
  {
   "cell_type": "code",
   "execution_count": null,
   "id": "84cbffe1",
   "metadata": {},
   "outputs": [],
   "source": [
    "100 * np.mean(np.abs(na_pred - na) / np.abs(na))"
   ]
  },
  {
   "cell_type": "code",
   "execution_count": null,
   "id": "dd930691",
   "metadata": {},
   "outputs": [],
   "source": [
    "plt.loglog(t, na.squeeze())\n",
    "plt.loglog(t, na_pred.squeeze(), ls='--')"
   ]
  },
  {
   "cell_type": "code",
   "execution_count": null,
   "id": "5f3492f3",
   "metadata": {},
   "outputs": [],
   "source": [
    "one = np.ones_like(ei)"
   ]
  },
  {
   "cell_type": "code",
   "execution_count": null,
   "id": "76cef275",
   "metadata": {},
   "outputs": [],
   "source": [
    "m = nm.T @ one\n",
    "m_pred = nm_pred.T @ one\n",
    "100 * np.mean(np.abs(m_pred - m) / np.abs(m))"
   ]
  },
  {
   "cell_type": "code",
   "execution_count": null,
   "id": "a6b5b06e",
   "metadata": {},
   "outputs": [],
   "source": [
    "plt.loglog(t, m.squeeze())\n",
    "plt.loglog(t, m_pred.squeeze(), ls='--')"
   ]
  },
  {
   "cell_type": "code",
   "execution_count": null,
   "id": "d5f81304",
   "metadata": {},
   "outputs": [],
   "source": [
    "e = nm.T @ ei / m\n",
    "e_pred = nm_pred.T @ ei / m_pred\n",
    "100 * np.mean(np.abs(e_pred - e) / np.abs(e))"
   ]
  },
  {
   "cell_type": "code",
   "execution_count": null,
   "id": "9a47784e",
   "metadata": {},
   "outputs": [],
   "source": [
    "45**3/10**3"
   ]
  },
  {
   "cell_type": "code",
   "execution_count": null,
   "id": "d0c4e967",
   "metadata": {},
   "outputs": [],
   "source": [
    "plt.loglog(t, e.squeeze())\n",
    "plt.loglog(t, e_pred.squeeze(), ls='--')"
   ]
  },
  {
   "cell_type": "code",
   "execution_count": null,
   "id": "2eb386a4",
   "metadata": {},
   "outputs": [],
   "source": [
    "# Plot distributions\n",
    "for i in range(0,200,30):\n",
    "  print(\"t = \",t[i])\n",
    "  plot_2D(\n",
    "    x=ei,\n",
    "    y_true=nm[:,i] / sp_mol.lev[\"g\"],\n",
    "    y_pred=nm_pred[:,i] / sp_mol.lev[\"g\"],\n",
    "    scales=[\"linear\", \"log\"],\n",
    "    filename=paths[\"data\"] + f\"/figs/sol_2d_i{str(i).zfill(4)}_rom.png\",\n",
    "    save=saving,\n",
    "    show=showing\n",
    "  )"
   ]
  },
  {
   "cell_type": "code",
   "execution_count": null,
   "id": "16189d10",
   "metadata": {},
   "outputs": [],
   "source": [
    "i = np.argwhere(t >= 1e-9)[0][0]\n",
    "j = np.argwhere(t >= 1e-4)[0][0]\n",
    "y = {\n",
    "  \"FOM\": nm.T[i:j] / gi,\n",
    "  \"ROM\": nm_pred.T[i:j] / gi\n",
    "}"
   ]
  },
  {
   "cell_type": "code",
   "execution_count": null,
   "id": "ba1cf7a1",
   "metadata": {},
   "outputs": [],
   "source": [
    "# animate(\n",
    "#   t=t[i:j],\n",
    "#   x=ei,\n",
    "#   y=y,\n",
    "#   frames=50,\n",
    "#   fps=10,\n",
    "#   filename=paths[\"data\"] + f\"/figs/lev_dist_T0{int(ic['T'])}K_r{rom_dim}.gif\",\n",
    "#   save=saving,\n",
    "#   show=showing\n",
    "# )"
   ]
  }
 ],
 "metadata": {
  "kernelspec": {
   "display_name": "sciml",
   "language": "python",
   "name": "python3"
  },
  "language_info": {
   "codemirror_mode": {
    "name": "ipython",
    "version": 3
   },
   "file_extension": ".py",
   "mimetype": "text/x-python",
   "name": "python",
   "nbconvert_exporter": "python",
   "pygments_lexer": "ipython3",
   "version": "3.8.15"
  }
 },
 "nbformat": 4,
 "nbformat_minor": 5
}
