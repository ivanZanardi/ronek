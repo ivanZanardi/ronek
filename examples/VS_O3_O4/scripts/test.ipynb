{
 "cells": [
  {
   "cell_type": "markdown",
   "id": "11e7d091",
   "metadata": {},
   "source": [
    "Environment"
   ]
  },
  {
   "cell_type": "code",
   "execution_count": null,
   "id": "2c8ff0da",
   "metadata": {},
   "outputs": [],
   "source": [
    "import os\n",
    "import sys\n",
    "import importlib\n",
    "if (importlib.util.find_spec(\"ronek\") is None):\n",
    "  sys.path.append(\"./../../../\")\n",
    "\n",
    "from ronek import env\n",
    "env.set(\n",
    "  device=\"cpu\",\n",
    "  device_idx=0,\n",
    "  nb_threads=8,\n",
    "  floatx=\"float64\"\n",
    ")"
   ]
  },
  {
   "cell_type": "markdown",
   "id": "celtic-chain",
   "metadata": {},
   "source": [
    "Import libraries"
   ]
  },
  {
   "cell_type": "code",
   "execution_count": null,
   "id": "8dba1102",
   "metadata": {},
   "outputs": [],
   "source": [
    "import numpy as np\n",
    "\n",
    "from utils import *\n",
    "from ronek import const\n",
    "from ronek.systems import TAFASystem\n",
    "from silx.io.dictdump import h5todict"
   ]
  },
  {
   "cell_type": "markdown",
   "id": "alternate-creature",
   "metadata": {},
   "source": [
    "Define inputs"
   ]
  },
  {
   "cell_type": "code",
   "execution_count": null,
   "id": "767ad139",
   "metadata": {},
   "outputs": [],
   "source": [
    "# System\n",
    "T = 1e4\n",
    "ic = {\n",
    "  \"cold\": [5e2, 1e3, 5e-2],\n",
    "  \"hot\":  [3e3, 1e3, 5e-2]\n",
    "}\n",
    "tgrid = {\n",
    "  \"lim\": [1e-9, 1e-3],\n",
    "  \"num\": 501\n",
    "}\n",
    "teval = {\n",
    "  \"cold\": [1e-8, 1e-7, 7e-7, 3e-6, 1e-4],\n",
    "  \"hot\":  [1e-7, 1e-6, 4e-6, 2e-5, 1e-3]\n",
    "}\n",
    "# rom_dims = list(range(8,15,2))\n",
    "rom_dims = list(range(4,7))\n",
    "# Paths\n",
    "paths = {\n",
    "  \"dtb\": \"./../database/\",\n",
    "  \"data\": \"./data/max_mom_2/\"\n",
    "}\n",
    "# Plotting distribution\n",
    "pltt_dist = False"
   ]
  },
  {
   "cell_type": "markdown",
   "id": "4c6da0ca",
   "metadata": {},
   "source": [
    "Initialize isothermal master equation model"
   ]
  },
  {
   "cell_type": "code",
   "execution_count": null,
   "id": "8a540f89",
   "metadata": {},
   "outputs": [],
   "source": [
    "model = TAFASystem(\n",
    "  rates=paths[\"dtb\"] + \"/kinetics.hdf5\",\n",
    "  species={\n",
    "    k: paths[\"dtb\"] + f\"/species/{k}.json\" for k in (\"atom\", \"molecule\")\n",
    "  },\n",
    "  use_einsum=False\n",
    ")\n",
    "model.update_fom_ops(T)"
   ]
  },
  {
   "cell_type": "markdown",
   "id": "25a407b1",
   "metadata": {},
   "source": [
    "> Molecule's levels"
   ]
  },
  {
   "cell_type": "code",
   "execution_count": null,
   "id": "8789aae1",
   "metadata": {},
   "outputs": [],
   "source": [
    "gi = model.species[\"molecule\"].lev[\"g\"]\n",
    "ei = model.species[\"molecule\"].lev['e'] / const.eV_to_J"
   ]
  },
  {
   "cell_type": "markdown",
   "id": "b2ae8c12",
   "metadata": {},
   "source": [
    "Balanced POD"
   ]
  },
  {
   "cell_type": "code",
   "execution_count": null,
   "id": "9e00f719",
   "metadata": {},
   "outputs": [],
   "source": [
    "os.makedirs(paths[\"data\"]+\"/figs/bases/\", exist_ok=True)"
   ]
  },
  {
   "cell_type": "code",
   "execution_count": null,
   "id": "11be0f63",
   "metadata": {},
   "outputs": [],
   "source": [
    "bases = h5todict(paths[\"data\"]+\"/bases.hdf5\")\n",
    "s, phi, psi = [bases[k] for k in (\"s\", \"phi\", \"psi\")]"
   ]
  },
  {
   "cell_type": "code",
   "execution_count": null,
   "id": "c6becc3c",
   "metadata": {},
   "outputs": [],
   "source": [
    "# Cumulative energy\n",
    "cs = 1.0 / np.sum(s**2)\n",
    "cs *= np.cumsum(s**2)\n",
    "# Number of principal components\n",
    "eps = 1e-5\n",
    "rom_dim = np.where(cs > 1-eps)[0][0]+1\n",
    "rom_dim"
   ]
  },
  {
   "cell_type": "code",
   "execution_count": null,
   "id": "5f4b3319",
   "metadata": {},
   "outputs": [],
   "source": [
    "pltt.cum_energy(\n",
    "  cs[:rom_dims[-1]],\n",
    "  figname=paths[\"data\"]+\"/figs/bases/cum_en.png\",\n",
    "  save=True,\n",
    "  show=False\n",
    ")"
   ]
  },
  {
   "cell_type": "code",
   "execution_count": null,
   "id": "bccdbe34",
   "metadata": {},
   "outputs": [],
   "source": [
    "for i in range(rom_dims[-1]):\n",
    "  nb = str(i+1)\n",
    "  for (name, basis) in ((\"phi\", phi), (\"psi\", psi)):\n",
    "    pltt.dist_2d(\n",
    "      x=ei,\n",
    "      y=basis[:,i],\n",
    "      labels=[r\"$\\epsilon_i$ [eV]\", r\"$\\%s_{%s}$\" % (name, nb)],\n",
    "      scales=[\"linear\", \"linear\"],\n",
    "      figname=paths[\"data\"] + f\"/figs/bases/{name}_{nb.zfill(2)}.png\",\n",
    "      save=True,\n",
    "      show=False\n",
    "    )"
   ]
  },
  {
   "cell_type": "markdown",
   "id": "0fa33b96",
   "metadata": {},
   "source": [
    "FOM and ROM solutions"
   ]
  },
  {
   "cell_type": "code",
   "execution_count": null,
   "id": "c2132434",
   "metadata": {},
   "outputs": [],
   "source": [
    "t = get_tgrid(tgrid[\"lim\"], tgrid[\"num\"])\n",
    "for (name, (T, p, Xa)) in ic.items():\n",
    "  y0 = get_y0(model, T, p, Xa)\n",
    "  # Solving\n",
    "  yfom = solve_fom(model, t, y0)\n",
    "  for r in rom_dims:\n",
    "    yrom = solve_rom(model, t, y0, phi, psi, r, abs=False)\n",
    "    # Postprocessing\n",
    "    path = paths[\"data\"]+f\"/figs/sol/{name}_r{r}/\"\n",
    "    os.makedirs(path, exist_ok=True)\n",
    "    # > Moments\n",
    "    plot_moments(path, t, yfom[1], yrom[1], ei.reshape(-1,1), max_mom=5)\n",
    "    if pltt_dist:\n",
    "      # > Distribution static\n",
    "      plot_dist(path, teval[name], t, yfom[1], yrom[1], ei, gi)\n",
    "      # > Distribution dynamic\n",
    "      animate_dist(path, t, yfom[1], yrom[1], ei, gi)"
   ]
  }
 ],
 "metadata": {
  "kernelspec": {
   "display_name": "sciml",
   "language": "python",
   "name": "python3"
  },
  "language_info": {
   "codemirror_mode": {
    "name": "ipython",
    "version": 3
   },
   "file_extension": ".py",
   "mimetype": "text/x-python",
   "name": "python",
   "nbconvert_exporter": "python",
   "pygments_lexer": "ipython3",
   "version": "3.8.15"
  }
 },
 "nbformat": 4,
 "nbformat_minor": 5
}
