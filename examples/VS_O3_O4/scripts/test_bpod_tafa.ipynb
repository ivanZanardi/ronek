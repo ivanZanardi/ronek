{
 "cells": [
  {
   "cell_type": "markdown",
   "id": "11e7d091",
   "metadata": {},
   "source": [
    "Environment"
   ]
  },
  {
   "cell_type": "code",
   "execution_count": null,
   "id": "2c8ff0da",
   "metadata": {},
   "outputs": [],
   "source": [
    "import os\n",
    "import sys\n",
    "sys.path.append(\"./../\")"
   ]
  },
  {
   "cell_type": "code",
   "execution_count": null,
   "id": "d4e416d6",
   "metadata": {},
   "outputs": [],
   "source": [
    "from src import env\n",
    "env.set(\n",
    "  backend=\"torch\",\n",
    "  device=\"cpu\",\n",
    "  device_idx=1,\n",
    "  nb_threads=16,\n",
    "  epsilon=1e-10,\n",
    "  floatx=\"float64\"\n",
    ")"
   ]
  },
  {
   "cell_type": "markdown",
   "id": "celtic-chain",
   "metadata": {},
   "source": [
    "Import libraries"
   ]
  },
  {
   "cell_type": "code",
   "execution_count": null,
   "id": "a341559b",
   "metadata": {},
   "outputs": [],
   "source": [
    "import torch\n",
    "import numpy as np\n",
    "\n",
    "from src import const\n",
    "from src.utils import *\n",
    "from src.systems import TAFASystem\n",
    "from matplotlib import pyplot as plt"
   ]
  },
  {
   "cell_type": "code",
   "execution_count": null,
   "id": "offensive-collection",
   "metadata": {},
   "outputs": [],
   "source": [
    "from scipy import constants\n",
    "from scipy.constants import physical_constants as pc\n",
    "\n",
    "UNA = pc[\"Avogadro constant\"][0]\n",
    "UKB = pc[\"Boltzmann constant\"][0]\n",
    "eV_to_J = constants.eV"
   ]
  },
  {
   "cell_type": "markdown",
   "id": "alternate-creature",
   "metadata": {},
   "source": [
    "Define inputs"
   ]
  },
  {
   "cell_type": "code",
   "execution_count": null,
   "id": "767ad139",
   "metadata": {},
   "outputs": [],
   "source": [
    "# System\n",
    "T = 1e4\n",
    "ic = {\n",
    "  \"T\": 4000,\n",
    "  \"p\": 1000,\n",
    "  \"Xa\": 0.05\n",
    "}\n",
    "atom = \"O\"\n",
    "molecule = \"O2\"\n",
    "max_mom = 10\n",
    "# Paths\n",
    "paths = {\n",
    "  \"dtb\": \"./../database/VS_O3_O4/\",\n",
    "  \"bpod\": f\"./../data/bpod_lin_tafa.T{int(T)}K.m{max_mom}\"\n",
    "}\n",
    "# Plotting\n",
    "saving = True\n",
    "showing = False"
   ]
  },
  {
   "cell_type": "code",
   "execution_count": null,
   "id": "e66f210f",
   "metadata": {},
   "outputs": [],
   "source": [
    "if saving:\n",
    "  os.makedirs(paths[\"bpod\"]+\"/figs\", exist_ok=True)"
   ]
  },
  {
   "cell_type": "markdown",
   "id": "4c6da0ca",
   "metadata": {},
   "source": [
    "Initialize isothermal master equation model"
   ]
  },
  {
   "cell_type": "code",
   "execution_count": null,
   "id": "8a540f89",
   "metadata": {},
   "outputs": [],
   "source": [
    "model = TAFASystem(\n",
    "  rates=paths[\"dtb\"]+\"kinetics.hdf5\",\n",
    "  species={k: paths[\"dtb\"]+f\"species/{k}.json\" for k in (\"atom\", \"molecule\")},\n",
    "  use_einsum=False\n",
    ")\n",
    "model.update_fom_ops(T)\n",
    "sp_mol = model.species[\"molecule\"]"
   ]
  },
  {
   "cell_type": "code",
   "execution_count": null,
   "id": "8789aae1",
   "metadata": {},
   "outputs": [],
   "source": [
    "gi = sp_mol.lev[\"g\"]\n",
    "ei = sp_mol.lev['e']/const.eV_to_J"
   ]
  },
  {
   "cell_type": "markdown",
   "id": "c9766630",
   "metadata": {},
   "source": [
    "FOM solution"
   ]
  },
  {
   "cell_type": "code",
   "execution_count": null,
   "id": "47aae999",
   "metadata": {},
   "outputs": [],
   "source": [
    "t = np.geomspace(1e-12, 1e-3, num=199)\n",
    "t = np.insert(t, 0, 0.0)"
   ]
  },
  {
   "cell_type": "code",
   "execution_count": null,
   "id": "40dfc3c9",
   "metadata": {},
   "outputs": [],
   "source": [
    "n_0 = ic[\"p\"] / (const.UKB * ic[\"T\"])\n",
    "na_0 = np.array([n_0 * ic[\"Xa\"]]).reshape(-1)\n",
    "qm_0 = sp_mol.q_int(ic[\"T\"])\n",
    "nm_0 = n_0 * (1.0-ic[\"Xa\"]) * qm_0 / np.sum(qm_0)"
   ]
  },
  {
   "cell_type": "code",
   "execution_count": null,
   "id": "773ca8ee",
   "metadata": {},
   "outputs": [],
   "source": [
    "y0 = np.concatenate([na_0, nm_0])\n",
    "yf = model.solve(t, y0, ops=model.fom_ops, rtol=1e-7, atol=0.0)\n",
    "na, nm = yf[:1], yf[1:]"
   ]
  },
  {
   "cell_type": "markdown",
   "id": "b2ae8c12",
   "metadata": {},
   "source": [
    "Balanced POD"
   ]
  },
  {
   "cell_type": "code",
   "execution_count": null,
   "id": "11be0f63",
   "metadata": {},
   "outputs": [],
   "source": [
    "s, phi, psi = [\n",
    "  torch.load(paths[\"bpod\"]+f\"/{k}.pt\").numpy() for k in (\"s\", \"phi\", \"psi\")\n",
    "]"
   ]
  },
  {
   "cell_type": "code",
   "execution_count": null,
   "id": "e99dd197",
   "metadata": {},
   "outputs": [],
   "source": [
    "cs = 1.0 / np.sum(s**2)\n",
    "cs *= np.cumsum(s**2)"
   ]
  },
  {
   "cell_type": "code",
   "execution_count": null,
   "id": "c6becc3c",
   "metadata": {},
   "outputs": [],
   "source": [
    "# Number of principal components\n",
    "eps = 1e-5\n",
    "romdim = np.where(cs > 1-eps)[0][0]+1\n",
    "romdim"
   ]
  },
  {
   "cell_type": "code",
   "execution_count": null,
   "id": "5f4b3319",
   "metadata": {},
   "outputs": [],
   "source": [
    "dimmax = 20\n",
    "plot_cumenergy(\n",
    "  cs[:dimmax],\n",
    "  filename=paths[\"bpod\"] + \"/figs/cum_en.png\",\n",
    "  save=saving,\n",
    "  show=showing\n",
    ")"
   ]
  },
  {
   "cell_type": "code",
   "execution_count": null,
   "id": "bccdbe34",
   "metadata": {},
   "outputs": [],
   "source": [
    "for i in range(dimmax):\n",
    "  nb = str(i+1)\n",
    "  plot_2D(\n",
    "    x=sp_mol.lev['e']/const.eV_to_J,\n",
    "    y_true=phi[:,i],\n",
    "    labels=[r\"$\\epsilon_i$ [eV]\", r\"$\\psi_{{%s}}$\" % nb],\n",
    "    scales=[\"linear\", \"linear\"],\n",
    "    filename=paths[\"bpod\"] + f\"/figs/phi_{nb.zfill(2)}.png\",\n",
    "    save=saving,\n",
    "    show=showing\n",
    "  )"
   ]
  },
  {
   "cell_type": "markdown",
   "id": "5dbc5ad8",
   "metadata": {},
   "source": [
    "ROM Model - Testing"
   ]
  },
  {
   "cell_type": "code",
   "execution_count": null,
   "id": "66801a0b",
   "metadata": {},
   "outputs": [],
   "source": [
    "rom_dim = 10"
   ]
  },
  {
   "cell_type": "code",
   "execution_count": null,
   "id": "fa9f5603",
   "metadata": {},
   "outputs": [],
   "source": [
    "model.set_basis(phi=phi[:,:rom_dim], psi=psi[:,:rom_dim])\n",
    "model.update_rom_ops()"
   ]
  },
  {
   "cell_type": "code",
   "execution_count": null,
   "id": "c74bd91d",
   "metadata": {},
   "outputs": [],
   "source": [
    "y0 = np.concatenate([na_0, model.psi.T @ nm_0])\n",
    "yr = model.solve(t, y0, ops=model.rom_ops, rtol=1e-7, atol=0.0)\n",
    "na_pred = yr[:1]\n",
    "nm_pred = model.phi @ yr[1:]"
   ]
  },
  {
   "cell_type": "markdown",
   "id": "cf24530b",
   "metadata": {},
   "source": [
    "FOM vs. ROM"
   ]
  },
  {
   "cell_type": "code",
   "execution_count": null,
   "id": "84cbffe1",
   "metadata": {},
   "outputs": [],
   "source": [
    "100 * np.mean(np.abs(na_pred - na) / np.abs(na))"
   ]
  },
  {
   "cell_type": "code",
   "execution_count": null,
   "id": "dd930691",
   "metadata": {},
   "outputs": [],
   "source": [
    "plt.loglog(t, na.squeeze())\n",
    "plt.loglog(t, na_pred.squeeze(), ls='--')"
   ]
  },
  {
   "cell_type": "code",
   "execution_count": null,
   "id": "5f3492f3",
   "metadata": {},
   "outputs": [],
   "source": [
    "one = np.ones_like(ei)"
   ]
  },
  {
   "cell_type": "code",
   "execution_count": null,
   "id": "76cef275",
   "metadata": {},
   "outputs": [],
   "source": [
    "m = nm.T @ one\n",
    "m_pred = nm_pred.T @ one\n",
    "100 * np.mean(np.abs(m_pred - m) / np.abs(m))"
   ]
  },
  {
   "cell_type": "code",
   "execution_count": null,
   "id": "a6b5b06e",
   "metadata": {},
   "outputs": [],
   "source": [
    "plt.loglog(t, m.squeeze())\n",
    "plt.loglog(t, m_pred.squeeze(), ls='--')"
   ]
  },
  {
   "cell_type": "code",
   "execution_count": null,
   "id": "d5f81304",
   "metadata": {},
   "outputs": [],
   "source": [
    "e = nm.T @ ei / m\n",
    "e_pred = nm_pred.T @ ei / m_pred\n",
    "100 * np.mean(np.abs(e_pred - e) / np.abs(e))"
   ]
  },
  {
   "cell_type": "code",
   "execution_count": null,
   "id": "9a47784e",
   "metadata": {},
   "outputs": [],
   "source": [
    "45**3/10**3"
   ]
  },
  {
   "cell_type": "code",
   "execution_count": null,
   "id": "d0c4e967",
   "metadata": {},
   "outputs": [],
   "source": [
    "plt.loglog(t, e.squeeze())\n",
    "plt.loglog(t, e_pred.squeeze(), ls='--')"
   ]
  },
  {
   "cell_type": "code",
   "execution_count": null,
   "id": "2eb386a4",
   "metadata": {},
   "outputs": [],
   "source": [
    "# Plot distributions\n",
    "for i in range(0,200,30):\n",
    "  print(\"t = \",t[i])\n",
    "  plot_2D(\n",
    "    x=ei,\n",
    "    y_true=nm[:,i] / sp_mol.lev[\"g\"],\n",
    "    y_pred=nm_pred[:,i] / sp_mol.lev[\"g\"],\n",
    "    scales=[\"linear\", \"log\"],\n",
    "    filename=paths[\"bpod\"] + f\"/figs/sol_2d_i{str(i).zfill(4)}_rom.png\",\n",
    "    save=saving,\n",
    "    show=showing\n",
    "  )"
   ]
  },
  {
   "cell_type": "code",
   "execution_count": null,
   "id": "16189d10",
   "metadata": {},
   "outputs": [],
   "source": [
    "i = np.argwhere(t >= 1e-9)[0][0]\n",
    "j = np.argwhere(t >= 1e-4)[0][0]\n",
    "y = {\n",
    "  \"FOM\": nm.T[i:j] / gi,\n",
    "  \"ROM\": nm_pred.T[i:j] / gi\n",
    "}"
   ]
  },
  {
   "cell_type": "code",
   "execution_count": null,
   "id": "ba1cf7a1",
   "metadata": {},
   "outputs": [],
   "source": [
    "# animate(\n",
    "#   t=t[i:j],\n",
    "#   x=ei,\n",
    "#   y=y,\n",
    "#   frames=50,\n",
    "#   fps=10,\n",
    "#   filename=paths[\"bpod\"] + f\"/figs/lev_dist_T0{int(ic['T'])}K_r{rom_dim}.gif\",\n",
    "#   save=saving,\n",
    "#   show=showing\n",
    "# )"
   ]
  }
 ],
 "metadata": {
  "kernelspec": {
   "display_name": "sciml",
   "language": "python",
   "name": "python3"
  },
  "language_info": {
   "codemirror_mode": {
    "name": "ipython",
    "version": 3
   },
   "file_extension": ".py",
   "mimetype": "text/x-python",
   "name": "python",
   "nbconvert_exporter": "python",
   "pygments_lexer": "ipython3",
   "version": "3.8.15"
  }
 },
 "nbformat": 4,
 "nbformat_minor": 5
}
