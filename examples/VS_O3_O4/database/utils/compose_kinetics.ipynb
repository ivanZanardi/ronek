{
 "cells": [
  {
   "cell_type": "code",
   "execution_count": 1,
   "id": "a1ba1c77",
   "metadata": {},
   "outputs": [],
   "source": [
    "import os\n",
    "import json\n",
    "import numpy as np\n",
    "\n",
    "from silx.io.dictdump import h5todict, dicttoh5"
   ]
  },
  {
   "cell_type": "code",
   "execution_count": 2,
   "id": "6511bd45",
   "metadata": {},
   "outputs": [],
   "source": [
    "cm3_to_m3 = 1e-6"
   ]
  },
  {
   "cell_type": "markdown",
   "id": "21111d8a",
   "metadata": {},
   "source": [
    "Inputs"
   ]
  },
  {
   "cell_type": "code",
   "execution_count": 3,
   "id": "d1d709e8-d714-466b-aa2f-bfd235333a83",
   "metadata": {},
   "outputs": [],
   "source": [
    "nb_states = 45\n",
    "# Databases\n",
    "kin_file = {\n",
    "  \"RVS\": \"/home/zanardi/Workspace/AirDatabase/HDF5/QCT/Orig/O3_UMN.hdf5\",\n",
    "  \"VS\": \"/home/zanardi/Workspace/AirDatabase/HDF5/QCT/Orig/O4_UMN_VSM.hdf5\"\n",
    "}\n",
    "mol_file = \"./../species/molecule.json\""
   ]
  },
  {
   "cell_type": "code",
   "execution_count": 4,
   "id": "7fa29e71",
   "metadata": {},
   "outputs": [],
   "source": [
    "# Save path\n",
    "out_path = \"./../\"\n",
    "os.makedirs(out_path, exist_ok=True)"
   ]
  },
  {
   "cell_type": "markdown",
   "id": "df83f90c",
   "metadata": {},
   "source": [
    "Read databases"
   ]
  },
  {
   "cell_type": "code",
   "execution_count": 5,
   "id": "8dd46cb9",
   "metadata": {},
   "outputs": [],
   "source": [
    "kinetics = {k: h5todict(filename) for (k, filename) in kin_file.items()}\n",
    "with open(mol_file, 'r') as file:\n",
    "  molecule = json.load(file)\n",
    "ei = np.array(molecule[\"lev\"][\"e\"])"
   ]
  },
  {
   "cell_type": "markdown",
   "id": "79b7103e",
   "metadata": {},
   "source": [
    "Kinetics database"
   ]
  },
  {
   "cell_type": "code",
   "execution_count": 6,
   "id": "7253279d",
   "metadata": {},
   "outputs": [],
   "source": [
    "kin_dtb = {}"
   ]
  },
  {
   "cell_type": "markdown",
   "id": "7e69b267",
   "metadata": {},
   "source": [
    "> Molecule - Atom collisions"
   ]
  },
  {
   "cell_type": "code",
   "execution_count": 7,
   "id": "fba4ae55",
   "metadata": {},
   "outputs": [],
   "source": [
    "ma_dtb = kinetics['RVS'][\"CGRates\"][\"VS45\"]['Arrhenius']"
   ]
  },
  {
   "cell_type": "code",
   "execution_count": 8,
   "id": "a2d1367f",
   "metadata": {},
   "outputs": [],
   "source": [
    "kin_dtb[\"m-a\"] = {}\n",
    "for (k, rates) in ma_dtb.items():\n",
    "  if (k == \"Proc6\"):\n",
    "    continue\n",
    "  if (k == \"Proc2\"):\n",
    "    p = \"d\"\n",
    "    shape = (nb_states,1,1,1,1)\n",
    "  else:\n",
    "    p = \"e\"\n",
    "    shape = (nb_states,1,nb_states,1)\n",
    "    # Remove endothermic processes\n",
    "    triu_i = np.triu_indices(nb_states)\n",
    "    rates[\"A\"][triu_i[0],triu_i[1]] = 0.0\n",
    "  # Reshape\n",
    "  rates = {k: p.reshape(shape) for (k, p) in rates.items()}\n",
    "  # Rescale\n",
    "  rates[\"A\"] *= cm3_to_m3\n",
    "  # Store\n",
    "  kin_dtb[\"m-a\"][p] = rates"
   ]
  },
  {
   "cell_type": "markdown",
   "id": "3757b64d",
   "metadata": {},
   "source": [
    "> Molecule - Molecule collisions"
   ]
  },
  {
   "cell_type": "code",
   "execution_count": 9,
   "id": "7bce42aa",
   "metadata": {},
   "outputs": [],
   "source": [
    "mm_dtb = kinetics['VS'][\"T_10000_10000\"][\"Rates\"]"
   ]
  },
  {
   "cell_type": "code",
   "execution_count": 10,
   "id": "51195ed3",
   "metadata": {},
   "outputs": [],
   "source": [
    "kin_dtb[\"m-m\"] = {}\n",
    "for (k, rates) in mm_dtb.items():\n",
    "  if (k == \"Diss\"):\n",
    "    p = \"d\"\n",
    "    shape = (nb_states,nb_states,1,1,1,1)\n",
    "    rates = rates[...,0]\n",
    "  elif (k == \"DissInel\"):\n",
    "    p = \"ed\"\n",
    "    shape = (nb_states,nb_states,1,1,nb_states)\n",
    "    rates = rates[...,0]\n",
    "  else:\n",
    "    p = \"e\"\n",
    "    shape = tuple([nb_states]*4)\n",
    "    # Remove endothermic processes\n",
    "    eij = ei.reshape(1,-1) + ei.reshape(-1,1)\n",
    "    for i in range(nb_states):\n",
    "      for j in range(nb_states):\n",
    "        rates[i,j][eij[i,j] <= eij] = 0.0\n",
    "  # Reshape and rescale\n",
    "  rates = rates.reshape(shape) * cm3_to_m3\n",
    "  # Store\n",
    "  if (p in kin_dtb[\"m-m\"]):\n",
    "    kin_dtb[\"m-m\"][p] += rates\n",
    "  else:\n",
    "    kin_dtb[\"m-m\"][p] = rates"
   ]
  },
  {
   "cell_type": "code",
   "execution_count": 11,
   "id": "5af48b91",
   "metadata": {},
   "outputs": [],
   "source": [
    "# Set Arrhenius parameters\n",
    "for (p, rates) in kin_dtb[\"m-m\"].items():\n",
    "  zeros = np.zeros_like(rates)\n",
    "  kin_dtb[\"m-m\"][p] = {\"A\": rates, \"beta\": zeros, \"Ta\": zeros}"
   ]
  },
  {
   "cell_type": "markdown",
   "id": "17170886",
   "metadata": {},
   "source": [
    "> Save database"
   ]
  },
  {
   "cell_type": "code",
   "execution_count": 12,
   "id": "c657093f",
   "metadata": {},
   "outputs": [],
   "source": [
    "dicttoh5(kin_dtb, out_path + \"/kinetics.hdf5\")"
   ]
  }
 ],
 "metadata": {
  "kernelspec": {
   "display_name": "Python 3 (ipykernel)",
   "language": "python",
   "name": "python3"
  },
  "language_info": {
   "codemirror_mode": {
    "name": "ipython",
    "version": 3
   },
   "file_extension": ".py",
   "mimetype": "text/x-python",
   "name": "python",
   "nbconvert_exporter": "python",
   "pygments_lexer": "ipython3",
   "version": "3.8.15"
  }
 },
 "nbformat": 4,
 "nbformat_minor": 5
}
